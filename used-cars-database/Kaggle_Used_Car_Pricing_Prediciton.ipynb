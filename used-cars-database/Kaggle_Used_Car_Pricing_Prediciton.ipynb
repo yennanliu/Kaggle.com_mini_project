{
 "cells": [
  {
   "cell_type": "markdown",
   "metadata": {},
   "source": [
    "# Process :\n",
    "    - DATA PREPROCESS \n",
    "    - SELECT MODELS \n",
    "    - FEATURE ENGINEERING \n",
    "    - PREDICTION ENSEMBLE \n",
    "\n",
    "#  Model :  \n",
    "    - GROUP A : LINEAR + SVR\n",
    "    - GROUP B : LINEAR + DECISION TREE (RANDOM FOREST)\n",
    "    \n",
    "# Ref :\n",
    "\n",
    "\n",
    "- https://www.kaggle.com/orgesleka/used-cars-database\n",
    "- https://www.slideshare.net/changecandy/cm-kaggletw-share\n",
    "\n",
    "\n",
    "# ========================================================="
   ]
  },
  {
   "cell_type": "raw",
   "metadata": {},
   "source": [
    "### DATA SET DESCRIPTION  ###\n",
    "\n",
    "\n",
    "dateCrawled : when this ad was first crawled, all field-values are taken from this date\n",
    "name : \"name\" of the car\n",
    "seller : private or dealer\n",
    "offerType\n",
    "price : the price on the ad to sell the car\n",
    "abtest\n",
    "vehicleType\n",
    "yearOfRegistration : at which year the car was first registered\n",
    "gearbox\n",
    "powerPS : power of the car in PS\n",
    "model\n",
    "kilometer : how many kilometers the car has driven\n",
    "monthOfRegistration : at which month the car was first registered\n",
    "fuelType\n",
    "brand\n",
    "notRepairedDamage : if the car has a damage which is not repaired yet\n",
    "dateCreated : the date for which the ad at ebay was created\n",
    "nrOfPictures : number of pictures in the ad (unfortunately this field contains everywhere a 0 and is thus useless (bug in crawler!) )\n",
    "postalCode\n",
    "lastSeenOnline : when the crawler saw this ad last online\n",
    "\n",
    "### DATA SET DESCRIPTION  ###\n"
   ]
  },
  {
   "cell_type": "code",
   "execution_count": 271,
   "metadata": {},
   "outputs": [
    {
     "name": "stdout",
     "output_type": "stream",
     "text": [
      "Populating the interactive namespace from numpy and matplotlib\n"
     ]
    }
   ],
   "source": [
    "# Load basics library \n",
    "\n",
    "import pandas as pd, numpy as np\n",
    "%matplotlib inline\n",
    "%pylab inline\n",
    "import seaborn  as sns \n",
    "import pylab as pl\n",
    "import matplotlib.pyplot as plt"
   ]
  },
  {
   "cell_type": "markdown",
   "metadata": {},
   "source": [
    "# * Data Preprocess "
   ]
  },
  {
   "cell_type": "code",
   "execution_count": 272,
   "metadata": {},
   "outputs": [],
   "source": [
    "# load car csv \n",
    "\n",
    "df = pd.read_csv('/Users/yennanliu/Desktop/used-cars-database/autos.csv' ,encoding = \"ISO-8859-1\" )"
   ]
  },
  {
   "cell_type": "code",
   "execution_count": 273,
   "metadata": {},
   "outputs": [],
   "source": [
    "df = df.drop(['nrOfPictures','postalCode','abtest'], axis=1)"
   ]
  },
  {
   "cell_type": "markdown",
   "metadata": {},
   "source": [
    "- Drop columns :  nrOfPictures, postalCode, abtest \n",
    "   - nrOfPictures  are all 0 \n",
    "   - postalCode is not related to car price apparently\n",
    "   - abtest has no description"
   ]
  },
  {
   "cell_type": "code",
   "execution_count": 274,
   "metadata": {
    "collapsed": true
   },
   "outputs": [],
   "source": [
    "df = df[(df.price < 150000) & (df.price > 100) ]"
   ]
  },
  {
   "cell_type": "markdown",
   "metadata": {},
   "source": [
    "- Drop extreme big / small / unusual price data points"
   ]
  },
  {
   "cell_type": "code",
   "execution_count": 275,
   "metadata": {
    "collapsed": true
   },
   "outputs": [],
   "source": [
    "df = df[(df.yearOfRegistration > 1900) & (df.yearOfRegistration < 2016) ]"
   ]
  },
  {
   "cell_type": "markdown",
   "metadata": {},
   "source": [
    "- Remove no sense yearOfRegistration data points , > 1900 for possible earlist register time, and < 2016 based on lastSeen column"
   ]
  },
  {
   "cell_type": "code",
   "execution_count": 276,
   "metadata": {
    "collapsed": true
   },
   "outputs": [],
   "source": [
    "df = df[(df.powerPS > 50) & (df.powerPS < 1000) ]"
   ]
  },
  {
   "cell_type": "markdown",
   "metadata": {},
   "source": [
    "- Cleaning up the powerPS"
   ]
  },
  {
   "cell_type": "code",
   "execution_count": 277,
   "metadata": {
    "collapsed": true
   },
   "outputs": [],
   "source": [
    "# transform string to timestamp \n",
    "\n",
    "df.dateCrawled = pd.to_datetime(df.dateCrawled)\n",
    "df.dateCreated = pd.to_datetime(df.dateCreated)\n",
    "df.lastSeen = pd.to_datetime(df.lastSeen)"
   ]
  },
  {
   "cell_type": "code",
   "execution_count": 278,
   "metadata": {},
   "outputs": [],
   "source": [
    "# create new feature : \"time_online\" by differences in days among lastseen and datesreated\n",
    "\n",
    "df['time_online'] = (df.lastSeen - df.dateCreated).apply(lambda x: int(x.days))"
   ]
  },
  {
   "cell_type": "markdown",
   "metadata": {},
   "source": [
    "- time_online :  how long such car object exist on ebay website"
   ]
  },
  {
   "cell_type": "code",
   "execution_count": 279,
   "metadata": {},
   "outputs": [],
   "source": [
    "#max(df.dateCrawled)"
   ]
  },
  {
   "cell_type": "code",
   "execution_count": 280,
   "metadata": {},
   "outputs": [
    {
     "data": {
      "text/plain": [
       "powerPS                0.577832\n",
       "kilometer              0.446202\n",
       "yearOfRegistration     0.425019\n",
       "time_online            0.127058\n",
       "monthOfRegistration    0.042432\n",
       "Name: price, dtype: float64"
      ]
     },
     "execution_count": 280,
     "metadata": {},
     "output_type": "execute_result"
    }
   ],
   "source": [
    "# CHECK features correlation\n",
    "\n",
    "corr = df.corr()\n",
    "corr.loc[:,'price'].abs().sort_values(ascending=False)[1:]"
   ]
  },
  {
   "cell_type": "code",
   "execution_count": 287,
   "metadata": {},
   "outputs": [],
   "source": [
    "selected_feature = ['price',\n",
    "                    'powerPS',\n",
    "                    'kilometer',\n",
    "                    'yearOfRegistration',\n",
    "                    'time_online',\n",
    "                    'monthOfRegistration']"
   ]
  },
  {
   "cell_type": "code",
   "execution_count": 282,
   "metadata": {},
   "outputs": [
    {
     "data": {
      "image/png": "[encoded data removed]",
      "text/plain": [
       "<matplotlib.figure.Figure at 0x17bab3400>"
      ]
     },
     "metadata": {},
     "output_type": "display_data"
    }
   ],
   "source": [
    "#df_train.info()\n",
    "df.hist(bins=100, figsize=(11,8))\n",
    "plt.show()"
   ]
  },
  {
   "cell_type": "markdown",
   "metadata": {},
   "source": [
    "##  After data preprocess,  get prepared data sample :  \n"
   ]
  },
  {
   "cell_type": "code",
   "execution_count": 288,
   "metadata": {},
   "outputs": [
    {
     "name": "stdout",
     "output_type": "stream",
     "text": [
      "car sample counts : 295345\n",
      "seleceted feature : ['price', 'powerPS', 'kilometer', 'yearOfRegistration', 'time_online', 'monthOfRegistration']\n"
     ]
    }
   ],
   "source": [
    "print ('car sample counts :' , len(df))\n",
    "print ('seleceted feature :' , selected_feature)"
   ]
  },
  {
   "cell_type": "code",
   "execution_count": null,
   "metadata": {
    "collapsed": true
   },
   "outputs": [],
   "source": []
  }
 ],
 "metadata": {
  "kernelspec": {
   "display_name": "Python 3",
   "language": "python",
   "name": "python3"
  },
  "language_info": {
   "codemirror_mode": {
    "name": "ipython",
    "version": 3
   },
   "file_extension": ".py",
   "mimetype": "text/x-python",
   "name": "python",
   "nbconvert_exporter": "python",
   "pygments_lexer": "ipython3",
   "version": "3.4.5"
  }
 },
 "nbformat": 4,
 "nbformat_minor": 2
}
