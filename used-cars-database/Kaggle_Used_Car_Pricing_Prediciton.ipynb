{
 "cells": [
  {
   "cell_type": "markdown",
   "metadata": {},
   "source": [
    "# ETP model : \n",
    "\n",
    " - E (experience): customer may get better sense among parameters and car price  \n",
    " - T (task)      : Predict car price \n",
    " - P (performance) : number of car price correctly predicted \n",
    " \n",
    "\n",
    "\n",
    "# Process :\n",
    "    - DATA PREPROCESS \n",
    "    - SELECT MODELS \n",
    "    - FEATURE ENGINEERING \n",
    "    - PREDICTION ENSEMBLE \n",
    "\n",
    "#  Model :  \n",
    "    - GROUP A : LINEAR + SVR\n",
    "    - GROUP B : LINEAR + DECISION TREE (RANDOM FOREST)\n",
    "    \n",
    "# Ref :\n",
    "\n",
    "\n",
    "- https://www.kaggle.com/orgesleka/used-cars-database\n",
    "- https://www.slideshare.net/changecandy/cm-kaggletw-share\n",
    "\n",
    "\n",
    "# ========================================================="
   ]
  },
  {
   "cell_type": "raw",
   "metadata": {},
   "source": [
    "### DATA SET DESCRIPTION  ###\n",
    "\n",
    "\n",
    "dateCrawled : when this ad was first crawled, all field-values are taken from this date\n",
    "name : \"name\" of the car\n",
    "seller : private or dealer\n",
    "offerType\n",
    "price : the price on the ad to sell the car\n",
    "abtest\n",
    "vehicleType\n",
    "yearOfRegistration : at which year the car was first registered\n",
    "gearbox\n",
    "powerPS : power of the car in PS\n",
    "model\n",
    "kilometer : how many kilometers the car has driven\n",
    "monthOfRegistration : at which month the car was first registered\n",
    "fuelType\n",
    "brand\n",
    "notRepairedDamage : if the car has a damage which is not repaired yet\n",
    "dateCreated : the date for which the ad at ebay was created\n",
    "nrOfPictures : number of pictures in the ad (unfortunately this field contains everywhere a 0 and is thus useless (bug in crawler!) )\n",
    "postalCode\n",
    "lastSeenOnline : when the crawler saw this ad last online\n",
    "\n",
    "### DATA SET DESCRIPTION  ###\n"
   ]
  },
  {
   "cell_type": "code",
   "execution_count": 1,
   "metadata": {},
   "outputs": [
    {
     "name": "stdout",
     "output_type": "stream",
     "text": [
      "Populating the interactive namespace from numpy and matplotlib\n"
     ]
    }
   ],
   "source": [
    "# Load basics library \n",
    "\n",
    "import pandas as pd, numpy as np\n",
    "%matplotlib inline\n",
    "%pylab inline\n",
    "import seaborn  as sns \n",
    "import pylab as pl\n",
    "import matplotlib.pyplot as plt"
   ]
  },
  {
   "cell_type": "markdown",
   "metadata": {},
   "source": [
    "# * 1 ) Data Preprocess "
   ]
  },
  {
   "cell_type": "code",
   "execution_count": 2,
   "metadata": {
    "collapsed": true
   },
   "outputs": [],
   "source": [
    "# load car csv \n",
    "\n",
    "df = pd.read_csv('/Users/yennanliu/Desktop/used-cars-database/autos.csv' ,encoding = \"ISO-8859-1\" )"
   ]
  },
  {
   "cell_type": "code",
   "execution_count": 3,
   "metadata": {
    "collapsed": true
   },
   "outputs": [],
   "source": [
    "df = df.drop(['nrOfPictures','postalCode','abtest'], axis=1)"
   ]
  },
  {
   "cell_type": "markdown",
   "metadata": {},
   "source": [
    "- Drop columns :  nrOfPictures, postalCode, abtest \n",
    "   - nrOfPictures  are all 0 \n",
    "   - postalCode is not related to car price apparently\n",
    "   - abtest has no description"
   ]
  },
  {
   "cell_type": "code",
   "execution_count": 4,
   "metadata": {
    "collapsed": true
   },
   "outputs": [],
   "source": [
    "df = df[(df.price < 150000) & (df.price > 100) ]"
   ]
  },
  {
   "cell_type": "markdown",
   "metadata": {},
   "source": [
    "- Drop extreme big / small / unusual price data points"
   ]
  },
  {
   "cell_type": "code",
   "execution_count": 5,
   "metadata": {
    "collapsed": true
   },
   "outputs": [],
   "source": [
    "df = df[(df.yearOfRegistration > 1900) & (df.yearOfRegistration < 2016) ]"
   ]
  },
  {
   "cell_type": "markdown",
   "metadata": {},
   "source": [
    "- Remove no sense yearOfRegistration data points , > 1900 for possible earlist register time, and < 2016 based on lastSeen column"
   ]
  },
  {
   "cell_type": "code",
   "execution_count": 6,
   "metadata": {
    "collapsed": true
   },
   "outputs": [],
   "source": [
    "df = df[(df.powerPS > 50) & (df.powerPS < 1000) ]"
   ]
  },
  {
   "cell_type": "markdown",
   "metadata": {},
   "source": [
    "- Cleaning up the powerPS"
   ]
  },
  {
   "cell_type": "code",
   "execution_count": 7,
   "metadata": {
    "collapsed": true
   },
   "outputs": [],
   "source": [
    "# transform string to timestamp \n",
    "\n",
    "df.dateCrawled = pd.to_datetime(df.dateCrawled)\n",
    "df.dateCreated = pd.to_datetime(df.dateCreated)\n",
    "df.lastSeen = pd.to_datetime(df.lastSeen)"
   ]
  },
  {
   "cell_type": "code",
   "execution_count": 8,
   "metadata": {
    "collapsed": true
   },
   "outputs": [],
   "source": [
    "# create new feature : \"time_online\" by differences in days among lastseen and datesreated\n",
    "\n",
    "df['time_online'] = (df.lastSeen - df.dateCreated).apply(lambda x: int(x.days))"
   ]
  },
  {
   "cell_type": "markdown",
   "metadata": {},
   "source": [
    "- time_online :  how long such car object exist on ebay website"
   ]
  },
  {
   "cell_type": "code",
   "execution_count": 9,
   "metadata": {
    "collapsed": true
   },
   "outputs": [],
   "source": [
    "#max(df.dateCrawled)"
   ]
  },
  {
   "cell_type": "code",
   "execution_count": 10,
   "metadata": {},
   "outputs": [
    {
     "data": {
      "text/plain": [
       "powerPS                0.577832\n",
       "kilometer              0.446202\n",
       "yearOfRegistration     0.425019\n",
       "time_online            0.127058\n",
       "monthOfRegistration    0.042432\n",
       "Name: price, dtype: float64"
      ]
     },
     "execution_count": 10,
     "metadata": {},
     "output_type": "execute_result"
    }
   ],
   "source": [
    "# CHECK features correlation\n",
    "\n",
    "corr = df.corr()\n",
    "corr.loc[:,'price'].abs().sort_values(ascending=False)[1:]"
   ]
  },
  {
   "cell_type": "code",
   "execution_count": 11,
   "metadata": {
    "collapsed": true
   },
   "outputs": [],
   "source": [
    "selected_feature = ['price',\n",
    "                    'powerPS',\n",
    "                    'kilometer',\n",
    "                    'yearOfRegistration',\n",
    "                    'time_online']\n",
    "                    #'monthOfRegistration']"
   ]
  },
  {
   "cell_type": "code",
   "execution_count": 12,
   "metadata": {},
   "outputs": [
    {
     "data": {
      "text/plain": [
       "['price', 'powerPS', 'kilometer', 'yearOfRegistration', 'time_online']"
      ]
     },
     "execution_count": 12,
     "metadata": {},
     "output_type": "execute_result"
    }
   ],
   "source": [
    "selected_feature"
   ]
  },
  {
   "cell_type": "code",
   "execution_count": 54,
   "metadata": {},
   "outputs": [
    {
     "data": {
      "image/png": "[encoded data removed]",
      "text/plain": [
       "<matplotlib.figure.Figure at 0x5b4d877f0>"
      ]
     },
     "metadata": {},
     "output_type": "display_data"
    }
   ],
   "source": [
    "#df_train.info()\n",
    "df.hist(bins=100, figsize=(11,8),color='black')\n",
    "plt.show()"
   ]
  },
  {
   "cell_type": "markdown",
   "metadata": {},
   "source": [
    "##  After data preprocess,  get prepared data sample :  \n"
   ]
  },
  {
   "cell_type": "code",
   "execution_count": 14,
   "metadata": {},
   "outputs": [
    {
     "name": "stdout",
     "output_type": "stream",
     "text": [
      "car sample counts : 295345\n",
      "seleceted feature : ['price', 'powerPS', 'kilometer', 'yearOfRegistration', 'time_online']\n"
     ]
    }
   ],
   "source": [
    "print ('car sample counts :' , len(df))\n",
    "print ('seleceted feature :' , selected_feature)"
   ]
  },
  {
   "cell_type": "markdown",
   "metadata": {},
   "source": [
    "# * 2)  SELECT MODELS\n",
    "    - Linear \n",
    "    - SVR\n",
    "    - Decision tree\n",
    "    - Random forest"
   ]
  },
  {
   "cell_type": "markdown",
   "metadata": {},
   "source": [
    "###  Before first run model, we need to split data set into TRAIN and TEST group for evaluate prediction accuracy ahead really given test "
   ]
  },
  {
   "cell_type": "code",
   "execution_count": 15,
   "metadata": {
    "collapsed": true
   },
   "outputs": [],
   "source": [
    "#  help function \n",
    "\n",
    "from sklearn.model_selection import cross_val_score, train_test_split\n",
    "from sklearn.metrics import mean_squared_error, r2_score, explained_variance_score, mean_absolute_error\n",
    "\n",
    "\n",
    "def sample_split(data):\n",
    "    #data =  data[selected_feature]\n",
    "    relevent_cols = list(data)\n",
    "    autos=data.values.astype(float)             \n",
    "    Y = autos[:,0]\n",
    "    X = autos[:,1:]\n",
    "    test_size = .3\n",
    "    X_train, X_test, y_train, y_test = train_test_split(X, Y, test_size=test_size, random_state = 3)\n",
    "    return X_train, X_test, y_train, y_test\n",
    "\n",
    "\n",
    "def reg_analysis(model, X_train, X_test, y_train, y_test):\n",
    "    model.fit(X_train, y_train)\n",
    "    prediction = model.predict(X_test)\n",
    "    #Calculate Variance score\n",
    "    Variance_score = explained_variance_score(y_test, prediction)\n",
    "    print ('Variance score : %.2f' %Variance_score)\n",
    "    #Mean Absolute Error\n",
    "    MAE = mean_absolute_error(y_test, prediction)\n",
    "    print ('Mean Absolute Error : %.2f' %MAE)\n",
    "    #Root Mean Squared Error\n",
    "    RMSE = mean_squared_error(y_test, prediction)**0.5\n",
    "    print ('Mean Squared Error : %.2f' %RMSE)\n",
    "    #R² score, the coefficient of determination\n",
    "    r2s = r2_score(y_test, prediction)\n",
    "    print ('R2  score : %.2f' %r2s)"
   ]
  },
  {
   "cell_type": "code",
   "execution_count": 16,
   "metadata": {
    "collapsed": true
   },
   "outputs": [],
   "source": [
    "X_train, X_test, y_train, y_test = sample_split(df[selected_feature])"
   ]
  },
  {
   "cell_type": "code",
   "execution_count": 18,
   "metadata": {},
   "outputs": [
    {
     "name": "stdout",
     "output_type": "stream",
     "text": [
      "Linear Regression\n",
      "Variance score : 0.55\n",
      "Mean Absolute Error : 3146.14\n",
      "Mean Squared Error : 5462.58\n",
      "R2  score : 0.55\n"
     ]
    },
    {
     "name": "stderr",
     "output_type": "stream",
     "text": [
      "//anaconda/envs/g_dash/lib/python3.4/site-packages/scipy/linalg/basic.py:884: RuntimeWarning: internal gelsd driver lwork query error, required iwork dimension not returned. This is likely the result of LAPACK bug 0038, fixed in LAPACK 3.2.2 (released July 21, 2010). Falling back to 'gelss' driver.\n",
      "  warnings.warn(mesg, RuntimeWarning)\n"
     ]
    }
   ],
   "source": [
    "# Linear model \n",
    "\n",
    "from sklearn import linear_model\n",
    "\n",
    "model = linear_model.LinearRegression()\n",
    "print ('Linear Regression')\n",
    "reg_analysis(model,X_train, X_test, y_train, y_test)"
   ]
  },
  {
   "cell_type": "code",
   "execution_count": 19,
   "metadata": {},
   "outputs": [
    {
     "name": "stdout",
     "output_type": "stream",
     "text": [
      "SVR\n"
     ]
    }
   ],
   "source": [
    "# SVR\n",
    "\n",
    "from sklearn.svm import SVR\n",
    "\n",
    "model = SVR()\n",
    "print ('SVR')\n",
    "#reg_analysis(model,X_train, X_test, y_train, y_test)"
   ]
  },
  {
   "cell_type": "code",
   "execution_count": 20,
   "metadata": {},
   "outputs": [
    {
     "name": "stdout",
     "output_type": "stream",
     "text": [
      "Decision tree\n",
      "Variance score : 0.59\n",
      "Mean Absolute Error : 2353.82\n",
      "Mean Squared Error : 5258.73\n",
      "R2  score : 0.59\n"
     ]
    }
   ],
   "source": [
    "# Decision tree\n",
    "\n",
    "from sklearn import tree\n",
    "\n",
    "model = tree.DecisionTreeClassifier()\n",
    "print ('Decision tree')\n",
    "reg_analysis(model,X_train, X_test, y_train, y_test)"
   ]
  },
  {
   "cell_type": "code",
   "execution_count": 21,
   "metadata": {},
   "outputs": [
    {
     "name": "stdout",
     "output_type": "stream",
     "text": [
      "Random forest\n"
     ]
    }
   ],
   "source": [
    "# Random forest \n",
    "\n",
    "from sklearn.ensemble import RandomForestClassifier \n",
    "\n",
    "\n",
    "model = RandomForestClassifier()\n",
    "print ('Random forest')\n",
    "#reg_analysis(model,X_train, X_test, y_train, y_test)"
   ]
  },
  {
   "cell_type": "code",
   "execution_count": 22,
   "metadata": {
    "collapsed": true
   },
   "outputs": [],
   "source": [
    "#plt.scatter(df['yearOfRegistration'],df['price'])"
   ]
  },
  {
   "cell_type": "markdown",
   "metadata": {},
   "source": [
    "# * 3) FEATURE ENGINEERING  "
   ]
  },
  {
   "cell_type": "code",
   "execution_count": 23,
   "metadata": {},
   "outputs": [
    {
     "data": {
      "text/plain": [
       "Timestamp('2016-04-07 14:58:51')"
      ]
     },
     "execution_count": 23,
     "metadata": {},
     "output_type": "execute_result"
    }
   ],
   "source": [
    "last_seen =  max(df.lastSeen)\n",
    "last_seen"
   ]
  },
  {
   "cell_type": "code",
   "execution_count": 36,
   "metadata": {},
   "outputs": [],
   "source": [
    "#df.head(3)"
   ]
  },
  {
   "cell_type": "code",
   "execution_count": 25,
   "metadata": {},
   "outputs": [],
   "source": [
    "# create new feature : \"car_age\" , how old car is \n",
    "\n",
    "df['car_age'] =  (last_seen.year - df.yearOfRegistration).apply(lambda x: int(x))"
   ]
  },
  {
   "cell_type": "code",
   "execution_count": 27,
   "metadata": {
    "collapsed": true
   },
   "outputs": [],
   "source": [
    "# Transform non-value columns to numerical features by dummy variables \n",
    "\n",
    "# Dummy Variables\n",
    "# https://chrisalbon.com/python/pandas_convert_categorical_to_dummies.html\n",
    "\n",
    "df_fuel_type =  pd.get_dummies(df['fuelType'])\n",
    "df_gear_box =  pd.get_dummies(df['gearbox'])\n",
    "df_vehicleType =  pd.get_dummies(df['vehicleType'])\n",
    "df_ = pd.concat([df, df_fuel_type,df_gear_box,df_vehicleType], axis=1)"
   ]
  },
  {
   "cell_type": "code",
   "execution_count": 28,
   "metadata": {
    "collapsed": true
   },
   "outputs": [],
   "source": [
    "df_intermediate  = df_[selected_feature]\n",
    "\n",
    "\n",
    "# normalize\n",
    "df_norm = (df_intermediate - df_intermediate.mean()) / (df_intermediate.max() - df_intermediate.min())\n",
    "\n",
    "\n",
    "# standardize\n",
    "df_std = (df_intermediate - df_intermediate.mean()) / df_intermediate.std()"
   ]
  },
  {
   "cell_type": "code",
   "execution_count": 29,
   "metadata": {},
   "outputs": [],
   "source": [
    "#df_.columns"
   ]
  },
  {
   "cell_type": "code",
   "execution_count": 30,
   "metadata": {
    "collapsed": true
   },
   "outputs": [],
   "source": [
    "selected_feature_updated = [ 'price', 'yearOfRegistration', 'powerPS','kilometer',\n",
    "       'monthOfRegistration','time_online','car_age',\n",
    "       'andere', 'benzin', 'cng', 'diesel', 'elektro', 'hybrid', 'lpg',\n",
    "       'automatik', 'manuell', 'andere', 'bus', 'cabrio', 'coupe',\n",
    "       'kleinwagen', 'kombi', 'limousine', 'suv']"
   ]
  },
  {
   "cell_type": "code",
   "execution_count": 31,
   "metadata": {},
   "outputs": [],
   "source": [
    "# re-run model with new featured dataset \n",
    "\n",
    "X_train, X_test, y_train, y_test = sample_split(df_[selected_feature_updated])"
   ]
  },
  {
   "cell_type": "code",
   "execution_count": 32,
   "metadata": {},
   "outputs": [
    {
     "name": "stdout",
     "output_type": "stream",
     "text": [
      "Linear Regression\n",
      "Variance score : 0.58\n",
      "Mean Absolute Error : 3085.81\n",
      "Mean Squared Error : 5271.19\n",
      "R2  score : 0.58\n"
     ]
    }
   ],
   "source": [
    "# Linear model \n",
    "\n",
    "model = linear_model.LinearRegression()\n",
    "print ('Linear Regression')\n",
    "reg_analysis(model,X_train, X_test, y_train, y_test)"
   ]
  },
  {
   "cell_type": "code",
   "execution_count": 35,
   "metadata": {},
   "outputs": [
    {
     "name": "stdout",
     "output_type": "stream",
     "text": [
      "Decision tree\n",
      "Variance score : 0.65\n",
      "Mean Absolute Error : 2045.81\n",
      "Mean Squared Error : 4871.86\n",
      "R2  score : 0.65\n"
     ]
    }
   ],
   "source": [
    "# Decision tree\n",
    "\n",
    "model = tree.DecisionTreeClassifier()\n",
    "print ('Decision tree')\n",
    "reg_analysis(model,X_train, X_test, y_train, y_test)"
   ]
  },
  {
   "cell_type": "markdown",
   "metadata": {},
   "source": [
    "# ================="
   ]
  },
  {
   "cell_type": "code",
   "execution_count": 53,
   "metadata": {},
   "outputs": [],
   "source": [
    "#plt.scatter(df_['yearOfRegistration'],df_['price'])"
   ]
  },
  {
   "cell_type": "code",
   "execution_count": 52,
   "metadata": {},
   "outputs": [],
   "source": [
    "#sns.pairplot(df[:100], hue=\"brand\")"
   ]
  },
  {
   "cell_type": "code",
   "execution_count": 49,
   "metadata": {},
   "outputs": [],
   "source": [
    "#df_[['brand']] #.columns"
   ]
  },
  {
   "cell_type": "code",
   "execution_count": null,
   "metadata": {
    "collapsed": true
   },
   "outputs": [],
   "source": []
  }
 ],
 "metadata": {
  "kernelspec": {
   "display_name": "Python 3",
   "language": "python",
   "name": "python3"
  }
 },
 "nbformat": 4,
 "nbformat_minor": 2
}
