{
 "cells": [
  {
   "cell_type": "markdown",
   "metadata": {},
   "source": [
    "# ETP model : \n",
    "\n",
    " - E (experience): customer may get better sense among parameters and car price  \n",
    " - T (task)      : Predict car price \n",
    " - P (performance) : number of car price correctly predicted \n",
    " \n",
    "\n",
    "\n",
    "# Process :\n",
    "    - DATA PREPROCESS \n",
    "    - SELECT MODELS \n",
    "    - FEATURE ENGINEERING \n",
    "    - PREDICTION ENSEMBLE \n",
    "\n",
    "#  Model :  \n",
    "    - GROUP A : LINEAR + SVR\n",
    "    - GROUP B : LINEAR + DECISION TREE (RANDOM FOREST)\n",
    "    \n",
    "# Ref :\n",
    "\n",
    "\n",
    "- https://www.kaggle.com/orgesleka/used-cars-database\n",
    "- https://www.slideshare.net/changecandy/cm-kaggletw-share\n",
    "\n",
    "\n",
    "# ========================================================="
   ]
  },
  {
   "cell_type": "raw",
   "metadata": {},
   "source": [
    "### DATA SET DESCRIPTION  ###\n",
    "\n",
    "\n",
    "dateCrawled : when this ad was first crawled, all field-values are taken from this date\n",
    "name : \"name\" of the car\n",
    "seller : private or dealer\n",
    "offerType\n",
    "price : the price on the ad to sell the car\n",
    "abtest\n",
    "vehicleType\n",
    "yearOfRegistration : at which year the car was first registered\n",
    "gearbox\n",
    "powerPS : power of the car in PS\n",
    "model\n",
    "kilometer : how many kilometers the car has driven\n",
    "monthOfRegistration : at which month the car was first registered\n",
    "fuelType\n",
    "brand\n",
    "notRepairedDamage : if the car has a damage which is not repaired yet\n",
    "dateCreated : the date for which the ad at ebay was created\n",
    "nrOfPictures : number of pictures in the ad (unfortunately this field contains everywhere a 0 and is thus useless (bug in crawler!) )\n",
    "postalCode\n",
    "lastSeenOnline : when the crawler saw this ad last online\n",
    "\n",
    "### DATA SET DESCRIPTION  ###\n"
   ]
  },
  {
   "cell_type": "code",
   "execution_count": 1,
   "metadata": {},
   "outputs": [
    {
     "name": "stdout",
     "output_type": "stream",
     "text": [
      "Populating the interactive namespace from numpy and matplotlib\n"
     ]
    }
   ],
   "source": [
    "# Load basics library \n",
    "\n",
    "import pandas as pd, numpy as np\n",
    "%matplotlib inline\n",
    "%pylab inline\n",
    "import seaborn  as sns \n",
    "import pylab as pl\n",
    "import matplotlib.pyplot as plt"
   ]
  },
  {
   "cell_type": "markdown",
   "metadata": {},
   "source": [
    "# * 1 ) Data Preprocess "
   ]
  },
  {
   "cell_type": "code",
   "execution_count": 50,
   "metadata": {
    "collapsed": true
   },
   "outputs": [],
   "source": [
    "# load car csv \n",
    "\n",
    "df = pd.read_csv('/Users/yennanliu/Desktop/used-cars-database/autos.csv' ,encoding = \"ISO-8859-1\" )"
   ]
  },
  {
   "cell_type": "code",
   "execution_count": 51,
   "metadata": {
    "collapsed": true
   },
   "outputs": [],
   "source": [
    "df = df.drop(['nrOfPictures','postalCode','abtest'], axis=1)"
   ]
  },
  {
   "cell_type": "markdown",
   "metadata": {},
   "source": [
    "- Drop columns :  nrOfPictures, postalCode, abtest \n",
    "   - nrOfPictures  are all 0 \n",
    "   - postalCode is not related to car price apparently\n",
    "   - abtest has no description"
   ]
  },
  {
   "cell_type": "code",
   "execution_count": 52,
   "metadata": {
    "collapsed": true
   },
   "outputs": [],
   "source": [
    "df = df[(df.price < 150000) & (df.price > 100) ]"
   ]
  },
  {
   "cell_type": "markdown",
   "metadata": {},
   "source": [
    "- Drop extreme big / small / unusual price data points"
   ]
  },
  {
   "cell_type": "code",
   "execution_count": 53,
   "metadata": {
    "collapsed": true
   },
   "outputs": [],
   "source": [
    "df = df[(df.yearOfRegistration > 1900) & (df.yearOfRegistration < 2016) ]"
   ]
  },
  {
   "cell_type": "markdown",
   "metadata": {},
   "source": [
    "- Remove no sense yearOfRegistration data points , > 1900 for possible earlist register time, and < 2016 based on lastSeen column"
   ]
  },
  {
   "cell_type": "code",
   "execution_count": 54,
   "metadata": {
    "collapsed": true
   },
   "outputs": [],
   "source": [
    "df = df[(df.powerPS > 50) & (df.powerPS < 1000) ]"
   ]
  },
  {
   "cell_type": "markdown",
   "metadata": {},
   "source": [
    "- Cleaning up the powerPS"
   ]
  },
  {
   "cell_type": "code",
   "execution_count": 55,
   "metadata": {
    "collapsed": true
   },
   "outputs": [],
   "source": [
    "# transform string to timestamp \n",
    "\n",
    "df.dateCrawled = pd.to_datetime(df.dateCrawled)\n",
    "df.dateCreated = pd.to_datetime(df.dateCreated)\n",
    "df.lastSeen = pd.to_datetime(df.lastSeen)"
   ]
  },
  {
   "cell_type": "code",
   "execution_count": 56,
   "metadata": {
    "collapsed": true
   },
   "outputs": [],
   "source": [
    "# create new feature : \"time_online\" by differences in days among lastseen and datesreated\n",
    "\n",
    "df['time_online'] = (df.lastSeen - df.dateCreated).apply(lambda x: int(x.days))"
   ]
  },
  {
   "cell_type": "markdown",
   "metadata": {},
   "source": [
    "- time_online :  how long such car object exist on ebay website"
   ]
  },
  {
   "cell_type": "code",
   "execution_count": 57,
   "metadata": {
    "collapsed": true
   },
   "outputs": [],
   "source": [
    "#max(df.dateCrawled)"
   ]
  },
  {
   "cell_type": "code",
   "execution_count": 58,
   "metadata": {},
   "outputs": [
    {
     "data": {
      "text/plain": [
       "powerPS                0.577832\n",
       "kilometer              0.446202\n",
       "yearOfRegistration     0.425019\n",
       "time_online            0.127058\n",
       "monthOfRegistration    0.042432\n",
       "Name: price, dtype: float64"
      ]
     },
     "execution_count": 58,
     "metadata": {},
     "output_type": "execute_result"
    }
   ],
   "source": [
    "# CHECK features correlation\n",
    "\n",
    "corr = df.corr()\n",
    "corr.loc[:,'price'].abs().sort_values(ascending=False)[1:]"
   ]
  },
  {
   "cell_type": "code",
   "execution_count": 61,
   "metadata": {
    "scrolled": false
   },
   "outputs": [],
   "source": [
    "#plot_correlation_map(df)"
   ]
  },
  {
   "cell_type": "code",
   "execution_count": 11,
   "metadata": {
    "collapsed": true
   },
   "outputs": [],
   "source": [
    "selected_feature = ['price',\n",
    "                    'powerPS',\n",
    "                    'kilometer',\n",
    "                    'yearOfRegistration',\n",
    "                    'time_online']\n",
    "                    #'monthOfRegistration']"
   ]
  },
  {
   "cell_type": "code",
   "execution_count": 12,
   "metadata": {},
   "outputs": [
    {
     "data": {
      "text/plain": [
       "['price', 'powerPS', 'kilometer', 'yearOfRegistration', 'time_online']"
      ]
     },
     "execution_count": 12,
     "metadata": {},
     "output_type": "execute_result"
    }
   ],
   "source": [
    "selected_feature"
   ]
  },
  {
   "cell_type": "code",
   "execution_count": 13,
   "metadata": {},
   "outputs": [
    {
     "data": {
      "image/png": "[encoded data removed]",
      "text/plain": [
       "<matplotlib.figure.Figure at 0x10c9b6a90>"
      ]
     },
     "metadata": {},
     "output_type": "display_data"
    }
   ],
   "source": [
    "#df_train.info()\n",
    "df.hist(bins=100, figsize=(11,8),color='black')\n",
    "plt.show()"
   ]
  },
  {
   "cell_type": "markdown",
   "metadata": {},
   "source": [
    "##  After data preprocess,  get prepared data sample :  \n"
   ]
  },
  {
   "cell_type": "code",
   "execution_count": 14,
   "metadata": {},
   "outputs": [
    {
     "name": "stdout",
     "output_type": "stream",
     "text": [
      "car sample counts : 295345\n",
      "seleceted feature : ['price', 'powerPS', 'kilometer', 'yearOfRegistration', 'time_online']\n"
     ]
    }
   ],
   "source": [
    "print ('car sample counts :' , len(df))\n",
    "print ('seleceted feature :' , selected_feature)"
   ]
  },
  {
   "cell_type": "markdown",
   "metadata": {},
   "source": [
    "# * 2)  SELECT MODELS\n",
    "    - Linear \n",
    "    - SVR\n",
    "    - Decision tree\n",
    "    - Random forest"
   ]
  },
  {
   "cell_type": "markdown",
   "metadata": {},
   "source": [
    "###  Before first run model, we need to split data set into TRAIN and TEST group for evaluate prediction accuracy ahead really given test "
   ]
  },
  {
   "cell_type": "code",
   "execution_count": 66,
   "metadata": {
    "collapsed": true
   },
   "outputs": [],
   "source": [
    "#  help function \n",
    "\n",
    "from sklearn.model_selection import cross_val_score, train_test_split\n",
    "from sklearn.metrics import mean_squared_error, r2_score, explained_variance_score, mean_absolute_error\n",
    "\n",
    "\n",
    "def sample_split(data):\n",
    "    #data =  data[selected_feature]\n",
    "    relevent_cols = list(data)\n",
    "    autos=data.values.astype(float)             \n",
    "    Y = autos[:,0]\n",
    "    X = autos[:,1:]\n",
    "    test_size = .3\n",
    "    X_train, X_test, y_train, y_test = train_test_split(X, Y, test_size=test_size, random_state = 3)\n",
    "    return X_train, X_test, y_train, y_test\n",
    "\n",
    "\n",
    "def reg_analysis(model, X_train, X_test, y_train, y_test):\n",
    "    model.fit(X_train, y_train)\n",
    "    prediction = model.predict(X_test)\n",
    "    #Calculate Variance score\n",
    "    Variance_score = explained_variance_score(y_test, prediction)\n",
    "    print ('Variance score : %.2f' %Variance_score)\n",
    "    #Mean Absolute Error\n",
    "    MAE = mean_absolute_error(y_test, prediction)\n",
    "    print ('Mean Absolute Error : %.2f' %MAE)\n",
    "    #Root Mean Squared Error\n",
    "    RMSE = mean_squared_error(y_test, prediction)**0.5\n",
    "    print ('Mean Squared Error : %.2f' %RMSE)\n",
    "    #R² score, the coefficient of determination\n",
    "    r2s = r2_score(y_test, prediction)\n",
    "    print ('R2  score : %.2f' %r2s)\n",
    "    return model\n",
    "    \n",
    "\n",
    "def plot_correlation_map( df ):\n",
    "    corr = df.corr()\n",
    "    _ , ax = plt.subplots( figsize =( 12 , 10 ) )\n",
    "    cmap = sns.diverging_palette( 220 , 10 , as_cmap = True )\n",
    "    _ = sns.heatmap(\n",
    "        corr, \n",
    "        cmap = cmap,\n",
    "        square=True, \n",
    "        cbar_kws={ 'shrink' : .9 }, \n",
    "        ax=ax, \n",
    "        annot = True, \n",
    "        annot_kws = { 'fontsize' : 12 }\n",
    "    )"
   ]
  },
  {
   "cell_type": "code",
   "execution_count": 16,
   "metadata": {
    "collapsed": true
   },
   "outputs": [],
   "source": [
    "X_train, X_test, y_train, y_test = sample_split(df[selected_feature])"
   ]
  },
  {
   "cell_type": "code",
   "execution_count": 17,
   "metadata": {
    "collapsed": true
   },
   "outputs": [],
   "source": [
    "#df[selected_feature]"
   ]
  },
  {
   "cell_type": "code",
   "execution_count": 18,
   "metadata": {},
   "outputs": [
    {
     "name": "stdout",
     "output_type": "stream",
     "text": [
      "Linear Regression\n",
      "Variance score : 0.55\n",
      "Mean Absolute Error : 3146.14\n",
      "Mean Squared Error : 5462.58\n",
      "R2  score : 0.55\n"
     ]
    },
    {
     "name": "stderr",
     "output_type": "stream",
     "text": [
      "//anaconda/envs/g_dash/lib/python3.4/site-packages/scipy/linalg/basic.py:884: RuntimeWarning: internal gelsd driver lwork query error, required iwork dimension not returned. This is likely the result of LAPACK bug 0038, fixed in LAPACK 3.2.2 (released July 21, 2010). Falling back to 'gelss' driver.\n",
      "  warnings.warn(mesg, RuntimeWarning)\n"
     ]
    }
   ],
   "source": [
    "# Linear model \n",
    "\n",
    "from sklearn import linear_model\n",
    "\n",
    "model = linear_model.LinearRegression()\n",
    "print ('Linear Regression')\n",
    "reg_analysis(model,X_train, X_test, y_train, y_test)"
   ]
  },
  {
   "cell_type": "code",
   "execution_count": 19,
   "metadata": {
    "collapsed": true
   },
   "outputs": [],
   "source": [
    "# only grab 2953 minor dataset for fast run SVR \n",
    "\n",
    "df_sample = df.sample(frac=0.1, replace=True).reset_index()\n",
    "df_sample\n",
    "\n",
    "X_train_, X_test_, y_train_, y_test_ = sample_split(df_sample[selected_feature])"
   ]
  },
  {
   "cell_type": "code",
   "execution_count": 125,
   "metadata": {},
   "outputs": [
    {
     "name": "stdout",
     "output_type": "stream",
     "text": [
      "SVR\n",
      "Variance score : 0.29\n",
      "Mean Absolute Error : 3226.24\n",
      "Mean Squared Error : 7191.76\n",
      "R2  score : 0.24\n"
     ]
    },
    {
     "data": {
      "text/plain": [
       "SVR(C=1000.0, cache_size=200, coef0=0.0, degree=3, epsilon=0.1, gamma=0.1,\n",
       "  kernel='rbf', max_iter=-1, shrinking=True, tol=0.001, verbose=False)"
      ]
     },
     "execution_count": 125,
     "metadata": {},
     "output_type": "execute_result"
    }
   ],
   "source": [
    "# SVR\n",
    "\n",
    "from sklearn.svm import SVR\n",
    "# run linear SVR first ( kernel = linear)\n",
    "\n",
    "model = SVR(kernel='rbf', C=1e3, gamma=0.1)\n",
    "print ('SVR')\n",
    "reg_analysis(model,X_train_, X_test_, y_train_, y_test_)"
   ]
  },
  {
   "cell_type": "code",
   "execution_count": null,
   "metadata": {},
   "outputs": [
    {
     "name": "stdout",
     "output_type": "stream",
     "text": [
      "SVR\n"
     ]
    }
   ],
   "source": [
    "# SVR\n",
    "\n",
    "from sklearn.svm import SVR\n",
    "# run linear SVR first ( kernel = linear)\n",
    "\n",
    "model = SVR(kernel='rbf', C=1e3, gamma=0.1)\n",
    "print ('SVR')\n",
    "reg_analysis(model,X_train, X_test, y_train, y_test)"
   ]
  },
  {
   "cell_type": "code",
   "execution_count": 23,
   "metadata": {},
   "outputs": [
    {
     "name": "stdout",
     "output_type": "stream",
     "text": [
      "SVR\n",
      "Variance score : 0.39\n",
      "Mean Absolute Error : 4321.86\n",
      "Mean Squared Error : 6550.08\n",
      "R2  score : 0.36\n"
     ]
    }
   ],
   "source": [
    "# SVR\n",
    "\n",
    "#from sklearn.svm import SVR\n",
    "# run linear SVR first ( kernel = linear)\n",
    "\n",
    "from sklearn.svm import LinearSVR\n",
    "\n",
    "model = LinearSVR()\n",
    "print ('SVR')\n",
    "reg_analysis(model,X_train, X_test, y_train, y_test)"
   ]
  },
  {
   "cell_type": "code",
   "execution_count": 24,
   "metadata": {},
   "outputs": [
    {
     "name": "stdout",
     "output_type": "stream",
     "text": [
      "Decision tree\n",
      "Variance score : 0.60\n",
      "Mean Absolute Error : 2346.99\n",
      "Mean Squared Error : 5242.27\n",
      "R2  score : 0.59\n"
     ]
    }
   ],
   "source": [
    "# Decision tree\n",
    "\n",
    "from sklearn import tree\n",
    "\n",
    "model = tree.DecisionTreeClassifier()\n",
    "print ('Decision tree')\n",
    "reg_analysis(model,X_train, X_test, y_train, y_test)"
   ]
  },
  {
   "cell_type": "code",
   "execution_count": 25,
   "metadata": {
    "collapsed": true
   },
   "outputs": [],
   "source": [
    "### using RandomForestRegressor instead of RandomForestClassifier model \n",
    "# https://www.quora.com/What-is-the-difference-between-scikit-learns-random-forest-classifier-and-random-forest-regressor\n",
    "\n",
    "\n",
    "# Random forest \n",
    "#from sklearn.ensemble import RandomForestClassifier \n",
    "#model = RandomForestClassifier()\n",
    "#print ('Random forest')\n",
    "#reg_analysis(model,X_train_, X_test_, y_train_, y_test_)"
   ]
  },
  {
   "cell_type": "code",
   "execution_count": 63,
   "metadata": {},
   "outputs": [
    {
     "name": "stdout",
     "output_type": "stream",
     "text": [
      "Random forest\n",
      "Variance score : 0.81\n",
      "Mean Absolute Error : 1611.85\n",
      "Mean Squared Error : 3556.42\n",
      "R2  score : 0.81\n"
     ]
    }
   ],
   "source": [
    "# Random forest \n",
    "\n",
    "from sklearn.ensemble import RandomForestRegressor\n",
    "\n",
    "\n",
    "model = RandomForestRegressor()\n",
    "print ('Random forest')\n",
    "reg_analysis(model,X_train, X_test, y_train, y_test)"
   ]
  },
  {
   "cell_type": "markdown",
   "metadata": {},
   "source": [
    "# * 3) FEATURE ENGINEERING  "
   ]
  },
  {
   "cell_type": "code",
   "execution_count": 27,
   "metadata": {},
   "outputs": [
    {
     "data": {
      "text/plain": [
       "Timestamp('2016-04-07 14:58:51')"
      ]
     },
     "execution_count": 27,
     "metadata": {},
     "output_type": "execute_result"
    }
   ],
   "source": [
    "last_seen =  max(df.lastSeen)\n",
    "last_seen"
   ]
  },
  {
   "cell_type": "code",
   "execution_count": 28,
   "metadata": {
    "collapsed": true
   },
   "outputs": [],
   "source": [
    "#df.head(3)"
   ]
  },
  {
   "cell_type": "code",
   "execution_count": 29,
   "metadata": {
    "collapsed": true
   },
   "outputs": [],
   "source": [
    "# create new feature : \"car_age\" , how old car is \n",
    "\n",
    "df['car_age'] =  (last_seen.year - df.yearOfRegistration).apply(lambda x: int(x))"
   ]
  },
  {
   "cell_type": "code",
   "execution_count": 30,
   "metadata": {
    "collapsed": true
   },
   "outputs": [],
   "source": [
    "# Transform non-value columns to numerical features by dummy variables \n",
    "\n",
    "# Dummy Variables\n",
    "# https://chrisalbon.com/python/pandas_convert_categorical_to_dummies.html\n",
    "\n",
    "df_fuel_type =  pd.get_dummies(df['fuelType'])\n",
    "df_gear_box =  pd.get_dummies(df['gearbox'])\n",
    "df_vehicleType =  pd.get_dummies(df['vehicleType'])\n",
    "df_ = pd.concat([df, df_fuel_type,df_gear_box,df_vehicleType], axis=1)"
   ]
  },
  {
   "cell_type": "code",
   "execution_count": 31,
   "metadata": {
    "collapsed": true
   },
   "outputs": [],
   "source": [
    "df_intermediate  = df_[selected_feature]\n",
    "\n",
    "\n",
    "# normalize\n",
    "df_norm = (df_intermediate - df_intermediate.mean()) / (df_intermediate.max() - df_intermediate.min())\n",
    "\n",
    "\n",
    "# standardize\n",
    "df_std = (df_intermediate - df_intermediate.mean()) / df_intermediate.std()"
   ]
  },
  {
   "cell_type": "code",
   "execution_count": 32,
   "metadata": {
    "collapsed": true
   },
   "outputs": [],
   "source": [
    "#df_.columns"
   ]
  },
  {
   "cell_type": "code",
   "execution_count": 33,
   "metadata": {
    "collapsed": true
   },
   "outputs": [],
   "source": [
    "selected_feature_updated = [ 'price', 'yearOfRegistration', 'powerPS','kilometer',\n",
    "       'monthOfRegistration','time_online','car_age',\n",
    "       'andere', 'benzin', 'cng', 'diesel', 'elektro', 'hybrid', 'lpg',\n",
    "       'automatik', 'manuell', 'andere', 'bus', 'cabrio', 'coupe',\n",
    "       'kleinwagen', 'kombi', 'limousine', 'suv']"
   ]
  },
  {
   "cell_type": "code",
   "execution_count": 34,
   "metadata": {
    "collapsed": true
   },
   "outputs": [],
   "source": [
    "# re-run model with new featured dataset \n",
    "\n",
    "X_train, X_test, y_train, y_test = sample_split(df_[selected_feature_updated])"
   ]
  },
  {
   "cell_type": "code",
   "execution_count": 35,
   "metadata": {},
   "outputs": [
    {
     "name": "stdout",
     "output_type": "stream",
     "text": [
      "Linear Regression\n",
      "Variance score : 0.58\n",
      "Mean Absolute Error : 3085.81\n",
      "Mean Squared Error : 5271.19\n",
      "R2  score : 0.58\n"
     ]
    }
   ],
   "source": [
    "# Linear model \n",
    "\n",
    "model = linear_model.LinearRegression()\n",
    "print ('Linear Regression')\n",
    "reg_analysis(model,X_train, X_test, y_train, y_test)"
   ]
  },
  {
   "cell_type": "code",
   "execution_count": 36,
   "metadata": {},
   "outputs": [
    {
     "name": "stdout",
     "output_type": "stream",
     "text": [
      "SVR\n",
      "Variance score : 0.37\n",
      "Mean Absolute Error : 4510.93\n",
      "Mean Squared Error : 6725.13\n",
      "R2  score : 0.32\n"
     ]
    }
   ],
   "source": [
    "# linear SVR\n",
    "\n",
    "from sklearn.svm import LinearSVR\n",
    "\n",
    "model = LinearSVR()\n",
    "print ('SVR')\n",
    "reg_analysis(model,X_train, X_test, y_train, y_test)"
   ]
  },
  {
   "cell_type": "code",
   "execution_count": 37,
   "metadata": {},
   "outputs": [
    {
     "name": "stdout",
     "output_type": "stream",
     "text": [
      "Decision tree\n",
      "Variance score : 0.62\n",
      "Mean Absolute Error : 2068.30\n",
      "Mean Squared Error : 5021.45\n",
      "R2  score : 0.62\n"
     ]
    }
   ],
   "source": [
    "# Decision tree\n",
    "\n",
    "model = tree.DecisionTreeClassifier()\n",
    "print ('Decision tree')\n",
    "reg_analysis(model,X_train, X_test, y_train, y_test)"
   ]
  },
  {
   "cell_type": "code",
   "execution_count": 67,
   "metadata": {},
   "outputs": [
    {
     "name": "stdout",
     "output_type": "stream",
     "text": [
      "Random forest\n",
      "Variance score : 0.81\n",
      "Mean Absolute Error : 1612.56\n",
      "Mean Squared Error : 3559.59\n",
      "R2  score : 0.81\n"
     ]
    }
   ],
   "source": [
    "# Random forest \n",
    "\n",
    "from sklearn.ensemble import RandomForestRegressor\n",
    "\n",
    "\n",
    "model = RandomForestRegressor()\n",
    "print ('Random forest')\n",
    "RandomForestRegressor_model = reg_analysis(model,X_train, X_test, y_train, y_test)"
   ]
  },
  {
   "cell_type": "code",
   "execution_count": 100,
   "metadata": {},
   "outputs": [
    {
     "data": {
      "text/plain": [
       "<matplotlib.collections.PathCollection at 0x10b1321d0>"
      ]
     },
     "execution_count": 100,
     "metadata": {},
     "output_type": "execute_result"
    },
    {
     "data": {
      "image/png": "[encoded data removed]",
      "text/plain": [
       "<matplotlib.figure.Figure at 0x10b0d6898>"
      ]
     },
     "metadata": {},
     "output_type": "display_data"
    }
   ],
   "source": [
    "#plt(y=x)\n",
    "x = range(0,160000)\n",
    "y = range(0,160000)\n",
    "plt.plot(x, y)\n",
    "scatter(RandomForestRegressor_model.predict(X_test),y_test)"
   ]
  },
  {
   "cell_type": "markdown",
   "metadata": {},
   "source": [
    "# ================="
   ]
  },
  {
   "cell_type": "code",
   "execution_count": 39,
   "metadata": {
    "collapsed": true
   },
   "outputs": [],
   "source": [
    "#plt.scatter(df_['yearOfRegistration'],df_['price'])"
   ]
  },
  {
   "cell_type": "code",
   "execution_count": 40,
   "metadata": {
    "collapsed": true
   },
   "outputs": [],
   "source": [
    "#sns.pairplot(df[:100], hue=\"brand\")"
   ]
  },
  {
   "cell_type": "code",
   "execution_count": 41,
   "metadata": {
    "collapsed": true
   },
   "outputs": [],
   "source": [
    "#df_[['brand']] #.columns"
   ]
  },
  {
   "cell_type": "code",
   "execution_count": 101,
   "metadata": {},
   "outputs": [
    {
     "data": {
      "text/html": [
       "<div>\n",
       "<table border=\"1\" class=\"dataframe\">\n",
       "  <thead>\n",
       "    <tr style=\"text-align: right;\">\n",
       "      <th></th>\n",
       "      <th>dateCrawled</th>\n",
       "      <th>name</th>\n",
       "      <th>seller</th>\n",
       "      <th>offerType</th>\n",
       "      <th>price</th>\n",
       "      <th>vehicleType</th>\n",
       "      <th>yearOfRegistration</th>\n",
       "      <th>gearbox</th>\n",
       "      <th>powerPS</th>\n",
       "      <th>model</th>\n",
       "      <th>...</th>\n",
       "      <th>automatik</th>\n",
       "      <th>manuell</th>\n",
       "      <th>andere</th>\n",
       "      <th>bus</th>\n",
       "      <th>cabrio</th>\n",
       "      <th>coupe</th>\n",
       "      <th>kleinwagen</th>\n",
       "      <th>kombi</th>\n",
       "      <th>limousine</th>\n",
       "      <th>suv</th>\n",
       "    </tr>\n",
       "  </thead>\n",
       "  <tbody>\n",
       "    <tr>\n",
       "      <th>1</th>\n",
       "      <td>2016-03-24 10:58:45</td>\n",
       "      <td>A5_Sportback_2.7_Tdi</td>\n",
       "      <td>privat</td>\n",
       "      <td>Angebot</td>\n",
       "      <td>18300</td>\n",
       "      <td>coupe</td>\n",
       "      <td>2011</td>\n",
       "      <td>manuell</td>\n",
       "      <td>190</td>\n",
       "      <td>NaN</td>\n",
       "      <td>...</td>\n",
       "      <td>0</td>\n",
       "      <td>1</td>\n",
       "      <td>0</td>\n",
       "      <td>0</td>\n",
       "      <td>0</td>\n",
       "      <td>1</td>\n",
       "      <td>0</td>\n",
       "      <td>0</td>\n",
       "      <td>0</td>\n",
       "      <td>0</td>\n",
       "    </tr>\n",
       "    <tr>\n",
       "      <th>2</th>\n",
       "      <td>2016-03-14 12:52:21</td>\n",
       "      <td>Jeep_Grand_Cherokee_\"Overland\"</td>\n",
       "      <td>privat</td>\n",
       "      <td>Angebot</td>\n",
       "      <td>9800</td>\n",
       "      <td>suv</td>\n",
       "      <td>2004</td>\n",
       "      <td>automatik</td>\n",
       "      <td>163</td>\n",
       "      <td>grand</td>\n",
       "      <td>...</td>\n",
       "      <td>1</td>\n",
       "      <td>0</td>\n",
       "      <td>0</td>\n",
       "      <td>0</td>\n",
       "      <td>0</td>\n",
       "      <td>0</td>\n",
       "      <td>0</td>\n",
       "      <td>0</td>\n",
       "      <td>0</td>\n",
       "      <td>1</td>\n",
       "    </tr>\n",
       "    <tr>\n",
       "      <th>3</th>\n",
       "      <td>2016-03-17 16:54:04</td>\n",
       "      <td>GOLF_4_1_4__3TÜRER</td>\n",
       "      <td>privat</td>\n",
       "      <td>Angebot</td>\n",
       "      <td>1500</td>\n",
       "      <td>kleinwagen</td>\n",
       "      <td>2001</td>\n",
       "      <td>manuell</td>\n",
       "      <td>75</td>\n",
       "      <td>golf</td>\n",
       "      <td>...</td>\n",
       "      <td>0</td>\n",
       "      <td>1</td>\n",
       "      <td>0</td>\n",
       "      <td>0</td>\n",
       "      <td>0</td>\n",
       "      <td>0</td>\n",
       "      <td>1</td>\n",
       "      <td>0</td>\n",
       "      <td>0</td>\n",
       "      <td>0</td>\n",
       "    </tr>\n",
       "    <tr>\n",
       "      <th>4</th>\n",
       "      <td>2016-03-31 17:25:20</td>\n",
       "      <td>Skoda_Fabia_1.4_TDI_PD_Classic</td>\n",
       "      <td>privat</td>\n",
       "      <td>Angebot</td>\n",
       "      <td>3600</td>\n",
       "      <td>kleinwagen</td>\n",
       "      <td>2008</td>\n",
       "      <td>manuell</td>\n",
       "      <td>69</td>\n",
       "      <td>fabia</td>\n",
       "      <td>...</td>\n",
       "      <td>0</td>\n",
       "      <td>1</td>\n",
       "      <td>0</td>\n",
       "      <td>0</td>\n",
       "      <td>0</td>\n",
       "      <td>0</td>\n",
       "      <td>1</td>\n",
       "      <td>0</td>\n",
       "      <td>0</td>\n",
       "      <td>0</td>\n",
       "    </tr>\n",
       "    <tr>\n",
       "      <th>5</th>\n",
       "      <td>2016-04-04 17:36:23</td>\n",
       "      <td>BMW_316i___e36_Limousine___Bastlerfahrzeug__Ex...</td>\n",
       "      <td>privat</td>\n",
       "      <td>Angebot</td>\n",
       "      <td>650</td>\n",
       "      <td>limousine</td>\n",
       "      <td>1995</td>\n",
       "      <td>manuell</td>\n",
       "      <td>102</td>\n",
       "      <td>3er</td>\n",
       "      <td>...</td>\n",
       "      <td>0</td>\n",
       "      <td>1</td>\n",
       "      <td>0</td>\n",
       "      <td>0</td>\n",
       "      <td>0</td>\n",
       "      <td>0</td>\n",
       "      <td>0</td>\n",
       "      <td>0</td>\n",
       "      <td>1</td>\n",
       "      <td>0</td>\n",
       "    </tr>\n",
       "  </tbody>\n",
       "</table>\n",
       "<p>5 rows × 36 columns</p>\n",
       "</div>"
      ],
      "text/plain": [
       "          dateCrawled                                               name  \\\n",
       "1 2016-03-24 10:58:45                               A5_Sportback_2.7_Tdi   \n",
       "2 2016-03-14 12:52:21                     Jeep_Grand_Cherokee_\"Overland\"   \n",
       "3 2016-03-17 16:54:04                                 GOLF_4_1_4__3TÜRER   \n",
       "4 2016-03-31 17:25:20                     Skoda_Fabia_1.4_TDI_PD_Classic   \n",
       "5 2016-04-04 17:36:23  BMW_316i___e36_Limousine___Bastlerfahrzeug__Ex...   \n",
       "\n",
       "   seller offerType  price vehicleType  yearOfRegistration    gearbox  \\\n",
       "1  privat   Angebot  18300       coupe                2011    manuell   \n",
       "2  privat   Angebot   9800         suv                2004  automatik   \n",
       "3  privat   Angebot   1500  kleinwagen                2001    manuell   \n",
       "4  privat   Angebot   3600  kleinwagen                2008    manuell   \n",
       "5  privat   Angebot    650   limousine                1995    manuell   \n",
       "\n",
       "   powerPS  model ...   automatik  manuell andere bus cabrio coupe kleinwagen  \\\n",
       "1      190    NaN ...           0        1      0   0      0     1          0   \n",
       "2      163  grand ...           1        0      0   0      0     0          0   \n",
       "3       75   golf ...           0        1      0   0      0     0          1   \n",
       "4       69  fabia ...           0        1      0   0      0     0          1   \n",
       "5      102    3er ...           0        1      0   0      0     0          0   \n",
       "\n",
       "   kombi  limousine  suv  \n",
       "1      0          0    0  \n",
       "2      0          0    1  \n",
       "3      0          0    0  \n",
       "4      0          0    0  \n",
       "5      0          1    0  \n",
       "\n",
       "[5 rows x 36 columns]"
      ]
     },
     "execution_count": 101,
     "metadata": {},
     "output_type": "execute_result"
    }
   ],
   "source": [
    "df_.head()"
   ]
  },
  {
   "cell_type": "code",
   "execution_count": 43,
   "metadata": {
    "collapsed": true
   },
   "outputs": [],
   "source": [
    "#df_.info()"
   ]
  },
  {
   "cell_type": "markdown",
   "metadata": {},
   "source": [
    "# * 4) PREDICTION ENSEMBLE "
   ]
  },
  {
   "cell_type": "markdown",
   "metadata": {},
   "source": [
    "####  GROUP A : LINEAR + SVR"
   ]
  },
  {
   "cell_type": "code",
   "execution_count": 102,
   "metadata": {},
   "outputs": [
    {
     "name": "stdout",
     "output_type": "stream",
     "text": [
      "Linear Regression\n",
      "Variance score : 0.58\n",
      "Mean Absolute Error : 3085.81\n",
      "Mean Squared Error : 5271.19\n",
      "R2  score : 0.58\n"
     ]
    }
   ],
   "source": [
    "# Linear model \n",
    "\n",
    "model = linear_model.LinearRegression()\n",
    "print ('Linear Regression')\n",
    "linear_model =  reg_analysis(model,X_train, X_test, y_train, y_test)"
   ]
  },
  {
   "cell_type": "code",
   "execution_count": 103,
   "metadata": {},
   "outputs": [
    {
     "name": "stdout",
     "output_type": "stream",
     "text": [
      "SVR\n",
      "Variance score : 0.41\n",
      "Mean Absolute Error : 5222.14\n",
      "Mean Squared Error : 7229.05\n",
      "R2  score : 0.22\n"
     ]
    }
   ],
   "source": [
    "# SVR\n",
    "\n",
    "#from sklearn.svm import SVR\n",
    "# run linear SVR first ( kernel = linear)\n",
    "\n",
    "from sklearn.svm import LinearSVR\n",
    "\n",
    "model = LinearSVR()\n",
    "print ('SVR')\n",
    "SVR_model = reg_analysis(model,X_train, X_test, y_train, y_test)"
   ]
  },
  {
   "cell_type": "code",
   "execution_count": 116,
   "metadata": {},
   "outputs": [],
   "source": [
    "linear_prediction = linear_model.predict(X_test)\n",
    "SVR_prediction = SVR_model.predict(X_test)\n",
    "group_A_predict = (linear_prediction+SVR_prediction)/2"
   ]
  },
  {
   "cell_type": "code",
   "execution_count": 115,
   "metadata": {},
   "outputs": [
    {
     "name": "stdout",
     "output_type": "stream",
     "text": [
      "Variance score : 0.54\n",
      "Mean Absolute Error : 3722.57\n",
      "Mean Squared Error : 5824.84\n",
      "R2  score : 0.49\n"
     ]
    }
   ],
   "source": [
    "Variance_score = explained_variance_score(y_test, group_A_predict)\n",
    "print ('Variance score : %.2f' %Variance_score)\n",
    "#Mean Absolute Error\n",
    "MAE = mean_absolute_error(y_test, group_A_predict)\n",
    "print ('Mean Absolute Error : %.2f' %MAE)\n",
    "#Root Mean Squared Error\n",
    "RMSE = mean_squared_error(y_test, group_A_predict)**0.5\n",
    "print ('Mean Squared Error : %.2f' %RMSE)\n",
    "#R² score, the coefficient of determination\n",
    "r2s = r2_score(y_test, group_A_predict)\n",
    "print ('R2  score : %.2f' %r2s)"
   ]
  },
  {
   "cell_type": "markdown",
   "metadata": {},
   "source": [
    "####  GROUP B : LINEAR + DECISION TREE (RANDOM FOREST)"
   ]
  },
  {
   "cell_type": "code",
   "execution_count": 119,
   "metadata": {},
   "outputs": [
    {
     "name": "stdout",
     "output_type": "stream",
     "text": [
      "Random forest\n",
      "Variance score : 0.81\n",
      "Mean Absolute Error : 1608.75\n",
      "Mean Squared Error : 3550.20\n",
      "R2  score : 0.81\n"
     ]
    }
   ],
   "source": [
    "# Random forest \n",
    "\n",
    "from sklearn.ensemble import RandomForestRegressor\n",
    "\n",
    "model = RandomForestRegressor()\n",
    "print ('Random forest')\n",
    "RandomForestRegressor_model = reg_analysis(model,X_train, X_test, y_train, y_test)"
   ]
  },
  {
   "cell_type": "code",
   "execution_count": 120,
   "metadata": {
    "collapsed": true
   },
   "outputs": [],
   "source": [
    "linear_prediction = linear_model.predict(X_test)\n",
    "RandomForestRegressor_prediction = RandomForestRegressor_model.predict(X_test)\n",
    "group_B_predict = (linear_prediction+RandomForestRegressor_prediction)/2"
   ]
  },
  {
   "cell_type": "code",
   "execution_count": 121,
   "metadata": {},
   "outputs": [
    {
     "name": "stdout",
     "output_type": "stream",
     "text": [
      "Variance score : 0.77\n",
      "Mean Absolute Error : 2068.25\n",
      "Mean Squared Error : 3930.33\n",
      "R2  score : 0.77\n"
     ]
    }
   ],
   "source": [
    "Variance_score = explained_variance_score(y_test, group_B_predict)\n",
    "print ('Variance score : %.2f' %Variance_score)\n",
    "#Mean Absolute Error\n",
    "MAE = mean_absolute_error(y_test, group_B_predict)\n",
    "print ('Mean Absolute Error : %.2f' %MAE)\n",
    "#Root Mean Squared Error\n",
    "RMSE = mean_squared_error(y_test, group_B_predict)**0.5\n",
    "print ('Mean Squared Error : %.2f' %RMSE)\n",
    "#R² score, the coefficient of determination\n",
    "r2s = r2_score(y_test, group_B_predict)\n",
    "print ('R2  score : %.2f' %r2s)"
   ]
  }
 ],
 "metadata": {
  "kernelspec": {
   "display_name": "Python 3",
   "language": "python",
   "name": "python3"
  },
  "language_info": {
   "codemirror_mode": {
    "name": "ipython",
    "version": 3
   },
   "file_extension": ".py",
   "mimetype": "text/x-python",
   "name": "python",
   "nbconvert_exporter": "python",
   "pygments_lexer": "ipython3",
   "version": "3.4.5"
  }
 },
 "nbformat": 4,
 "nbformat_minor": 2
}
