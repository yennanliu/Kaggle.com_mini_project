{
 "cells": [
  {
   "cell_type": "markdown",
   "metadata": {},
   "source": [
    "## Kaggle competition :  Facebook Recruiting IV: Human or Robot?\n",
    "https://www.kaggle.com/c/facebook-recruiting-iv-human-or-bot/data"
   ]
  },
  {
   "cell_type": "markdown",
   "metadata": {},
   "source": [
    "### Questions: \n",
    "\n",
    "- Predict which user is human or robot by the backend data \n",
    "\n",
    "### Hypotheses:\n",
    "\n",
    "- Robot tend to make more bids than human averagely/totally \n",
    "- The time intervals between 2 bids are much periodically for robot than human \n",
    "- Robot may use similar IP/platform  for bidding\n",
    "- Robot may be much possible to make the \"first\" bid or the \"last\" bid for a specific auction \n",
    "\n",
    "### Procedure: \n",
    "\n",
    "1. quick overview of data \n",
    "2. Based on hypotheses doing feature engineering \n",
    "3. Extract the features then approach the ML model \n",
    "\n",
    "### Summary: \n",
    "\n",
    "- With features \"total_number_bid_bidder_made\", and \"ave_gap_of_time_in_2_bids\", we got \n",
    "  average prediction accuracy 0.93  in KNN and 0.94 in random forest\n",
    "  \n",
    "- Can use local DB like SQLite or parallel computing ways to speed up the data merge process"
   ]
  },
  {
   "cell_type": "code",
   "execution_count": 1,
   "metadata": {
    "collapsed": false
   },
   "outputs": [
    {
     "name": "stdout",
     "output_type": "stream",
     "text": [
      "Populating the interactive namespace from numpy and matplotlib\n"
     ]
    },
    {
     "name": "stderr",
     "output_type": "stream",
     "text": [
      "/Users/GGV/anaconda/envs/GGV_DASH/lib/python3.4/site-packages/IPython/html.py:14: ShimWarning: The `IPython.html` package has been deprecated. You should import from `notebook` instead. `IPython.html.widgets` has moved to `ipywidgets`.\n",
      "  \"`IPython.html.widgets` has moved to `ipywidgets`.\", ShimWarning)\n"
     ]
    }
   ],
   "source": [
    "# import modules \n",
    "import pandas as pd, numpy as np\n",
    "%matplotlib inline\n",
    "%pylab inline\n",
    "import seaborn \n"
   ]
  },
  {
   "cell_type": "markdown",
   "metadata": {},
   "source": [
    "## Getting data"
   ]
  },
  {
   "cell_type": "code",
   "execution_count": 2,
   "metadata": {
    "collapsed": false
   },
   "outputs": [
    {
     "name": "stdout",
     "output_type": "stream",
     "text": [
      "<class 'pandas.core.frame.DataFrame'>\n",
      "Int64Index: 7656334 entries, 0 to 7656333\n",
      "Data columns (total 9 columns):\n",
      "bid_id         int64\n",
      "bidder_id      object\n",
      "auction        object\n",
      "merchandise    object\n",
      "device         object\n",
      "time           int64\n",
      "country        object\n",
      "ip             object\n",
      "url            object\n",
      "dtypes: int64(2), object(7)\n",
      "memory usage: 584.1+ MB\n"
     ]
    },
    {
     "data": {
      "text/html": [
       "<div>\n",
       "<table border=\"1\" class=\"dataframe\">\n",
       "  <thead>\n",
       "    <tr style=\"text-align: right;\">\n",
       "      <th></th>\n",
       "      <th>bid_id</th>\n",
       "      <th>bidder_id</th>\n",
       "      <th>auction</th>\n",
       "      <th>merchandise</th>\n",
       "      <th>device</th>\n",
       "      <th>time</th>\n",
       "      <th>country</th>\n",
       "      <th>ip</th>\n",
       "      <th>url</th>\n",
       "    </tr>\n",
       "  </thead>\n",
       "  <tbody>\n",
       "    <tr>\n",
       "      <th>0</th>\n",
       "      <td>0</td>\n",
       "      <td>8dac2b259fd1c6d1120e519fb1ac14fbqvax8</td>\n",
       "      <td>ewmzr</td>\n",
       "      <td>jewelry</td>\n",
       "      <td>phone0</td>\n",
       "      <td>9759243157894736</td>\n",
       "      <td>us</td>\n",
       "      <td>69.166.231.58</td>\n",
       "      <td>vasstdc27m7nks3</td>\n",
       "    </tr>\n",
       "    <tr>\n",
       "      <th>1</th>\n",
       "      <td>1</td>\n",
       "      <td>668d393e858e8126275433046bbd35c6tywop</td>\n",
       "      <td>aeqok</td>\n",
       "      <td>furniture</td>\n",
       "      <td>phone1</td>\n",
       "      <td>9759243157894736</td>\n",
       "      <td>in</td>\n",
       "      <td>50.201.125.84</td>\n",
       "      <td>jmqlhflrzwuay9c</td>\n",
       "    </tr>\n",
       "    <tr>\n",
       "      <th>2</th>\n",
       "      <td>2</td>\n",
       "      <td>aa5f360084278b35d746fa6af3a7a1a5ra3xe</td>\n",
       "      <td>wa00e</td>\n",
       "      <td>home goods</td>\n",
       "      <td>phone2</td>\n",
       "      <td>9759243157894736</td>\n",
       "      <td>py</td>\n",
       "      <td>112.54.208.157</td>\n",
       "      <td>vasstdc27m7nks3</td>\n",
       "    </tr>\n",
       "    <tr>\n",
       "      <th>3</th>\n",
       "      <td>3</td>\n",
       "      <td>3939ac3ef7d472a59a9c5f893dd3e39fh9ofi</td>\n",
       "      <td>jefix</td>\n",
       "      <td>jewelry</td>\n",
       "      <td>phone4</td>\n",
       "      <td>9759243157894736</td>\n",
       "      <td>in</td>\n",
       "      <td>18.99.175.133</td>\n",
       "      <td>vasstdc27m7nks3</td>\n",
       "    </tr>\n",
       "    <tr>\n",
       "      <th>4</th>\n",
       "      <td>4</td>\n",
       "      <td>8393c48eaf4b8fa96886edc7cf27b372dsibi</td>\n",
       "      <td>jefix</td>\n",
       "      <td>jewelry</td>\n",
       "      <td>phone5</td>\n",
       "      <td>9759243157894736</td>\n",
       "      <td>in</td>\n",
       "      <td>145.138.5.37</td>\n",
       "      <td>vasstdc27m7nks3</td>\n",
       "    </tr>\n",
       "  </tbody>\n",
       "</table>\n",
       "</div>"
      ],
      "text/plain": [
       "   bid_id                              bidder_id auction merchandise  device  \\\n",
       "0       0  8dac2b259fd1c6d1120e519fb1ac14fbqvax8   ewmzr     jewelry  phone0   \n",
       "1       1  668d393e858e8126275433046bbd35c6tywop   aeqok   furniture  phone1   \n",
       "2       2  aa5f360084278b35d746fa6af3a7a1a5ra3xe   wa00e  home goods  phone2   \n",
       "3       3  3939ac3ef7d472a59a9c5f893dd3e39fh9ofi   jefix     jewelry  phone4   \n",
       "4       4  8393c48eaf4b8fa96886edc7cf27b372dsibi   jefix     jewelry  phone5   \n",
       "\n",
       "               time country              ip              url  \n",
       "0  9759243157894736      us   69.166.231.58  vasstdc27m7nks3  \n",
       "1  9759243157894736      in   50.201.125.84  jmqlhflrzwuay9c  \n",
       "2  9759243157894736      py  112.54.208.157  vasstdc27m7nks3  \n",
       "3  9759243157894736      in   18.99.175.133  vasstdc27m7nks3  \n",
       "4  9759243157894736      in    145.138.5.37  vasstdc27m7nks3  "
      ]
     },
     "execution_count": 2,
     "metadata": {},
     "output_type": "execute_result"
    }
   ],
   "source": [
    "df_bids = pd.read_csv('~/Desktop/Facebook _4_robot/bids.csv')\n",
    "df_bids.info()\n",
    "df_bids.head()"
   ]
  },
  {
   "cell_type": "code",
   "execution_count": 3,
   "metadata": {
    "collapsed": false,
    "scrolled": true
   },
   "outputs": [
    {
     "name": "stdout",
     "output_type": "stream",
     "text": [
      "<class 'pandas.core.frame.DataFrame'>\n",
      "Int64Index: 2013 entries, 0 to 2012\n",
      "Data columns (total 4 columns):\n",
      "bidder_id          2013 non-null object\n",
      "payment_account    2013 non-null object\n",
      "address            2013 non-null object\n",
      "outcome            2013 non-null float64\n",
      "dtypes: float64(1), object(3)\n",
      "memory usage: 78.6+ KB\n"
     ]
    },
    {
     "data": {
      "text/html": [
       "<div>\n",
       "<table border=\"1\" class=\"dataframe\">\n",
       "  <thead>\n",
       "    <tr style=\"text-align: right;\">\n",
       "      <th></th>\n",
       "      <th>bidder_id</th>\n",
       "      <th>payment_account</th>\n",
       "      <th>address</th>\n",
       "      <th>outcome</th>\n",
       "    </tr>\n",
       "  </thead>\n",
       "  <tbody>\n",
       "    <tr>\n",
       "      <th>0</th>\n",
       "      <td>91a3c57b13234af24875c56fb7e2b2f4rb56a</td>\n",
       "      <td>a3d2de7675556553a5f08e4c88d2c228754av</td>\n",
       "      <td>a3d2de7675556553a5f08e4c88d2c228vt0u4</td>\n",
       "      <td>0</td>\n",
       "    </tr>\n",
       "    <tr>\n",
       "      <th>1</th>\n",
       "      <td>624f258b49e77713fc34034560f93fb3hu3jo</td>\n",
       "      <td>a3d2de7675556553a5f08e4c88d2c228v1sga</td>\n",
       "      <td>ae87054e5a97a8f840a3991d12611fdcrfbq3</td>\n",
       "      <td>0</td>\n",
       "    </tr>\n",
       "    <tr>\n",
       "      <th>2</th>\n",
       "      <td>1c5f4fc669099bfbfac515cd26997bd12ruaj</td>\n",
       "      <td>a3d2de7675556553a5f08e4c88d2c2280cybl</td>\n",
       "      <td>92520288b50f03907041887884ba49c0cl0pd</td>\n",
       "      <td>0</td>\n",
       "    </tr>\n",
       "    <tr>\n",
       "      <th>3</th>\n",
       "      <td>4bee9aba2abda51bf43d639013d6efe12iycd</td>\n",
       "      <td>51d80e233f7b6a7dfdee484a3c120f3b2ita8</td>\n",
       "      <td>4cb9717c8ad7e88a9a284989dd79b98dbevyi</td>\n",
       "      <td>0</td>\n",
       "    </tr>\n",
       "    <tr>\n",
       "      <th>4</th>\n",
       "      <td>4ab12bc61c82ddd9c2d65e60555808acqgos1</td>\n",
       "      <td>a3d2de7675556553a5f08e4c88d2c22857ddh</td>\n",
       "      <td>2a96c3ce94b3be921e0296097b88b56a7x1ji</td>\n",
       "      <td>0</td>\n",
       "    </tr>\n",
       "  </tbody>\n",
       "</table>\n",
       "</div>"
      ],
      "text/plain": [
       "                               bidder_id  \\\n",
       "0  91a3c57b13234af24875c56fb7e2b2f4rb56a   \n",
       "1  624f258b49e77713fc34034560f93fb3hu3jo   \n",
       "2  1c5f4fc669099bfbfac515cd26997bd12ruaj   \n",
       "3  4bee9aba2abda51bf43d639013d6efe12iycd   \n",
       "4  4ab12bc61c82ddd9c2d65e60555808acqgos1   \n",
       "\n",
       "                         payment_account  \\\n",
       "0  a3d2de7675556553a5f08e4c88d2c228754av   \n",
       "1  a3d2de7675556553a5f08e4c88d2c228v1sga   \n",
       "2  a3d2de7675556553a5f08e4c88d2c2280cybl   \n",
       "3  51d80e233f7b6a7dfdee484a3c120f3b2ita8   \n",
       "4  a3d2de7675556553a5f08e4c88d2c22857ddh   \n",
       "\n",
       "                                 address  outcome  \n",
       "0  a3d2de7675556553a5f08e4c88d2c228vt0u4        0  \n",
       "1  ae87054e5a97a8f840a3991d12611fdcrfbq3        0  \n",
       "2  92520288b50f03907041887884ba49c0cl0pd        0  \n",
       "3  4cb9717c8ad7e88a9a284989dd79b98dbevyi        0  \n",
       "4  2a96c3ce94b3be921e0296097b88b56a7x1ji        0  "
      ]
     },
     "execution_count": 3,
     "metadata": {},
     "output_type": "execute_result"
    }
   ],
   "source": [
    "df_train = pd.read_csv('~/Desktop/Facebook _4_robot/train.csv')\n",
    "df_train.info()\n",
    "df_train.head()"
   ]
  },
  {
   "cell_type": "code",
   "execution_count": 4,
   "metadata": {
    "collapsed": false,
    "scrolled": true
   },
   "outputs": [
    {
     "name": "stdout",
     "output_type": "stream",
     "text": [
      "<class 'pandas.core.frame.DataFrame'>\n",
      "Int64Index: 4700 entries, 0 to 4699\n",
      "Data columns (total 3 columns):\n",
      "bidder_id          4700 non-null object\n",
      "payment_account    4700 non-null object\n",
      "address            4700 non-null object\n",
      "dtypes: object(3)\n",
      "memory usage: 146.9+ KB\n"
     ]
    },
    {
     "data": {
      "text/html": [
       "<div>\n",
       "<table border=\"1\" class=\"dataframe\">\n",
       "  <thead>\n",
       "    <tr style=\"text-align: right;\">\n",
       "      <th></th>\n",
       "      <th>bidder_id</th>\n",
       "      <th>payment_account</th>\n",
       "      <th>address</th>\n",
       "    </tr>\n",
       "  </thead>\n",
       "  <tbody>\n",
       "    <tr>\n",
       "      <th>0</th>\n",
       "      <td>49bb5a3c944b8fc337981cc7a9ccae41u31d7</td>\n",
       "      <td>a3d2de7675556553a5f08e4c88d2c228htx90</td>\n",
       "      <td>5d9fa1b71f992e7c7a106ce4b07a0a754le7c</td>\n",
       "    </tr>\n",
       "    <tr>\n",
       "      <th>1</th>\n",
       "      <td>a921612b85a1494456e74c09393ccb65ylp4y</td>\n",
       "      <td>a3d2de7675556553a5f08e4c88d2c228rs17i</td>\n",
       "      <td>a3d2de7675556553a5f08e4c88d2c228klidn</td>\n",
       "    </tr>\n",
       "    <tr>\n",
       "      <th>2</th>\n",
       "      <td>6b601e72a4d264dab9ace9d7b229b47479v6i</td>\n",
       "      <td>925381cce086b8cc9594eee1c77edf665zjpl</td>\n",
       "      <td>a3d2de7675556553a5f08e4c88d2c228aght0</td>\n",
       "    </tr>\n",
       "    <tr>\n",
       "      <th>3</th>\n",
       "      <td>eaf0ed0afc9689779417274b4791726cn5udi</td>\n",
       "      <td>a3d2de7675556553a5f08e4c88d2c228nclv5</td>\n",
       "      <td>b5714de1fd69d4a0d2e39d59e53fe9e15vwat</td>\n",
       "    </tr>\n",
       "    <tr>\n",
       "      <th>4</th>\n",
       "      <td>cdecd8d02ed8c6037e38042c7745f688mx5sf</td>\n",
       "      <td>a3d2de7675556553a5f08e4c88d2c228dtdkd</td>\n",
       "      <td>c3b363a3c3b838d58c85acf0fc9964cb4pnfa</td>\n",
       "    </tr>\n",
       "  </tbody>\n",
       "</table>\n",
       "</div>"
      ],
      "text/plain": [
       "                               bidder_id  \\\n",
       "0  49bb5a3c944b8fc337981cc7a9ccae41u31d7   \n",
       "1  a921612b85a1494456e74c09393ccb65ylp4y   \n",
       "2  6b601e72a4d264dab9ace9d7b229b47479v6i   \n",
       "3  eaf0ed0afc9689779417274b4791726cn5udi   \n",
       "4  cdecd8d02ed8c6037e38042c7745f688mx5sf   \n",
       "\n",
       "                         payment_account  \\\n",
       "0  a3d2de7675556553a5f08e4c88d2c228htx90   \n",
       "1  a3d2de7675556553a5f08e4c88d2c228rs17i   \n",
       "2  925381cce086b8cc9594eee1c77edf665zjpl   \n",
       "3  a3d2de7675556553a5f08e4c88d2c228nclv5   \n",
       "4  a3d2de7675556553a5f08e4c88d2c228dtdkd   \n",
       "\n",
       "                                 address  \n",
       "0  5d9fa1b71f992e7c7a106ce4b07a0a754le7c  \n",
       "1  a3d2de7675556553a5f08e4c88d2c228klidn  \n",
       "2  a3d2de7675556553a5f08e4c88d2c228aght0  \n",
       "3  b5714de1fd69d4a0d2e39d59e53fe9e15vwat  \n",
       "4  c3b363a3c3b838d58c85acf0fc9964cb4pnfa  "
      ]
     },
     "execution_count": 4,
     "metadata": {},
     "output_type": "execute_result"
    }
   ],
   "source": [
    "df_test = pd.read_csv('~/Desktop/Facebook _4_robot/test.csv')\n",
    "df_test.info()\n",
    "df_test.head()"
   ]
  },
  {
   "cell_type": "code",
   "execution_count": 5,
   "metadata": {
    "collapsed": false
   },
   "outputs": [],
   "source": [
    "# merge df_train and df_bids for data completion \n",
    "# merge df_test and df_bids for data completion \n",
    "\n",
    "train_merge = pd.merge(df_train, df_bids , how = 'left', on =['bidder_id'])\n",
    "df_submission = pd.read_csv('~/Desktop/Facebook _4_robot/sampleSubmission.csv')\n",
    "test_merge = pd.merge(df_test, df_bids , how = 'left', on =['bidder_id'])\n",
    "test_merge = pd.merge(test_merge, df_submission , how = 'left', on =['bidder_id'])\n",
    "#train_merge = pd.merge(df_bids, df_train , how = 'inner', on =['bidder_id'])\n",
    "#table = pd.pivot_table(train_merge, index = ['bidder_id', 'time'], aggfunc = np.size)"
   ]
  },
  {
   "cell_type": "code",
   "execution_count": 6,
   "metadata": {
    "collapsed": false
   },
   "outputs": [
    {
     "data": {
      "text/html": [
       "<div>\n",
       "<table border=\"1\" class=\"dataframe\">\n",
       "  <thead>\n",
       "    <tr style=\"text-align: right;\">\n",
       "      <th></th>\n",
       "      <th>bidder_id</th>\n",
       "      <th>payment_account</th>\n",
       "      <th>address</th>\n",
       "      <th>outcome</th>\n",
       "      <th>bid_id</th>\n",
       "      <th>auction</th>\n",
       "      <th>merchandise</th>\n",
       "      <th>device</th>\n",
       "      <th>time</th>\n",
       "      <th>country</th>\n",
       "      <th>ip</th>\n",
       "      <th>url</th>\n",
       "    </tr>\n",
       "  </thead>\n",
       "  <tbody>\n",
       "    <tr>\n",
       "      <th>0</th>\n",
       "      <td>91a3c57b13234af24875c56fb7e2b2f4rb56a</td>\n",
       "      <td>a3d2de7675556553a5f08e4c88d2c228754av</td>\n",
       "      <td>a3d2de7675556553a5f08e4c88d2c228vt0u4</td>\n",
       "      <td>0</td>\n",
       "      <td>85371</td>\n",
       "      <td>yitr4</td>\n",
       "      <td>home goods</td>\n",
       "      <td>phone35</td>\n",
       "      <td>9.759489e+15</td>\n",
       "      <td>ke</td>\n",
       "      <td>82.34.177.248</td>\n",
       "      <td>vasstdc27m7nks3</td>\n",
       "    </tr>\n",
       "    <tr>\n",
       "      <th>1</th>\n",
       "      <td>91a3c57b13234af24875c56fb7e2b2f4rb56a</td>\n",
       "      <td>a3d2de7675556553a5f08e4c88d2c228754av</td>\n",
       "      <td>a3d2de7675556553a5f08e4c88d2c228vt0u4</td>\n",
       "      <td>0</td>\n",
       "      <td>274487</td>\n",
       "      <td>btpyy</td>\n",
       "      <td>home goods</td>\n",
       "      <td>phone1004</td>\n",
       "      <td>9.760249e+15</td>\n",
       "      <td>zm</td>\n",
       "      <td>202.130.71.167</td>\n",
       "      <td>vasstdc27m7nks3</td>\n",
       "    </tr>\n",
       "    <tr>\n",
       "      <th>2</th>\n",
       "      <td>91a3c57b13234af24875c56fb7e2b2f4rb56a</td>\n",
       "      <td>a3d2de7675556553a5f08e4c88d2c228754av</td>\n",
       "      <td>a3d2de7675556553a5f08e4c88d2c228vt0u4</td>\n",
       "      <td>0</td>\n",
       "      <td>527436</td>\n",
       "      <td>kj2ko</td>\n",
       "      <td>home goods</td>\n",
       "      <td>phone4</td>\n",
       "      <td>9.762261e+15</td>\n",
       "      <td>ke</td>\n",
       "      <td>22.54.76.225</td>\n",
       "      <td>vasstdc27m7nks3</td>\n",
       "    </tr>\n",
       "    <tr>\n",
       "      <th>3</th>\n",
       "      <td>91a3c57b13234af24875c56fb7e2b2f4rb56a</td>\n",
       "      <td>a3d2de7675556553a5f08e4c88d2c228754av</td>\n",
       "      <td>a3d2de7675556553a5f08e4c88d2c228vt0u4</td>\n",
       "      <td>0</td>\n",
       "      <td>554135</td>\n",
       "      <td>1m5t8</td>\n",
       "      <td>home goods</td>\n",
       "      <td>phone4</td>\n",
       "      <td>9.762431e+15</td>\n",
       "      <td>ke</td>\n",
       "      <td>32.13.237.126</td>\n",
       "      <td>vasstdc27m7nks3</td>\n",
       "    </tr>\n",
       "    <tr>\n",
       "      <th>4</th>\n",
       "      <td>91a3c57b13234af24875c56fb7e2b2f4rb56a</td>\n",
       "      <td>a3d2de7675556553a5f08e4c88d2c228754av</td>\n",
       "      <td>a3d2de7675556553a5f08e4c88d2c228vt0u4</td>\n",
       "      <td>0</td>\n",
       "      <td>607628</td>\n",
       "      <td>btpyy</td>\n",
       "      <td>home goods</td>\n",
       "      <td>phone4</td>\n",
       "      <td>9.762789e+15</td>\n",
       "      <td>ke</td>\n",
       "      <td>202.236.188.240</td>\n",
       "      <td>vasstdc27m7nks3</td>\n",
       "    </tr>\n",
       "  </tbody>\n",
       "</table>\n",
       "</div>"
      ],
      "text/plain": [
       "                               bidder_id  \\\n",
       "0  91a3c57b13234af24875c56fb7e2b2f4rb56a   \n",
       "1  91a3c57b13234af24875c56fb7e2b2f4rb56a   \n",
       "2  91a3c57b13234af24875c56fb7e2b2f4rb56a   \n",
       "3  91a3c57b13234af24875c56fb7e2b2f4rb56a   \n",
       "4  91a3c57b13234af24875c56fb7e2b2f4rb56a   \n",
       "\n",
       "                         payment_account  \\\n",
       "0  a3d2de7675556553a5f08e4c88d2c228754av   \n",
       "1  a3d2de7675556553a5f08e4c88d2c228754av   \n",
       "2  a3d2de7675556553a5f08e4c88d2c228754av   \n",
       "3  a3d2de7675556553a5f08e4c88d2c228754av   \n",
       "4  a3d2de7675556553a5f08e4c88d2c228754av   \n",
       "\n",
       "                                 address  outcome  bid_id auction merchandise  \\\n",
       "0  a3d2de7675556553a5f08e4c88d2c228vt0u4        0   85371   yitr4  home goods   \n",
       "1  a3d2de7675556553a5f08e4c88d2c228vt0u4        0  274487   btpyy  home goods   \n",
       "2  a3d2de7675556553a5f08e4c88d2c228vt0u4        0  527436   kj2ko  home goods   \n",
       "3  a3d2de7675556553a5f08e4c88d2c228vt0u4        0  554135   1m5t8  home goods   \n",
       "4  a3d2de7675556553a5f08e4c88d2c228vt0u4        0  607628   btpyy  home goods   \n",
       "\n",
       "      device          time country               ip              url  \n",
       "0    phone35  9.759489e+15      ke    82.34.177.248  vasstdc27m7nks3  \n",
       "1  phone1004  9.760249e+15      zm   202.130.71.167  vasstdc27m7nks3  \n",
       "2     phone4  9.762261e+15      ke     22.54.76.225  vasstdc27m7nks3  \n",
       "3     phone4  9.762431e+15      ke    32.13.237.126  vasstdc27m7nks3  \n",
       "4     phone4  9.762789e+15      ke  202.236.188.240  vasstdc27m7nks3  "
      ]
     },
     "execution_count": 6,
     "metadata": {},
     "output_type": "execute_result"
    }
   ],
   "source": [
    "train_merge.head()"
   ]
  },
  {
   "cell_type": "code",
   "execution_count": 7,
   "metadata": {
    "collapsed": false
   },
   "outputs": [
    {
     "data": {
      "text/html": [
       "<div>\n",
       "<table border=\"1\" class=\"dataframe\">\n",
       "  <thead>\n",
       "    <tr style=\"text-align: right;\">\n",
       "      <th></th>\n",
       "      <th>bidder_id</th>\n",
       "      <th>payment_account</th>\n",
       "      <th>address</th>\n",
       "      <th>bid_id</th>\n",
       "      <th>auction</th>\n",
       "      <th>merchandise</th>\n",
       "      <th>device</th>\n",
       "      <th>time</th>\n",
       "      <th>country</th>\n",
       "      <th>ip</th>\n",
       "      <th>url</th>\n",
       "      <th>prediction</th>\n",
       "    </tr>\n",
       "  </thead>\n",
       "  <tbody>\n",
       "    <tr>\n",
       "      <th>0</th>\n",
       "      <td>49bb5a3c944b8fc337981cc7a9ccae41u31d7</td>\n",
       "      <td>a3d2de7675556553a5f08e4c88d2c228htx90</td>\n",
       "      <td>5d9fa1b71f992e7c7a106ce4b07a0a754le7c</td>\n",
       "      <td>2714053</td>\n",
       "      <td>cl3cf</td>\n",
       "      <td>home goods</td>\n",
       "      <td>phone169</td>\n",
       "      <td>9.633127e+15</td>\n",
       "      <td>us</td>\n",
       "      <td>128.59.117.159</td>\n",
       "      <td>8ohccaw6fhyc1gy</td>\n",
       "      <td>0</td>\n",
       "    </tr>\n",
       "    <tr>\n",
       "      <th>1</th>\n",
       "      <td>49bb5a3c944b8fc337981cc7a9ccae41u31d7</td>\n",
       "      <td>a3d2de7675556553a5f08e4c88d2c228htx90</td>\n",
       "      <td>5d9fa1b71f992e7c7a106ce4b07a0a754le7c</td>\n",
       "      <td>3785632</td>\n",
       "      <td>edggv</td>\n",
       "      <td>home goods</td>\n",
       "      <td>phone65</td>\n",
       "      <td>9.638908e+15</td>\n",
       "      <td>cn</td>\n",
       "      <td>254.171.78.220</td>\n",
       "      <td>vasstdc27m7nks3</td>\n",
       "      <td>0</td>\n",
       "    </tr>\n",
       "    <tr>\n",
       "      <th>2</th>\n",
       "      <td>49bb5a3c944b8fc337981cc7a9ccae41u31d7</td>\n",
       "      <td>a3d2de7675556553a5f08e4c88d2c228htx90</td>\n",
       "      <td>5d9fa1b71f992e7c7a106ce4b07a0a754le7c</td>\n",
       "      <td>5788255</td>\n",
       "      <td>jqx39</td>\n",
       "      <td>home goods</td>\n",
       "      <td>phone65</td>\n",
       "      <td>9.698805e+15</td>\n",
       "      <td>in</td>\n",
       "      <td>102.115.72.52</td>\n",
       "      <td>jezzg7twk0rqfuw</td>\n",
       "      <td>0</td>\n",
       "    </tr>\n",
       "    <tr>\n",
       "      <th>3</th>\n",
       "      <td>49bb5a3c944b8fc337981cc7a9ccae41u31d7</td>\n",
       "      <td>a3d2de7675556553a5f08e4c88d2c228htx90</td>\n",
       "      <td>5d9fa1b71f992e7c7a106ce4b07a0a754le7c</td>\n",
       "      <td>6575051</td>\n",
       "      <td>jqx39</td>\n",
       "      <td>home goods</td>\n",
       "      <td>phone65</td>\n",
       "      <td>9.703350e+15</td>\n",
       "      <td>cn</td>\n",
       "      <td>210.90.145.131</td>\n",
       "      <td>vasstdc27m7nks3</td>\n",
       "      <td>0</td>\n",
       "    </tr>\n",
       "    <tr>\n",
       "      <th>4</th>\n",
       "      <td>a921612b85a1494456e74c09393ccb65ylp4y</td>\n",
       "      <td>a3d2de7675556553a5f08e4c88d2c228rs17i</td>\n",
       "      <td>a3d2de7675556553a5f08e4c88d2c228klidn</td>\n",
       "      <td>2536026</td>\n",
       "      <td>h2nr3</td>\n",
       "      <td>sporting goods</td>\n",
       "      <td>phone640</td>\n",
       "      <td>9.632413e+15</td>\n",
       "      <td>az</td>\n",
       "      <td>85.169.46.232</td>\n",
       "      <td>vasstdc27m7nks3</td>\n",
       "      <td>0</td>\n",
       "    </tr>\n",
       "  </tbody>\n",
       "</table>\n",
       "</div>"
      ],
      "text/plain": [
       "                               bidder_id  \\\n",
       "0  49bb5a3c944b8fc337981cc7a9ccae41u31d7   \n",
       "1  49bb5a3c944b8fc337981cc7a9ccae41u31d7   \n",
       "2  49bb5a3c944b8fc337981cc7a9ccae41u31d7   \n",
       "3  49bb5a3c944b8fc337981cc7a9ccae41u31d7   \n",
       "4  a921612b85a1494456e74c09393ccb65ylp4y   \n",
       "\n",
       "                         payment_account  \\\n",
       "0  a3d2de7675556553a5f08e4c88d2c228htx90   \n",
       "1  a3d2de7675556553a5f08e4c88d2c228htx90   \n",
       "2  a3d2de7675556553a5f08e4c88d2c228htx90   \n",
       "3  a3d2de7675556553a5f08e4c88d2c228htx90   \n",
       "4  a3d2de7675556553a5f08e4c88d2c228rs17i   \n",
       "\n",
       "                                 address   bid_id auction     merchandise  \\\n",
       "0  5d9fa1b71f992e7c7a106ce4b07a0a754le7c  2714053   cl3cf      home goods   \n",
       "1  5d9fa1b71f992e7c7a106ce4b07a0a754le7c  3785632   edggv      home goods   \n",
       "2  5d9fa1b71f992e7c7a106ce4b07a0a754le7c  5788255   jqx39      home goods   \n",
       "3  5d9fa1b71f992e7c7a106ce4b07a0a754le7c  6575051   jqx39      home goods   \n",
       "4  a3d2de7675556553a5f08e4c88d2c228klidn  2536026   h2nr3  sporting goods   \n",
       "\n",
       "     device          time country              ip              url  prediction  \n",
       "0  phone169  9.633127e+15      us  128.59.117.159  8ohccaw6fhyc1gy           0  \n",
       "1   phone65  9.638908e+15      cn  254.171.78.220  vasstdc27m7nks3           0  \n",
       "2   phone65  9.698805e+15      in   102.115.72.52  jezzg7twk0rqfuw           0  \n",
       "3   phone65  9.703350e+15      cn  210.90.145.131  vasstdc27m7nks3           0  \n",
       "4  phone640  9.632413e+15      az   85.169.46.232  vasstdc27m7nks3           0  "
      ]
     },
     "execution_count": 7,
     "metadata": {},
     "output_type": "execute_result"
    }
   ],
   "source": [
    "test_merge.head()"
   ]
  },
  {
   "cell_type": "code",
   "execution_count": 8,
   "metadata": {
    "collapsed": false
   },
   "outputs": [
    {
     "data": {
      "text/plain": [
       "<matplotlib.text.Text at 0x1095066a0>"
      ]
     },
     "execution_count": 8,
     "metadata": {},
     "output_type": "execute_result"
    },
    {
     "data": {
      "image/png": "[encoded data removed]",
      "text/plain": [
       "<matplotlib.figure.Figure at 0x1094dfda0>"
      ]
     },
     "metadata": {},
     "output_type": "display_data"
    }
   ],
   "source": [
    "# distribution of time of bidding for all bids  \n",
    "(train_merge.groupby('time').count())['bid_id'].plot(title='distribution of time of bidding for all bids')\n",
    "pyplot.xlabel('time if bidding')\n",
    "pyplot.ylabel('# of bid')\n"
   ]
  },
  {
   "cell_type": "markdown",
   "metadata": {},
   "source": [
    "From the chart above, we can assume the data from 3 different days, and can do further trarsformaion for the \"time\" column  "
   ]
  },
  {
   "cell_type": "code",
   "execution_count": 9,
   "metadata": {
    "collapsed": true
   },
   "outputs": [],
   "source": [
    "# Total number of total bids robot & human made \n"
   ]
  },
  {
   "cell_type": "markdown",
   "metadata": {},
   "source": [
    "## Feature Engineering"
   ]
  },
  {
   "cell_type": "code",
   "execution_count": 15,
   "metadata": {
    "collapsed": false
   },
   "outputs": [],
   "source": [
    "# import ML modules\n",
    "\n",
    "\n",
    "from sklearn.cross_validation import train_test_split\n",
    "from sklearn.neighbors import KNeighborsClassifier\n",
    "from sklearn import metrics\n",
    "from sklearn.cross_validation import cross_val_score\n",
    "from sklearn.grid_search import GridSearchCV\n",
    "from sklearn.cross_validation import KFold\n",
    "from sklearn.ensemble import RandomForestClassifier as RF\n",
    "from sklearn.linear_model import LogisticRegression, LinearRegression\n",
    "from matplotlib.colors import ListedColormap\n",
    "from sklearn.metrics import accuracy_score, classification_report, confusion_matrix\n",
    "from sklearn.cross_validation import train_test_split, cross_val_score, KFold\n",
    "from sklearn.preprocessing import LabelEncoder\n",
    "from sklearn.linear_model import LogisticRegression\n",
    "from sklearn.svm import SVC\n",
    "from sklearn.tree import DecisionTreeClassifier, export_graphviz\n",
    "from sklearn.grid_search import GridSearchCV"
   ]
  },
  {
   "cell_type": "code",
   "execution_count": 16,
   "metadata": {
    "collapsed": true
   },
   "outputs": [],
   "source": [
    "# define modules for feature preparation\n",
    "\n",
    "def total_number_bid_bidder_made(data):\n",
    "\ttotal_number_bid_bidder = data.groupby('bidder_id').count()['payment_account']\n",
    "\ttotal_number_bid_bidder = pd.DataFrame(total_number_bid_bidder).reset_index()\n",
    "\ttotal_number_bid_bidder.columns =['bidder_id', 'total_number_bid_bidder_made']\n",
    "\treturn total_number_bid_bidder\n",
    "\n",
    "def avg_number_bid_bidder_made(data):\n",
    "\tavg_number_bid_bidder = (data.groupby(['bidder_id']).count()['outcome'])/(((data.groupby(['bidder_id', 'auction']).count()['outcome'].reset_index()).groupby('bidder_id').count()['outcome']))\n",
    "\tavg_number_bid_bidder = pd.DataFrame(avg_number_bid_bidder).reset_index()\n",
    "\tavg_number_bid_bidder.columns =['bidder_id', 'avg_number_bid_bidder_made']\n",
    "\treturn avg_number_bid_bidder\n",
    "\n",
    "def ave_gap_of_time_in_2_bids(data):\n",
    "\tave_gap_of_time = [[] for i in range(2)]\n",
    "\tfor k in list(set(data.bidder_id)):\n",
    "\t\tdata_k = data[data['bidder_id'] == k]\n",
    "\t\tif max(data_k['time']) and min(data_k['time']) : \n",
    "\t\t\tave_gap_of_time[0].append(k)\n",
    "\t\t\tave_gap_of_time[1].append(float(max(data_k['time'])) - float(min(data_k['time'])))\n",
    "\t\t\tdf = pd.DataFrame(ave_gap_of_time).transpose()\n",
    "\t\t\tdf.columns = ['bidder_id','gap_time_max_min']\n",
    "\treturn df \n"
   ]
  },
  {
   "cell_type": "code",
   "execution_count": 19,
   "metadata": {
    "collapsed": false
   },
   "outputs": [],
   "source": [
    "# feature Engineering\n",
    "\n",
    "def feature_engineering(data):\n",
    "\tdf_feature = data[['bidder_id','outcome']]\n",
    "\tdf_feature = df_feature.drop_duplicates()\n",
    "\tdf_feature = pd.merge(df_feature , total_number_bid_bidder_made(data), how = 'left', on=['bidder_id'])\n",
    "\tdf_feature = pd.merge(df_feature , avg_number_bid_bidder_made(data), how = 'left', on=['bidder_id'])\n",
    "\tdf_feature = pd.merge(df_feature , ave_gap_of_time_in_2_bids(data), how = 'left', on=['bidder_id'])\n",
    "\treturn df_feature\n"
   ]
  },
  {
   "cell_type": "code",
   "execution_count": 20,
   "metadata": {
    "collapsed": false
   },
   "outputs": [],
   "source": [
    "# do the feature engineering then save them to .csv for avoiding the memory & time cost problems \n",
    "\n",
    "# df_train_feature\n",
    "df_train_feature = feature_engineering(train_merge)\n",
    "df_train_feature.dropna()\n",
    "X_train = df_train_feature[['total_number_bid_bidder_made','avg_number_bid_bidder_made','gap_time_max_min']]\n",
    "y_train = df_train_feature['outcome']\n",
    "\n",
    "\n",
    "#  df_test_feature\n",
    "df_submission = pd.read_csv('~/Desktop/Facebook _4_robot/sampleSubmission.csv')\n",
    "test_feature = pd.merge(test_merge,df_submission , how = 'left', on =['bidder_id'])\n",
    "test_feature.rename(columns={'prediction_x':'outcome'}, inplace=True)\n",
    "df_test_feature= feature_engineering(test_feature)\n",
    "df_test_feature.dropna()\n",
    "X_test = df_test_feature[['total_number_bid_bidder_made','avg_number_bid_bidder_made','gap_time_max_min']]\n",
    "y_test = df_test_feature['outcome']\n",
    "\n",
    "\n",
    "# save outcome to .csv \n",
    "df_train_feature.to_csv('~/Desktop/Facebook _4_robot/df_train_feature.csv')\n",
    "df_test_feature.to_csv('~/Desktop/Facebook _4_robot/df_test_feature.csv')"
   ]
  },
  {
   "cell_type": "markdown",
   "metadata": {},
   "source": [
    "#  Loading data "
   ]
  },
  {
   "cell_type": "code",
   "execution_count": 21,
   "metadata": {
    "collapsed": false
   },
   "outputs": [],
   "source": [
    "# load the train and test data \n",
    "df_train_feature = pd.read_csv('~/Desktop/Facebook _4_robot/df_train_feature.csv')\n",
    "df_test_feature =pd.read_csv('~/Desktop/Facebook _4_robot/df_test_feature.csv')                           "
   ]
  },
  {
   "cell_type": "code",
   "execution_count": 22,
   "metadata": {
    "collapsed": false
   },
   "outputs": [
    {
     "data": {
      "text/html": [
       "<div>\n",
       "<table border=\"1\" class=\"dataframe\">\n",
       "  <thead>\n",
       "    <tr style=\"text-align: right;\">\n",
       "      <th></th>\n",
       "      <th>Unnamed: 0</th>\n",
       "      <th>bidder_id</th>\n",
       "      <th>outcome</th>\n",
       "      <th>total_number_bid_bidder_made</th>\n",
       "      <th>avg_number_bid_bidder_made</th>\n",
       "      <th>gap_time_max_min</th>\n",
       "    </tr>\n",
       "  </thead>\n",
       "  <tbody>\n",
       "    <tr>\n",
       "      <th>0</th>\n",
       "      <td>0</td>\n",
       "      <td>91a3c57b13234af24875c56fb7e2b2f4rb56a</td>\n",
       "      <td>0</td>\n",
       "      <td>24</td>\n",
       "      <td>1.333333</td>\n",
       "      <td>1.313558e+13</td>\n",
       "    </tr>\n",
       "    <tr>\n",
       "      <th>1</th>\n",
       "      <td>1</td>\n",
       "      <td>624f258b49e77713fc34034560f93fb3hu3jo</td>\n",
       "      <td>0</td>\n",
       "      <td>3</td>\n",
       "      <td>3.000000</td>\n",
       "      <td>6.467158e+12</td>\n",
       "    </tr>\n",
       "    <tr>\n",
       "      <th>2</th>\n",
       "      <td>2</td>\n",
       "      <td>1c5f4fc669099bfbfac515cd26997bd12ruaj</td>\n",
       "      <td>0</td>\n",
       "      <td>4</td>\n",
       "      <td>1.000000</td>\n",
       "      <td>7.137000e+12</td>\n",
       "    </tr>\n",
       "    <tr>\n",
       "      <th>3</th>\n",
       "      <td>3</td>\n",
       "      <td>4bee9aba2abda51bf43d639013d6efe12iycd</td>\n",
       "      <td>0</td>\n",
       "      <td>1</td>\n",
       "      <td>1.000000</td>\n",
       "      <td>0.000000e+00</td>\n",
       "    </tr>\n",
       "    <tr>\n",
       "      <th>4</th>\n",
       "      <td>4</td>\n",
       "      <td>4ab12bc61c82ddd9c2d65e60555808acqgos1</td>\n",
       "      <td>0</td>\n",
       "      <td>155</td>\n",
       "      <td>6.739130</td>\n",
       "      <td>1.197795e+13</td>\n",
       "    </tr>\n",
       "  </tbody>\n",
       "</table>\n",
       "</div>"
      ],
      "text/plain": [
       "   Unnamed: 0                              bidder_id  outcome  \\\n",
       "0           0  91a3c57b13234af24875c56fb7e2b2f4rb56a        0   \n",
       "1           1  624f258b49e77713fc34034560f93fb3hu3jo        0   \n",
       "2           2  1c5f4fc669099bfbfac515cd26997bd12ruaj        0   \n",
       "3           3  4bee9aba2abda51bf43d639013d6efe12iycd        0   \n",
       "4           4  4ab12bc61c82ddd9c2d65e60555808acqgos1        0   \n",
       "\n",
       "   total_number_bid_bidder_made  avg_number_bid_bidder_made  gap_time_max_min  \n",
       "0                            24                    1.333333      1.313558e+13  \n",
       "1                             3                    3.000000      6.467158e+12  \n",
       "2                             4                    1.000000      7.137000e+12  \n",
       "3                             1                    1.000000      0.000000e+00  \n",
       "4                           155                    6.739130      1.197795e+13  "
      ]
     },
     "execution_count": 22,
     "metadata": {},
     "output_type": "execute_result"
    }
   ],
   "source": [
    "df_train_feature.head()\n"
   ]
  },
  {
   "cell_type": "code",
   "execution_count": 23,
   "metadata": {
    "collapsed": false
   },
   "outputs": [
    {
     "name": "stdout",
     "output_type": "stream",
     "text": [
      "<class 'pandas.core.frame.DataFrame'>\n",
      "Int64Index: 2013 entries, 0 to 2012\n",
      "Data columns (total 6 columns):\n",
      "Unnamed: 0                      2013 non-null int64\n",
      "bidder_id                       2013 non-null object\n",
      "outcome                         2013 non-null float64\n",
      "total_number_bid_bidder_made    2013 non-null int64\n",
      "avg_number_bid_bidder_made      1984 non-null float64\n",
      "gap_time_max_min                1984 non-null float64\n",
      "dtypes: float64(3), int64(2), object(1)\n",
      "memory usage: 110.1+ KB\n"
     ]
    }
   ],
   "source": [
    "df_train_feature.info()"
   ]
  },
  {
   "cell_type": "code",
   "execution_count": 24,
   "metadata": {
    "collapsed": false
   },
   "outputs": [
    {
     "data": {
      "text/html": [
       "<div>\n",
       "<table border=\"1\" class=\"dataframe\">\n",
       "  <thead>\n",
       "    <tr style=\"text-align: right;\">\n",
       "      <th></th>\n",
       "      <th>Unnamed: 0</th>\n",
       "      <th>bidder_id</th>\n",
       "      <th>outcome</th>\n",
       "      <th>total_number_bid_bidder_made</th>\n",
       "      <th>avg_number_bid_bidder_made</th>\n",
       "      <th>gap_time_max_min</th>\n",
       "    </tr>\n",
       "  </thead>\n",
       "  <tbody>\n",
       "    <tr>\n",
       "      <th>0</th>\n",
       "      <td>0</td>\n",
       "      <td>49bb5a3c944b8fc337981cc7a9ccae41u31d7</td>\n",
       "      <td>0</td>\n",
       "      <td>4</td>\n",
       "      <td>1.333333</td>\n",
       "      <td>7.022368e+13</td>\n",
       "    </tr>\n",
       "    <tr>\n",
       "      <th>1</th>\n",
       "      <td>1</td>\n",
       "      <td>a921612b85a1494456e74c09393ccb65ylp4y</td>\n",
       "      <td>0</td>\n",
       "      <td>3</td>\n",
       "      <td>1.500000</td>\n",
       "      <td>7.600205e+13</td>\n",
       "    </tr>\n",
       "    <tr>\n",
       "      <th>2</th>\n",
       "      <td>2</td>\n",
       "      <td>6b601e72a4d264dab9ace9d7b229b47479v6i</td>\n",
       "      <td>0</td>\n",
       "      <td>17</td>\n",
       "      <td>1.214286</td>\n",
       "      <td>2.910526e+11</td>\n",
       "    </tr>\n",
       "    <tr>\n",
       "      <th>3</th>\n",
       "      <td>3</td>\n",
       "      <td>eaf0ed0afc9689779417274b4791726cn5udi</td>\n",
       "      <td>0</td>\n",
       "      <td>148</td>\n",
       "      <td>1.644444</td>\n",
       "      <td>7.652163e+13</td>\n",
       "    </tr>\n",
       "    <tr>\n",
       "      <th>4</th>\n",
       "      <td>4</td>\n",
       "      <td>cdecd8d02ed8c6037e38042c7745f688mx5sf</td>\n",
       "      <td>0</td>\n",
       "      <td>23</td>\n",
       "      <td>1.150000</td>\n",
       "      <td>6.574789e+12</td>\n",
       "    </tr>\n",
       "  </tbody>\n",
       "</table>\n",
       "</div>"
      ],
      "text/plain": [
       "   Unnamed: 0                              bidder_id  outcome  \\\n",
       "0           0  49bb5a3c944b8fc337981cc7a9ccae41u31d7        0   \n",
       "1           1  a921612b85a1494456e74c09393ccb65ylp4y        0   \n",
       "2           2  6b601e72a4d264dab9ace9d7b229b47479v6i        0   \n",
       "3           3  eaf0ed0afc9689779417274b4791726cn5udi        0   \n",
       "4           4  cdecd8d02ed8c6037e38042c7745f688mx5sf        0   \n",
       "\n",
       "   total_number_bid_bidder_made  avg_number_bid_bidder_made  gap_time_max_min  \n",
       "0                             4                    1.333333      7.022368e+13  \n",
       "1                             3                    1.500000      7.600205e+13  \n",
       "2                            17                    1.214286      2.910526e+11  \n",
       "3                           148                    1.644444      7.652163e+13  \n",
       "4                            23                    1.150000      6.574789e+12  "
      ]
     },
     "execution_count": 24,
     "metadata": {},
     "output_type": "execute_result"
    }
   ],
   "source": [
    "df_test_feature.head()"
   ]
  },
  {
   "cell_type": "code",
   "execution_count": 25,
   "metadata": {
    "collapsed": false
   },
   "outputs": [
    {
     "name": "stdout",
     "output_type": "stream",
     "text": [
      "<class 'pandas.core.frame.DataFrame'>\n",
      "Int64Index: 4700 entries, 0 to 4699\n",
      "Data columns (total 6 columns):\n",
      "Unnamed: 0                      4700 non-null int64\n",
      "bidder_id                       4700 non-null object\n",
      "outcome                         4700 non-null int64\n",
      "total_number_bid_bidder_made    4700 non-null int64\n",
      "avg_number_bid_bidder_made      4630 non-null float64\n",
      "gap_time_max_min                4630 non-null float64\n",
      "dtypes: float64(2), int64(3), object(1)\n",
      "memory usage: 257.0+ KB\n"
     ]
    }
   ],
   "source": [
    "df_test_feature.info()"
   ]
  },
  {
   "cell_type": "markdown",
   "metadata": {},
   "source": [
    "# MACHINE LEARNING "
   ]
  },
  {
   "cell_type": "code",
   "execution_count": 29,
   "metadata": {
    "collapsed": false
   },
   "outputs": [],
   "source": [
    "# split the train data to \"train\" & \"test\" data \n",
    "df_train_feature = df_train_feature.dropna()\n",
    "df_test_feature = df_test_feature.dropna()\n",
    "X = df_train_feature[['total_number_bid_bidder_made','avg_number_bid_bidder_made','gap_time_max_min']]\n",
    "y = df_train_feature['outcome']\n",
    "\n",
    "X_train, X_test, y_train, y_test = train_test_split(X, y,train_size=0.8, random_state=33)"
   ]
  },
  {
   "cell_type": "code",
   "execution_count": 30,
   "metadata": {
    "collapsed": false
   },
   "outputs": [
    {
     "data": {
      "text/plain": [
       "<seaborn.axisgrid.PairGrid at 0x104881470>"
      ]
     },
     "execution_count": 30,
     "metadata": {},
     "output_type": "execute_result"
    },
    {
     "data": {
      "text/plain": [
       "<matplotlib.figure.Figure at 0x104881438>"
      ]
     },
     "metadata": {},
     "output_type": "display_data"
    },
    {
     "data": {
      "image/png": "[encoded data removed]",
      "text/plain": [
       "<matplotlib.figure.Figure at 0x10ac42c18>"
      ]
     },
     "metadata": {},
     "output_type": "display_data"
    }
   ],
   "source": [
    "# do the pairplot for train data to check the correlation between features and outcome\n",
    "\n",
    "data_plot =  df_train_feature[['total_number_bid_bidder_made','avg_number_bid_bidder_made', 'gap_time_max_min','outcome']]\n",
    "plt.figure()\n",
    "seaborn.pairplot(data_plot,hue=\"outcome\", dropna=True) \n"
   ]
  },
  {
   "cell_type": "code",
   "execution_count": 32,
   "metadata": {
    "collapsed": false
   },
   "outputs": [
    {
     "name": "stdout",
     "output_type": "stream",
     "text": [
      "[ 0.9375      0.94339623  0.94339623  0.94339623  0.94339623  0.94339623\n",
      "  0.94303797  0.94303797  0.94303797  0.94303797]\n",
      "[ 1.  1.  1.  1.  1.  1.  1.  1.  1.  1.]\n"
     ]
    }
   ],
   "source": [
    "### KNN (k-Nearest Neighbors algorithm) ###\n",
    "\n",
    "knn = KNeighborsClassifier(n_neighbors=10)\n",
    "knn.fit( X_train, y_train)\n",
    "scores_1 = cross_val_score(knn, X_train, y_train, cv=10)\n",
    "scores_2 = cross_val_score(knn, df_test_feature[['outcome']], knn.predict(df_test_feature[['total_number_bid_bidder_made','avg_number_bid_bidder_made','gap_time_max_min']]),cv=10)\n",
    "print (scores_1)\n",
    "print (scores_2)\n"
   ]
  },
  {
   "cell_type": "code",
   "execution_count": 33,
   "metadata": {
    "collapsed": false
   },
   "outputs": [
    {
     "name": "stdout",
     "output_type": "stream",
     "text": [
      "[0.89916572453315669, 0.93950945939172514, 0.93509303452385584, 0.94265887712536967, 0.94265887712536967, 0.94265887712536967, 0.94328820374588573, 0.94265887712536967, 0.94265887712536967, 0.94265887712536967, 0.94265887712536967, 0.94265887712536967, 0.94265887712536967, 0.94265887712536967, 0.94265887712536967, 0.94265887712536967, 0.94265887712536967, 0.94265887712536967, 0.94265887712536967, 0.94265887712536967, 0.94265887712536967, 0.94265887712536967, 0.94265887712536967, 0.94265887712536967, 0.94265887712536967, 0.94265887712536967, 0.94265887712536967, 0.94265887712536967, 0.94265887712536967]\n"
     ]
    },
    {
     "data": {
      "text/plain": [
       "<matplotlib.text.Text at 0x10cba02b0>"
      ]
     },
     "execution_count": 33,
     "metadata": {},
     "output_type": "execute_result"
    },
    {
     "data": {
      "image/png": "[encoded data removed]",
      "text/plain": [
       "<matplotlib.figure.Figure at 0x10c792780>"
      ]
     },
     "metadata": {},
     "output_type": "display_data"
    }
   ],
   "source": [
    "### KNN 2 ###\n",
    "###      ####\n",
    "k_range = range(1,30)\n",
    "k_scores = []\n",
    "for k in k_range:\n",
    "\n",
    "\t\n",
    "\t\n",
    "\tknn = KNeighborsClassifier(n_neighbors=k)\n",
    "\tknn.fit( X_train, y_train)\n",
    "\tscores = cross_val_score(knn, X_train, y_train, cv=7, scoring='accuracy')\n",
    "\tk_scores.append(scores.mean())\n",
    "\n",
    "print (k_scores) \n",
    "\n",
    "plt.plot(k_range, k_scores)\n",
    "plt.xlabel('Value of K for KNN')\n",
    "plt.ylabel('Cross-Validated Accuracy')"
   ]
  },
  {
   "cell_type": "code",
   "execution_count": 34,
   "metadata": {
    "collapsed": false
   },
   "outputs": [
    {
     "data": {
      "text/plain": [
       "[<matplotlib.lines.Line2D at 0x10d09add8>]"
      ]
     },
     "execution_count": 34,
     "metadata": {},
     "output_type": "execute_result"
    },
    {
     "data": {
      "image/png": "[encoded data removed]",
      "text/plain": [
       "<matplotlib.figure.Figure at 0x1093c0940>"
      ]
     },
     "metadata": {},
     "output_type": "display_data"
    }
   ],
   "source": [
    "###  random forest  ###\n",
    "R_range = range(1,30)\n",
    "R_scores = []\n",
    "for R in R_range:\n",
    "\n",
    "    RDF = RF(n_estimators=k)\n",
    "    scores = cross_val_score(RDF, X_train, y_train, cv=10, scoring='accuracy')\n",
    "    R_scores.append(scores.mean())\n",
    "plot(R_range, R_scores)"
   ]
  },
  {
   "cell_type": "code",
   "execution_count": null,
   "metadata": {
    "collapsed": true
   },
   "outputs": [],
   "source": []
  }
 ],
 "metadata": {
  "kernelspec": {
   "display_name": "Python 3",
   "language": "python",
   "name": "python3"
  },
  "language_info": {
   "codemirror_mode": {
    "name": "ipython",
    "version": 3
   },
   "file_extension": ".py",
   "mimetype": "text/x-python",
   "name": "python",
   "nbconvert_exporter": "python",
   "pygments_lexer": "ipython3",
   "version": "3.4.4"
  }
 },
 "nbformat": 4,
 "nbformat_minor": 0
}
