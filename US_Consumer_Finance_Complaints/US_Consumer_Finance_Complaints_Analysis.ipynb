{
 "cells": [
  {
   "cell_type": "code",
   "execution_count": 13,
   "metadata": {
    "collapsed": false
   },
   "outputs": [
    {
     "name": "stdout",
     "output_type": "stream",
     "text": [
      "Populating the interactive namespace from numpy and matplotlib\n"
     ]
    },
    {
     "name": "stderr",
     "output_type": "stream",
     "text": [
      "/Users/GGV/anaconda/envs/GGV_DASH/lib/python3.4/site-packages/IPython/html.py:14: ShimWarning: The `IPython.html` package has been deprecated. You should import from `notebook` instead. `IPython.html.widgets` has moved to `ipywidgets`.\n",
      "  \"`IPython.html.widgets` has moved to `ipywidgets`.\", ShimWarning)\n"
     ]
    }
   ],
   "source": [
    "#ref : https://docs.python.org/2/library/sqlite3.html\n",
    "#ref : http://www.datacarpentry.org/python-ecology-lesson/08-working-with-sql\n",
    "\n",
    "import sqlite3\n",
    "import datetime as dt   \n",
    "import time\n",
    "import csv\n",
    "import requests\n",
    "import pandas as pd, numpy as np\n",
    "import pprint\n",
    "import matplotlib.pyplot as plt\n",
    "import seaborn as sns\n",
    "%pylab inline"
   ]
  },
  {
   "cell_type": "code",
   "execution_count": 3,
   "metadata": {
    "collapsed": true
   },
   "outputs": [],
   "source": [
    "# helper functions\n",
    "\n",
    "def sqlite_test():\n",
    "\ttry:\n",
    "\t\tconn = sqlite3.connect('/Users/GGV/Desktop/US_Consumer_Finance_Complaints.db')\n",
    "\t\tc = conn.cursor()\n",
    "\t\tquery = \"select * from consumer_complaints limit 10 ;\"\n",
    "\t\tdf = pd.read_sql_query(query, conn)\n",
    "\t\tprint (df)\n",
    "\t\tprint (\"Sqlite connect OK\")\n",
    "\texcept:\n",
    "\t\tprint (\"Sqlite connect failed\")\n",
    "\n",
    "\n",
    "\n",
    "\n",
    "def sqlite_query_df(query):\n",
    "\ttry:\n",
    "\t\tconn = sqlite3.connect('/Users/GGV/Desktop/US_Consumer_Finance_Complaints.db')\n",
    "\t\tc = conn.cursor()\n",
    "\t\tdf = pd.read_sql_query(query, conn)\n",
    "\t\tprint (\"Sqlite connect OK\")\n",
    "\t\treturn df \n",
    "\texcept:\n",
    "\t\tprint (\"Sqlite connect failed\")"
   ]
  },
  {
   "cell_type": "code",
   "execution_count": 7,
   "metadata": {
    "collapsed": false
   },
   "outputs": [
    {
     "name": "stdout",
     "output_type": "stream",
     "text": [
      "Sqlite connect OK\n"
     ]
    }
   ],
   "source": [
    "df =sqlite_query_df(\"select * from consumer_complaints ;\" )"
   ]
  },
  {
   "cell_type": "code",
   "execution_count": 8,
   "metadata": {
    "collapsed": false
   },
   "outputs": [
    {
     "name": "stdout",
     "output_type": "stream",
     "text": [
      "<class 'pandas.core.frame.DataFrame'>\n",
      "RangeIndex: 555957 entries, 0 to 555956\n",
      "Data columns (total 18 columns):\n",
      "date_received                   555957 non-null object\n",
      "product                         555957 non-null object\n",
      "sub_product                     397635 non-null object\n",
      "issue                           555957 non-null object\n",
      "sub_issue                       212622 non-null object\n",
      "consumer_complaint_narrative    66806 non-null object\n",
      "company_public_response         85124 non-null object\n",
      "company                         555957 non-null object\n",
      "state                           551070 non-null object\n",
      "zipcode                         551452 non-null object\n",
      "tags                            77959 non-null object\n",
      "consumer_consent_provided       123458 non-null object\n",
      "submitted_via                   555957 non-null object\n",
      "date_sent_to_company            555957 non-null object\n",
      "company_response_to_consumer    555957 non-null object\n",
      "timely_response                 555957 non-null object\n",
      "consumer_disputed?              555957 non-null object\n",
      "complaint_id                    555957 non-null int64\n",
      "dtypes: int64(1), object(17)\n",
      "memory usage: 76.3+ MB\n"
     ]
    }
   ],
   "source": [
    "df.info()"
   ]
  },
  {
   "cell_type": "code",
   "execution_count": 9,
   "metadata": {
    "collapsed": false
   },
   "outputs": [
    {
     "data": {
      "text/html": [
       "<div>\n",
       "<table border=\"1\" class=\"dataframe\">\n",
       "  <thead>\n",
       "    <tr style=\"text-align: right;\">\n",
       "      <th></th>\n",
       "      <th>date_received</th>\n",
       "      <th>product</th>\n",
       "      <th>sub_product</th>\n",
       "      <th>issue</th>\n",
       "      <th>sub_issue</th>\n",
       "      <th>consumer_complaint_narrative</th>\n",
       "      <th>company_public_response</th>\n",
       "      <th>company</th>\n",
       "      <th>state</th>\n",
       "      <th>zipcode</th>\n",
       "      <th>tags</th>\n",
       "      <th>consumer_consent_provided</th>\n",
       "      <th>submitted_via</th>\n",
       "      <th>date_sent_to_company</th>\n",
       "      <th>company_response_to_consumer</th>\n",
       "      <th>timely_response</th>\n",
       "      <th>consumer_disputed?</th>\n",
       "      <th>complaint_id</th>\n",
       "    </tr>\n",
       "  </thead>\n",
       "  <tbody>\n",
       "    <tr>\n",
       "      <th>0</th>\n",
       "      <td>08/30/2013</td>\n",
       "      <td>Mortgage</td>\n",
       "      <td>Other mortgage</td>\n",
       "      <td>Loan modification,collection,foreclosure</td>\n",
       "      <td>None</td>\n",
       "      <td>None</td>\n",
       "      <td>None</td>\n",
       "      <td>U.S. Bancorp</td>\n",
       "      <td>CA</td>\n",
       "      <td>95993</td>\n",
       "      <td>None</td>\n",
       "      <td>None</td>\n",
       "      <td>Referral</td>\n",
       "      <td>09/03/2013</td>\n",
       "      <td>Closed with explanation</td>\n",
       "      <td>Yes</td>\n",
       "      <td>Yes</td>\n",
       "      <td>511074</td>\n",
       "    </tr>\n",
       "    <tr>\n",
       "      <th>1</th>\n",
       "      <td>08/30/2013</td>\n",
       "      <td>Mortgage</td>\n",
       "      <td>Other mortgage</td>\n",
       "      <td>Loan servicing, payments, escrow account</td>\n",
       "      <td>None</td>\n",
       "      <td>None</td>\n",
       "      <td>None</td>\n",
       "      <td>Wells Fargo &amp; Company</td>\n",
       "      <td>CA</td>\n",
       "      <td>91104</td>\n",
       "      <td>None</td>\n",
       "      <td>None</td>\n",
       "      <td>Referral</td>\n",
       "      <td>09/03/2013</td>\n",
       "      <td>Closed with explanation</td>\n",
       "      <td>Yes</td>\n",
       "      <td>Yes</td>\n",
       "      <td>511080</td>\n",
       "    </tr>\n",
       "    <tr>\n",
       "      <th>2</th>\n",
       "      <td>08/30/2013</td>\n",
       "      <td>Credit reporting</td>\n",
       "      <td>None</td>\n",
       "      <td>Incorrect information on credit report</td>\n",
       "      <td>Account status</td>\n",
       "      <td>None</td>\n",
       "      <td>None</td>\n",
       "      <td>Wells Fargo &amp; Company</td>\n",
       "      <td>NY</td>\n",
       "      <td>11764</td>\n",
       "      <td>None</td>\n",
       "      <td>None</td>\n",
       "      <td>Postal mail</td>\n",
       "      <td>09/18/2013</td>\n",
       "      <td>Closed with explanation</td>\n",
       "      <td>Yes</td>\n",
       "      <td>No</td>\n",
       "      <td>510473</td>\n",
       "    </tr>\n",
       "  </tbody>\n",
       "</table>\n",
       "</div>"
      ],
      "text/plain": [
       "  date_received           product     sub_product  \\\n",
       "0    08/30/2013          Mortgage  Other mortgage   \n",
       "1    08/30/2013          Mortgage  Other mortgage   \n",
       "2    08/30/2013  Credit reporting            None   \n",
       "\n",
       "                                      issue       sub_issue  \\\n",
       "0  Loan modification,collection,foreclosure            None   \n",
       "1  Loan servicing, payments, escrow account            None   \n",
       "2    Incorrect information on credit report  Account status   \n",
       "\n",
       "  consumer_complaint_narrative company_public_response                company  \\\n",
       "0                         None                    None           U.S. Bancorp   \n",
       "1                         None                    None  Wells Fargo & Company   \n",
       "2                         None                    None  Wells Fargo & Company   \n",
       "\n",
       "  state zipcode  tags consumer_consent_provided submitted_via  \\\n",
       "0    CA   95993  None                      None      Referral   \n",
       "1    CA   91104  None                      None      Referral   \n",
       "2    NY   11764  None                      None   Postal mail   \n",
       "\n",
       "  date_sent_to_company company_response_to_consumer timely_response  \\\n",
       "0           09/03/2013      Closed with explanation             Yes   \n",
       "1           09/03/2013      Closed with explanation             Yes   \n",
       "2           09/18/2013      Closed with explanation             Yes   \n",
       "\n",
       "  consumer_disputed?  complaint_id  \n",
       "0                Yes        511074  \n",
       "1                Yes        511080  \n",
       "2                 No        510473  "
      ]
     },
     "execution_count": 9,
     "metadata": {},
     "output_type": "execute_result"
    }
   ],
   "source": [
    "df.head(3)"
   ]
  },
  {
   "cell_type": "code",
   "execution_count": 15,
   "metadata": {
    "collapsed": false
   },
   "outputs": [
    {
     "data": {
      "text/plain": [
       "<matplotlib.axes._subplots.AxesSubplot at 0x114c67390>"
      ]
     },
     "execution_count": 15,
     "metadata": {},
     "output_type": "execute_result"
    },
    {
     "data": {
      "image/png": "[encoded data removed]",
      "text/plain": [
       "<matplotlib.figure.Figure at 0x114d0c828>"
      ]
     },
     "metadata": {},
     "output_type": "display_data"
    }
   ],
   "source": [
    "df.groupby('company').count()['product'].plot(figsize=(20, 10))"
   ]
  },
  {
   "cell_type": "code",
   "execution_count": null,
   "metadata": {
    "collapsed": true
   },
   "outputs": [],
   "source": []
  }
 ],
 "metadata": {
  "kernelspec": {
   "display_name": "Python 3",
   "language": "python",
   "name": "python3"
  },
  "language_info": {
   "codemirror_mode": {
    "name": "ipython",
    "version": 3
   },
   "file_extension": ".py",
   "mimetype": "text/x-python",
   "name": "python",
   "nbconvert_exporter": "python",
   "pygments_lexer": "ipython3",
   "version": "3.4.4"
  }
 },
 "nbformat": 4,
 "nbformat_minor": 0
}
