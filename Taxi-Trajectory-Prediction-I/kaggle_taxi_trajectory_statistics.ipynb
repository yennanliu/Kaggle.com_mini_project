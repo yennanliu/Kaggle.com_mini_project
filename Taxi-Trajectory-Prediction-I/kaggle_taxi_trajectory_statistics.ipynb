{
 "cells": [
  {
   "cell_type": "markdown",
   "metadata": {},
   "source": [
    "# Quick overview "
   ]
  },
  {
   "cell_type": "markdown",
   "metadata": {},
   "source": [
    "from  https://www.kaggle.com/c/pkdd-15-predict-taxi-service-trajectory-i/data"
   ]
  },
  {
   "cell_type": "markdown",
   "metadata": {},
   "source": [
    "# Purpose:\n",
    "   - Do the quick analysis to get the overview understanding of the data\n",
    "   - Know the relations of all features, and output the hypothese for further analysis\n",
    "   - Prepare key parameters for modeling \n",
    "   \n",
    "# Summary    "
   ]
  },
  {
   "cell_type": "code",
   "execution_count": 38,
   "metadata": {
    "collapsed": false
   },
   "outputs": [
    {
     "name": "stdout",
     "output_type": "stream",
     "text": [
      "/Users/GGV\n"
     ]
    }
   ],
   "source": [
    "cd"
   ]
  },
  {
   "cell_type": "code",
   "execution_count": 39,
   "metadata": {
    "collapsed": false
   },
   "outputs": [
    {
     "name": "stdout",
     "output_type": "stream",
     "text": [
      "/Users/GGV/Desktop/kaggle_Taxi_Trajectry_Prediction\n"
     ]
    }
   ],
   "source": [
    "cd Desktop/kaggle_Taxi_Trajectry_Prediction"
   ]
  },
  {
   "cell_type": "code",
   "execution_count": 40,
   "metadata": {
    "collapsed": false
   },
   "outputs": [
    {
     "name": "stdout",
     "output_type": "stream",
     "text": [
      "Populating the interactive namespace from numpy and matplotlib\n"
     ]
    }
   ],
   "source": [
    "import pandas as pd, numpy as np\n",
    "from mpl_toolkits.basemap import Basemap\n",
    "%matplotlib inline\n",
    "%pylab inline\n",
    "import seaborn \n",
    "import json\n",
    "import folium\n",
    "from folium import plugins\n",
    "import zipfile\n",
    "import matplotlib as mpl\n",
    "import matplotlib.pyplot as plt"
   ]
  },
  {
   "cell_type": "markdown",
   "metadata": {},
   "source": [
    "# Getting data"
   ]
  },
  {
   "cell_type": "code",
   "execution_count": 41,
   "metadata": {
    "collapsed": true
   },
   "outputs": [],
   "source": [
    "df = pd.read_csv('taxi_train.csv')"
   ]
  },
  {
   "cell_type": "code",
   "execution_count": 42,
   "metadata": {
    "collapsed": false
   },
   "outputs": [
    {
     "name": "stdout",
     "output_type": "stream",
     "text": [
      "<class 'pandas.core.frame.DataFrame'>\n",
      "Int64Index: 1710670 entries, 0 to 1710669\n",
      "Data columns (total 9 columns):\n",
      "TRIP_ID         int64\n",
      "CALL_TYPE       object\n",
      "ORIGIN_CALL     float64\n",
      "ORIGIN_STAND    float64\n",
      "TAXI_ID         int64\n",
      "TIMESTAMP       int64\n",
      "DAY_TYPE        object\n",
      "MISSING_DATA    bool\n",
      "POLYLINE        object\n",
      "dtypes: bool(1), float64(2), int64(3), object(3)\n",
      "memory usage: 119.1+ MB\n"
     ]
    }
   ],
   "source": [
    "df.info()"
   ]
  },
  {
   "cell_type": "code",
   "execution_count": 43,
   "metadata": {
    "collapsed": false
   },
   "outputs": [
    {
     "data": {
      "text/html": [
       "<div>\n",
       "<table border=\"1\" class=\"dataframe\">\n",
       "  <thead>\n",
       "    <tr style=\"text-align: right;\">\n",
       "      <th></th>\n",
       "      <th>TRIP_ID</th>\n",
       "      <th>CALL_TYPE</th>\n",
       "      <th>ORIGIN_CALL</th>\n",
       "      <th>ORIGIN_STAND</th>\n",
       "      <th>TAXI_ID</th>\n",
       "      <th>TIMESTAMP</th>\n",
       "      <th>DAY_TYPE</th>\n",
       "      <th>MISSING_DATA</th>\n",
       "      <th>POLYLINE</th>\n",
       "    </tr>\n",
       "  </thead>\n",
       "  <tbody>\n",
       "    <tr>\n",
       "      <th>0</th>\n",
       "      <td>1372636858620000589</td>\n",
       "      <td>C</td>\n",
       "      <td>NaN</td>\n",
       "      <td>NaN</td>\n",
       "      <td>20000589</td>\n",
       "      <td>1372636858</td>\n",
       "      <td>A</td>\n",
       "      <td>False</td>\n",
       "      <td>[[-8.618643,41.141412],[-8.618499,41.141376],[...</td>\n",
       "    </tr>\n",
       "    <tr>\n",
       "      <th>1</th>\n",
       "      <td>1372637303620000596</td>\n",
       "      <td>B</td>\n",
       "      <td>NaN</td>\n",
       "      <td>7</td>\n",
       "      <td>20000596</td>\n",
       "      <td>1372637303</td>\n",
       "      <td>A</td>\n",
       "      <td>False</td>\n",
       "      <td>[[-8.639847,41.159826],[-8.640351,41.159871],[...</td>\n",
       "    </tr>\n",
       "    <tr>\n",
       "      <th>2</th>\n",
       "      <td>1372636951620000320</td>\n",
       "      <td>C</td>\n",
       "      <td>NaN</td>\n",
       "      <td>NaN</td>\n",
       "      <td>20000320</td>\n",
       "      <td>1372636951</td>\n",
       "      <td>A</td>\n",
       "      <td>False</td>\n",
       "      <td>[[-8.612964,41.140359],[-8.613378,41.14035],[-...</td>\n",
       "    </tr>\n",
       "    <tr>\n",
       "      <th>3</th>\n",
       "      <td>1372636854620000520</td>\n",
       "      <td>C</td>\n",
       "      <td>NaN</td>\n",
       "      <td>NaN</td>\n",
       "      <td>20000520</td>\n",
       "      <td>1372636854</td>\n",
       "      <td>A</td>\n",
       "      <td>False</td>\n",
       "      <td>[[-8.574678,41.151951],[-8.574705,41.151942],[...</td>\n",
       "    </tr>\n",
       "    <tr>\n",
       "      <th>4</th>\n",
       "      <td>1372637091620000337</td>\n",
       "      <td>C</td>\n",
       "      <td>NaN</td>\n",
       "      <td>NaN</td>\n",
       "      <td>20000337</td>\n",
       "      <td>1372637091</td>\n",
       "      <td>A</td>\n",
       "      <td>False</td>\n",
       "      <td>[[-8.645994,41.18049],[-8.645949,41.180517],[-...</td>\n",
       "    </tr>\n",
       "  </tbody>\n",
       "</table>\n",
       "</div>"
      ],
      "text/plain": [
       "               TRIP_ID CALL_TYPE  ORIGIN_CALL  ORIGIN_STAND   TAXI_ID  \\\n",
       "0  1372636858620000589         C          NaN           NaN  20000589   \n",
       "1  1372637303620000596         B          NaN             7  20000596   \n",
       "2  1372636951620000320         C          NaN           NaN  20000320   \n",
       "3  1372636854620000520         C          NaN           NaN  20000520   \n",
       "4  1372637091620000337         C          NaN           NaN  20000337   \n",
       "\n",
       "    TIMESTAMP DAY_TYPE MISSING_DATA  \\\n",
       "0  1372636858        A        False   \n",
       "1  1372637303        A        False   \n",
       "2  1372636951        A        False   \n",
       "3  1372636854        A        False   \n",
       "4  1372637091        A        False   \n",
       "\n",
       "                                            POLYLINE  \n",
       "0  [[-8.618643,41.141412],[-8.618499,41.141376],[...  \n",
       "1  [[-8.639847,41.159826],[-8.640351,41.159871],[...  \n",
       "2  [[-8.612964,41.140359],[-8.613378,41.14035],[-...  \n",
       "3  [[-8.574678,41.151951],[-8.574705,41.151942],[...  \n",
       "4  [[-8.645994,41.18049],[-8.645949,41.180517],[-...  "
      ]
     },
     "execution_count": 43,
     "metadata": {},
     "output_type": "execute_result"
    }
   ],
   "source": [
    "df.head()"
   ]
  },
  {
   "cell_type": "markdown",
   "metadata": {},
   "source": [
    "## Only keep the rows without missing data "
   ]
  },
  {
   "cell_type": "code",
   "execution_count": 44,
   "metadata": {
    "collapsed": false
   },
   "outputs": [],
   "source": [
    "df = df[df['MISSING_DATA'] == False]"
   ]
  },
  {
   "cell_type": "code",
   "execution_count": 45,
   "metadata": {
    "collapsed": false
   },
   "outputs": [],
   "source": [
    "df = df.reset_index()"
   ]
  },
  {
   "cell_type": "code",
   "execution_count": 46,
   "metadata": {
    "collapsed": false
   },
   "outputs": [
    {
     "data": {
      "text/html": [
       "<div>\n",
       "<table border=\"1\" class=\"dataframe\">\n",
       "  <thead>\n",
       "    <tr style=\"text-align: right;\">\n",
       "      <th></th>\n",
       "      <th>index</th>\n",
       "      <th>TRIP_ID</th>\n",
       "      <th>CALL_TYPE</th>\n",
       "      <th>ORIGIN_CALL</th>\n",
       "      <th>ORIGIN_STAND</th>\n",
       "      <th>TAXI_ID</th>\n",
       "      <th>TIMESTAMP</th>\n",
       "      <th>DAY_TYPE</th>\n",
       "      <th>MISSING_DATA</th>\n",
       "      <th>POLYLINE</th>\n",
       "    </tr>\n",
       "  </thead>\n",
       "  <tbody>\n",
       "    <tr>\n",
       "      <th>1710655</th>\n",
       "      <td>1710665</td>\n",
       "      <td>1404171463620000698</td>\n",
       "      <td>C</td>\n",
       "      <td>NaN</td>\n",
       "      <td>NaN</td>\n",
       "      <td>20000698</td>\n",
       "      <td>1404171463</td>\n",
       "      <td>A</td>\n",
       "      <td>False</td>\n",
       "      <td>[[-8.612469,41.14602],[-8.612487,41.145993],[-...</td>\n",
       "    </tr>\n",
       "    <tr>\n",
       "      <th>1710656</th>\n",
       "      <td>1710666</td>\n",
       "      <td>1404171367620000670</td>\n",
       "      <td>C</td>\n",
       "      <td>NaN</td>\n",
       "      <td>NaN</td>\n",
       "      <td>20000670</td>\n",
       "      <td>1404171367</td>\n",
       "      <td>A</td>\n",
       "      <td>False</td>\n",
       "      <td>[[-8.610138,41.140845],[-8.610174,41.140935],[...</td>\n",
       "    </tr>\n",
       "    <tr>\n",
       "      <th>1710657</th>\n",
       "      <td>1710667</td>\n",
       "      <td>1388745716620000264</td>\n",
       "      <td>C</td>\n",
       "      <td>NaN</td>\n",
       "      <td>NaN</td>\n",
       "      <td>20000264</td>\n",
       "      <td>1388745716</td>\n",
       "      <td>A</td>\n",
       "      <td>False</td>\n",
       "      <td>[]</td>\n",
       "    </tr>\n",
       "    <tr>\n",
       "      <th>1710658</th>\n",
       "      <td>1710668</td>\n",
       "      <td>1404141826620000248</td>\n",
       "      <td>B</td>\n",
       "      <td>NaN</td>\n",
       "      <td>12</td>\n",
       "      <td>20000248</td>\n",
       "      <td>1404141826</td>\n",
       "      <td>A</td>\n",
       "      <td>False</td>\n",
       "      <td>[[-8.630712,41.154885],[-8.63073,41.154813],[-...</td>\n",
       "    </tr>\n",
       "    <tr>\n",
       "      <th>1710659</th>\n",
       "      <td>1710669</td>\n",
       "      <td>1404157147620000079</td>\n",
       "      <td>B</td>\n",
       "      <td>NaN</td>\n",
       "      <td>34</td>\n",
       "      <td>20000079</td>\n",
       "      <td>1404157147</td>\n",
       "      <td>A</td>\n",
       "      <td>False</td>\n",
       "      <td>[[-8.615538,41.140629],[-8.615421,41.140746],[...</td>\n",
       "    </tr>\n",
       "  </tbody>\n",
       "</table>\n",
       "</div>"
      ],
      "text/plain": [
       "           index              TRIP_ID CALL_TYPE  ORIGIN_CALL  ORIGIN_STAND  \\\n",
       "1710655  1710665  1404171463620000698         C          NaN           NaN   \n",
       "1710656  1710666  1404171367620000670         C          NaN           NaN   \n",
       "1710657  1710667  1388745716620000264         C          NaN           NaN   \n",
       "1710658  1710668  1404141826620000248         B          NaN            12   \n",
       "1710659  1710669  1404157147620000079         B          NaN            34   \n",
       "\n",
       "          TAXI_ID   TIMESTAMP DAY_TYPE MISSING_DATA  \\\n",
       "1710655  20000698  1404171463        A        False   \n",
       "1710656  20000670  1404171367        A        False   \n",
       "1710657  20000264  1388745716        A        False   \n",
       "1710658  20000248  1404141826        A        False   \n",
       "1710659  20000079  1404157147        A        False   \n",
       "\n",
       "                                                  POLYLINE  \n",
       "1710655  [[-8.612469,41.14602],[-8.612487,41.145993],[-...  \n",
       "1710656  [[-8.610138,41.140845],[-8.610174,41.140935],[...  \n",
       "1710657                                                 []  \n",
       "1710658  [[-8.630712,41.154885],[-8.63073,41.154813],[-...  \n",
       "1710659  [[-8.615538,41.140629],[-8.615421,41.140746],[...  "
      ]
     },
     "execution_count": 46,
     "metadata": {},
     "output_type": "execute_result"
    }
   ],
   "source": [
    "df.tail()"
   ]
  },
  {
   "cell_type": "raw",
   "metadata": {},
   "source": [
    "of all 1710670 data, 1710660 of them are complete, while 10 of them have something missing"
   ]
  },
  {
   "cell_type": "code",
   "execution_count": 47,
   "metadata": {
    "collapsed": false
   },
   "outputs": [
    {
     "data": {
      "text/html": [
       "<div>\n",
       "<table border=\"1\" class=\"dataframe\">\n",
       "  <thead>\n",
       "    <tr style=\"text-align: right;\">\n",
       "      <th></th>\n",
       "      <th>index</th>\n",
       "      <th>TRIP_ID</th>\n",
       "      <th>ORIGIN_CALL</th>\n",
       "      <th>ORIGIN_STAND</th>\n",
       "      <th>TAXI_ID</th>\n",
       "      <th>TIMESTAMP</th>\n",
       "      <th>MISSING_DATA</th>\n",
       "    </tr>\n",
       "  </thead>\n",
       "  <tbody>\n",
       "    <tr>\n",
       "      <th>count</th>\n",
       "      <td>1710660.000000</td>\n",
       "      <td>1.710660e+06</td>\n",
       "      <td>364769.000000</td>\n",
       "      <td>806576.000000</td>\n",
       "      <td>1710660.000000</td>\n",
       "      <td>1.710660e+06</td>\n",
       "      <td>1710660</td>\n",
       "    </tr>\n",
       "    <tr>\n",
       "      <th>mean</th>\n",
       "      <td>855335.382609</td>\n",
       "      <td>1.388622e+18</td>\n",
       "      <td>24490.403461</td>\n",
       "      <td>30.272320</td>\n",
       "      <td>20000348.530263</td>\n",
       "      <td>1.388622e+09</td>\n",
       "      <td>0</td>\n",
       "    </tr>\n",
       "    <tr>\n",
       "      <th>std</th>\n",
       "      <td>493828.277453</td>\n",
       "      <td>9.180948e+15</td>\n",
       "      <td>19624.301741</td>\n",
       "      <td>17.747814</td>\n",
       "      <td>211.239981</td>\n",
       "      <td>9.180948e+06</td>\n",
       "      <td>0</td>\n",
       "    </tr>\n",
       "    <tr>\n",
       "      <th>min</th>\n",
       "      <td>0.000000</td>\n",
       "      <td>1.372637e+18</td>\n",
       "      <td>2001.000000</td>\n",
       "      <td>1.000000</td>\n",
       "      <td>20000001.000000</td>\n",
       "      <td>1.372637e+09</td>\n",
       "      <td>False</td>\n",
       "    </tr>\n",
       "    <tr>\n",
       "      <th>25%</th>\n",
       "      <td>427667.750000</td>\n",
       "      <td>1.380731e+18</td>\n",
       "      <td>6593.000000</td>\n",
       "      <td>15.000000</td>\n",
       "      <td>20000166.000000</td>\n",
       "      <td>1.380731e+09</td>\n",
       "      <td>0</td>\n",
       "    </tr>\n",
       "    <tr>\n",
       "      <th>50%</th>\n",
       "      <td>855336.500000</td>\n",
       "      <td>1.388493e+18</td>\n",
       "      <td>18755.000000</td>\n",
       "      <td>27.000000</td>\n",
       "      <td>20000345.000000</td>\n",
       "      <td>1.388493e+09</td>\n",
       "      <td>0</td>\n",
       "    </tr>\n",
       "    <tr>\n",
       "      <th>75%</th>\n",
       "      <td>1283003.250000</td>\n",
       "      <td>1.396750e+18</td>\n",
       "      <td>40808.000000</td>\n",
       "      <td>49.000000</td>\n",
       "      <td>20000520.000000</td>\n",
       "      <td>1.396750e+09</td>\n",
       "      <td>0</td>\n",
       "    </tr>\n",
       "    <tr>\n",
       "      <th>max</th>\n",
       "      <td>1710669.000000</td>\n",
       "      <td>1.404173e+18</td>\n",
       "      <td>63884.000000</td>\n",
       "      <td>63.000000</td>\n",
       "      <td>20000981.000000</td>\n",
       "      <td>1.404173e+09</td>\n",
       "      <td>False</td>\n",
       "    </tr>\n",
       "  </tbody>\n",
       "</table>\n",
       "</div>"
      ],
      "text/plain": [
       "                index       TRIP_ID    ORIGIN_CALL   ORIGIN_STAND  \\\n",
       "count  1710660.000000  1.710660e+06  364769.000000  806576.000000   \n",
       "mean    855335.382609  1.388622e+18   24490.403461      30.272320   \n",
       "std     493828.277453  9.180948e+15   19624.301741      17.747814   \n",
       "min          0.000000  1.372637e+18    2001.000000       1.000000   \n",
       "25%     427667.750000  1.380731e+18    6593.000000      15.000000   \n",
       "50%     855336.500000  1.388493e+18   18755.000000      27.000000   \n",
       "75%    1283003.250000  1.396750e+18   40808.000000      49.000000   \n",
       "max    1710669.000000  1.404173e+18   63884.000000      63.000000   \n",
       "\n",
       "               TAXI_ID     TIMESTAMP MISSING_DATA  \n",
       "count   1710660.000000  1.710660e+06      1710660  \n",
       "mean   20000348.530263  1.388622e+09            0  \n",
       "std         211.239981  9.180948e+06            0  \n",
       "min    20000001.000000  1.372637e+09        False  \n",
       "25%    20000166.000000  1.380731e+09            0  \n",
       "50%    20000345.000000  1.388493e+09            0  \n",
       "75%    20000520.000000  1.396750e+09            0  \n",
       "max    20000981.000000  1.404173e+09        False  "
      ]
     },
     "execution_count": 47,
     "metadata": {},
     "output_type": "execute_result"
    }
   ],
   "source": [
    "df.describe()"
   ]
  },
  {
   "cell_type": "code",
   "execution_count": 48,
   "metadata": {
    "collapsed": false
   },
   "outputs": [
    {
     "data": {
      "text/plain": [
       "CALL_TYPE\n",
       "A    364769\n",
       "B    817878\n",
       "C    528013\n",
       "Name: TRIP_ID, dtype: int64"
      ]
     },
     "execution_count": 48,
     "metadata": {},
     "output_type": "execute_result"
    }
   ],
   "source": [
    "df.groupby('CALL_TYPE').count()['TRIP_ID']"
   ]
  },
  {
   "cell_type": "markdown",
   "metadata": {},
   "source": [
    "of all 1710670 orders, 47% are type \"B\" (orders were made on specific stands)\n",
    ",30% are type \"C\" (from random street), and 21% are type \"A\" (dispatched from call center)"
   ]
  },
  {
   "cell_type": "code",
   "execution_count": 51,
   "metadata": {
    "collapsed": false
   },
   "outputs": [
    {
     "data": {
      "text/html": [
       "<div>\n",
       "<table border=\"1\" class=\"dataframe\">\n",
       "  <thead>\n",
       "    <tr style=\"text-align: right;\">\n",
       "      <th></th>\n",
       "      <th>index</th>\n",
       "      <th>TRIP_ID</th>\n",
       "      <th>CALL_TYPE</th>\n",
       "      <th>ORIGIN_CALL</th>\n",
       "      <th>ORIGIN_STAND</th>\n",
       "      <th>TAXI_ID</th>\n",
       "      <th>TIMESTAMP</th>\n",
       "      <th>MISSING_DATA</th>\n",
       "      <th>POLYLINE</th>\n",
       "    </tr>\n",
       "    <tr>\n",
       "      <th>DAY_TYPE</th>\n",
       "      <th></th>\n",
       "      <th></th>\n",
       "      <th></th>\n",
       "      <th></th>\n",
       "      <th></th>\n",
       "      <th></th>\n",
       "      <th></th>\n",
       "      <th></th>\n",
       "      <th></th>\n",
       "    </tr>\n",
       "  </thead>\n",
       "  <tbody>\n",
       "    <tr>\n",
       "      <th>A</th>\n",
       "      <td>1710660</td>\n",
       "      <td>1710660</td>\n",
       "      <td>1710660</td>\n",
       "      <td>364769</td>\n",
       "      <td>806576</td>\n",
       "      <td>1710660</td>\n",
       "      <td>1710660</td>\n",
       "      <td>1710660</td>\n",
       "      <td>1710660</td>\n",
       "    </tr>\n",
       "  </tbody>\n",
       "</table>\n",
       "</div>"
      ],
      "text/plain": [
       "            index  TRIP_ID  CALL_TYPE  ORIGIN_CALL  ORIGIN_STAND  TAXI_ID  \\\n",
       "DAY_TYPE                                                                    \n",
       "A         1710660  1710660    1710660       364769        806576  1710660   \n",
       "\n",
       "          TIMESTAMP  MISSING_DATA  POLYLINE  \n",
       "DAY_TYPE                                     \n",
       "A           1710660       1710660   1710660  "
      ]
     },
     "execution_count": 51,
     "metadata": {},
     "output_type": "execute_result"
    }
   ],
   "source": [
    "df.groupby('DAY_TYPE').count()"
   ]
  },
  {
   "cell_type": "markdown",
   "metadata": {},
   "source": [
    "All of the orders are made in normal day, workday or weekend, but not holiday (DAY_TYPE\t=\"A\")"
   ]
  },
  {
   "cell_type": "code",
   "execution_count": 64,
   "metadata": {
    "collapsed": false
   },
   "outputs": [
    {
     "data": {
      "text/plain": [
       "448"
      ]
     },
     "execution_count": 64,
     "metadata": {},
     "output_type": "execute_result"
    }
   ],
   "source": [
    "len(set(df.TAXI_ID))"
   ]
  },
  {
   "cell_type": "markdown",
   "metadata": {},
   "source": [
    "448 taxi drivers made 1710660 rides in a year \n",
    "(from 01/07/2013 to 30/06/2014) "
   ]
  },
  {
   "cell_type": "code",
   "execution_count": 70,
   "metadata": {
    "collapsed": false
   },
   "outputs": [
    {
     "name": "stderr",
     "output_type": "stream",
     "text": [
      "/Users/GGV/anaconda/envs/GGV_DASH/lib/python3.4/site-packages/ipykernel/__main__.py:1: FutureWarning: sort(columns=....) is deprecated, use sort_values(by=.....)\n",
      "  if __name__ == '__main__':\n"
     ]
    },
    {
     "data": {
      "text/plain": [
       "TAXI_ID\n",
       "20000970        1\n",
       "20000940        1\n",
       "20000931        1\n",
       "20000264        2\n",
       "20000911        2\n",
       "20000980        5\n",
       "20000170       10\n",
       "20000941       16\n",
       "20000981       19\n",
       "20000969       61\n",
       "20000079      102\n",
       "20000585      298\n",
       "20000248      380\n",
       "20000312      585\n",
       "20000609      587\n",
       "20000185      676\n",
       "20000510      681\n",
       "20000579      766\n",
       "20000449      981\n",
       "20000902     1068\n",
       "20000072     1219\n",
       "20000545     1257\n",
       "20000535     1290\n",
       "20000205     1344\n",
       "20000315     1345\n",
       "20000071     1362\n",
       "20000121     1377\n",
       "20000225     1441\n",
       "20000407     1459\n",
       "20000586     1509\n",
       "            ...  \n",
       "20000320     6146\n",
       "20000648     6191\n",
       "20000199     6193\n",
       "20000686     6215\n",
       "20000367     6217\n",
       "20000171     6264\n",
       "20000450     6284\n",
       "20000233     6313\n",
       "20000140     6313\n",
       "20000263     6405\n",
       "20000235     6410\n",
       "20000179     6430\n",
       "20000325     6460\n",
       "20000042     6467\n",
       "20000304     6505\n",
       "20000372     6535\n",
       "20000678     6537\n",
       "20000616     6924\n",
       "20000529     6937\n",
       "20000492     7171\n",
       "20000424     7176\n",
       "20000089     7267\n",
       "20000621     7276\n",
       "20000307     7498\n",
       "20000129     7609\n",
       "20000483     7729\n",
       "20000364     7821\n",
       "20000066     8449\n",
       "20000403     9238\n",
       "20000080    10746\n",
       "Name: CALL_TYPE, dtype: int64"
      ]
     },
     "execution_count": 70,
     "metadata": {},
     "output_type": "execute_result"
    }
   ],
   "source": [
    " df.groupby('TAXI_ID').count().sort('CALL_TYPE')['CALL_TYPE']"
   ]
  },
  {
   "cell_type": "code",
   "execution_count": 68,
   "metadata": {
    "collapsed": false
   },
   "outputs": [
    {
     "data": {
      "text/plain": [
       "<matplotlib.axes._subplots.AxesSubplot at 0x11803be80>"
      ]
     },
     "execution_count": 68,
     "metadata": {},
     "output_type": "execute_result"
    },
    {
     "data": {
      "image/png": "[encoded data removed]",
      "text/plain": [
       "<matplotlib.figure.Figure at 0x1682c22b0>"
      ]
     },
     "metadata": {},
     "output_type": "display_data"
    }
   ],
   "source": [
    "df.groupby('TAXI_ID').count()['TRIP_ID'].plot()"
   ]
  },
  {
   "cell_type": "markdown",
   "metadata": {},
   "source": [
    "1. Most of the drivers made 1000+ rides in a year(averagely 3000+ rides) only 8 of the drives made less than 100 rides in a year \n",
    "2. Every drivers made 10+ rides averagely per day    "
   ]
  },
  {
   "cell_type": "code",
   "execution_count": 72,
   "metadata": {
    "collapsed": true
   },
   "outputs": [],
   "source": [
    "# create help function \n",
    "def data_pre_process(df):\n",
    "\tdf['TIMESTAMP'] = pd.to_datetime(df['TIMESTAMP'], unit='s')\n",
    "\tdf['year'] = df['TIMESTAMP'].map(lambda x: x.year)\n",
    "\tdf['month'] = df['TIMESTAMP'].map(lambda x: x.month)\n",
    "\tdf['day'] = df['TIMESTAMP'].map(lambda x: x.day)\n",
    "\tdf['week'] = df['TIMESTAMP'].map(lambda x: x.week)\n",
    "\tdf['hour'] = df['TIMESTAMP'].map(lambda x: x.hour)\n",
    "\tdf['minute'] = df['TIMESTAMP'].map(lambda x: x.minute)\n",
    "\tdf['second'] = df['TIMESTAMP'].map(lambda x: x.second)\n",
    "\tdf['POLYLINE'] = df['POLYLINE'].map(json.loads)\n",
    "\tdf['POLYLINE'] = df['POLYLINE'].map(np.array)\n",
    "\tdf['KNOWN_DURATION'] = df['POLYLINE'].map(len) * 15\n",
    "\treturn df"
   ]
  },
  {
   "cell_type": "markdown",
   "metadata": {},
   "source": [
    "## Extract date and time metrics from the timestamp"
   ]
  },
  {
   "cell_type": "code",
   "execution_count": 73,
   "metadata": {
    "collapsed": true
   },
   "outputs": [],
   "source": [
    "df_modified = data_pre_process(df)"
   ]
  },
  {
   "cell_type": "code",
   "execution_count": 74,
   "metadata": {
    "collapsed": false
   },
   "outputs": [
    {
     "data": {
      "text/html": [
       "<div>\n",
       "<table border=\"1\" class=\"dataframe\">\n",
       "  <thead>\n",
       "    <tr style=\"text-align: right;\">\n",
       "      <th></th>\n",
       "      <th>index</th>\n",
       "      <th>TRIP_ID</th>\n",
       "      <th>CALL_TYPE</th>\n",
       "      <th>ORIGIN_CALL</th>\n",
       "      <th>ORIGIN_STAND</th>\n",
       "      <th>TAXI_ID</th>\n",
       "      <th>TIMESTAMP</th>\n",
       "      <th>DAY_TYPE</th>\n",
       "      <th>MISSING_DATA</th>\n",
       "      <th>POLYLINE</th>\n",
       "      <th>year</th>\n",
       "      <th>month</th>\n",
       "      <th>day</th>\n",
       "      <th>week</th>\n",
       "      <th>hour</th>\n",
       "      <th>minute</th>\n",
       "      <th>second</th>\n",
       "      <th>KNOWN_DURATION</th>\n",
       "    </tr>\n",
       "  </thead>\n",
       "  <tbody>\n",
       "    <tr>\n",
       "      <th>0</th>\n",
       "      <td>0</td>\n",
       "      <td>1372636858620000589</td>\n",
       "      <td>C</td>\n",
       "      <td>NaN</td>\n",
       "      <td>NaN</td>\n",
       "      <td>20000589</td>\n",
       "      <td>2013-07-01 00:00:58</td>\n",
       "      <td>A</td>\n",
       "      <td>False</td>\n",
       "      <td>[[-8.618643, 41.141412], [-8.618499, 41.141376...</td>\n",
       "      <td>2013</td>\n",
       "      <td>7</td>\n",
       "      <td>1</td>\n",
       "      <td>27</td>\n",
       "      <td>0</td>\n",
       "      <td>0</td>\n",
       "      <td>58</td>\n",
       "      <td>345</td>\n",
       "    </tr>\n",
       "    <tr>\n",
       "      <th>1</th>\n",
       "      <td>1</td>\n",
       "      <td>1372637303620000596</td>\n",
       "      <td>B</td>\n",
       "      <td>NaN</td>\n",
       "      <td>7</td>\n",
       "      <td>20000596</td>\n",
       "      <td>2013-07-01 00:08:23</td>\n",
       "      <td>A</td>\n",
       "      <td>False</td>\n",
       "      <td>[[-8.639847, 41.159826], [-8.640351, 41.159871...</td>\n",
       "      <td>2013</td>\n",
       "      <td>7</td>\n",
       "      <td>1</td>\n",
       "      <td>27</td>\n",
       "      <td>0</td>\n",
       "      <td>8</td>\n",
       "      <td>23</td>\n",
       "      <td>285</td>\n",
       "    </tr>\n",
       "    <tr>\n",
       "      <th>2</th>\n",
       "      <td>2</td>\n",
       "      <td>1372636951620000320</td>\n",
       "      <td>C</td>\n",
       "      <td>NaN</td>\n",
       "      <td>NaN</td>\n",
       "      <td>20000320</td>\n",
       "      <td>2013-07-01 00:02:31</td>\n",
       "      <td>A</td>\n",
       "      <td>False</td>\n",
       "      <td>[[-8.612964, 41.140359], [-8.613378, 41.14035]...</td>\n",
       "      <td>2013</td>\n",
       "      <td>7</td>\n",
       "      <td>1</td>\n",
       "      <td>27</td>\n",
       "      <td>0</td>\n",
       "      <td>2</td>\n",
       "      <td>31</td>\n",
       "      <td>975</td>\n",
       "    </tr>\n",
       "    <tr>\n",
       "      <th>3</th>\n",
       "      <td>3</td>\n",
       "      <td>1372636854620000520</td>\n",
       "      <td>C</td>\n",
       "      <td>NaN</td>\n",
       "      <td>NaN</td>\n",
       "      <td>20000520</td>\n",
       "      <td>2013-07-01 00:00:54</td>\n",
       "      <td>A</td>\n",
       "      <td>False</td>\n",
       "      <td>[[-8.574678, 41.151951], [-8.574705, 41.151942...</td>\n",
       "      <td>2013</td>\n",
       "      <td>7</td>\n",
       "      <td>1</td>\n",
       "      <td>27</td>\n",
       "      <td>0</td>\n",
       "      <td>0</td>\n",
       "      <td>54</td>\n",
       "      <td>645</td>\n",
       "    </tr>\n",
       "    <tr>\n",
       "      <th>4</th>\n",
       "      <td>4</td>\n",
       "      <td>1372637091620000337</td>\n",
       "      <td>C</td>\n",
       "      <td>NaN</td>\n",
       "      <td>NaN</td>\n",
       "      <td>20000337</td>\n",
       "      <td>2013-07-01 00:04:51</td>\n",
       "      <td>A</td>\n",
       "      <td>False</td>\n",
       "      <td>[[-8.645994, 41.18049], [-8.645949, 41.180517]...</td>\n",
       "      <td>2013</td>\n",
       "      <td>7</td>\n",
       "      <td>1</td>\n",
       "      <td>27</td>\n",
       "      <td>0</td>\n",
       "      <td>4</td>\n",
       "      <td>51</td>\n",
       "      <td>435</td>\n",
       "    </tr>\n",
       "  </tbody>\n",
       "</table>\n",
       "</div>"
      ],
      "text/plain": [
       "   index              TRIP_ID CALL_TYPE  ORIGIN_CALL  ORIGIN_STAND   TAXI_ID  \\\n",
       "0      0  1372636858620000589         C          NaN           NaN  20000589   \n",
       "1      1  1372637303620000596         B          NaN             7  20000596   \n",
       "2      2  1372636951620000320         C          NaN           NaN  20000320   \n",
       "3      3  1372636854620000520         C          NaN           NaN  20000520   \n",
       "4      4  1372637091620000337         C          NaN           NaN  20000337   \n",
       "\n",
       "            TIMESTAMP DAY_TYPE MISSING_DATA  \\\n",
       "0 2013-07-01 00:00:58        A        False   \n",
       "1 2013-07-01 00:08:23        A        False   \n",
       "2 2013-07-01 00:02:31        A        False   \n",
       "3 2013-07-01 00:00:54        A        False   \n",
       "4 2013-07-01 00:04:51        A        False   \n",
       "\n",
       "                                            POLYLINE  year  month  day  week  \\\n",
       "0  [[-8.618643, 41.141412], [-8.618499, 41.141376...  2013      7    1    27   \n",
       "1  [[-8.639847, 41.159826], [-8.640351, 41.159871...  2013      7    1    27   \n",
       "2  [[-8.612964, 41.140359], [-8.613378, 41.14035]...  2013      7    1    27   \n",
       "3  [[-8.574678, 41.151951], [-8.574705, 41.151942...  2013      7    1    27   \n",
       "4  [[-8.645994, 41.18049], [-8.645949, 41.180517]...  2013      7    1    27   \n",
       "\n",
       "   hour  minute  second  KNOWN_DURATION  \n",
       "0     0       0      58             345  \n",
       "1     0       8      23             285  \n",
       "2     0       2      31             975  \n",
       "3     0       0      54             645  \n",
       "4     0       4      51             435  "
      ]
     },
     "execution_count": 74,
     "metadata": {},
     "output_type": "execute_result"
    }
   ],
   "source": [
    "df_modified.head()"
   ]
  },
  {
   "cell_type": "code",
   "execution_count": 79,
   "metadata": {
    "collapsed": false
   },
   "outputs": [
    {
     "data": {
      "text/plain": [
       "<matplotlib.text.Text at 0x127630710>"
      ]
     },
     "execution_count": 79,
     "metadata": {},
     "output_type": "execute_result"
    },
    {
     "data": {
      "image/png": "[encoded data removed]",
      "text/plain": [
       "<matplotlib.figure.Figure at 0x12b11c1d0>"
      ]
     },
     "metadata": {},
     "output_type": "display_data"
    }
   ],
   "source": [
    "df_modified.groupby('hour').count()['index'].plot(title='distribution of orders hourly')\n",
    "pyplot.xlabel('hour')\n",
    "pyplot.ylabel('# of orders')"
   ]
  },
  {
   "cell_type": "markdown",
   "metadata": {},
   "source": [
    "7 AM ~ 10 AM, and 1 PM are the time that most of taxi drivers are busy, whereas 0 AM~5 AM \n",
    "and after 5 PM are Off-season "
   ]
  },
  {
   "cell_type": "code",
   "execution_count": 89,
   "metadata": {
    "collapsed": false
   },
   "outputs": [
    {
     "data": {
      "text/plain": [
       "<matplotlib.text.Text at 0x1a54ecb00>"
      ]
     },
     "execution_count": 89,
     "metadata": {},
     "output_type": "execute_result"
    },
    {
     "data": {
      "image/png": "[encoded data removed]",
      "text/plain": [
       "<matplotlib.figure.Figure at 0x1a54db6d8>"
      ]
     },
     "metadata": {},
     "output_type": "display_data"
    }
   ],
   "source": [
    "df_modified[df_modified.CALL_TYPE=='A'].groupby('hour').count()['index'].plot(title='distribution of  call center orders hourly (type A)')\n",
    "pyplot.xlabel('hour')\n",
    "pyplot.ylabel('# of orders')"
   ]
  },
  {
   "cell_type": "code",
   "execution_count": 90,
   "metadata": {
    "collapsed": false
   },
   "outputs": [
    {
     "data": {
      "text/plain": [
       "<matplotlib.text.Text at 0x1a550f470>"
      ]
     },
     "execution_count": 90,
     "metadata": {},
     "output_type": "execute_result"
    },
    {
     "data": {
      "image/png": "[encoded data removed]",
      "text/plain": [
       "<matplotlib.figure.Figure at 0x1a5592c88>"
      ]
     },
     "metadata": {},
     "output_type": "display_data"
    }
   ],
   "source": [
    "df_modified[df_modified.CALL_TYPE=='B'].groupby('hour').count()['index'].plot(title='distribution of specific stands orders hourly (type B)')\n",
    "pyplot.xlabel('hour')\n",
    "pyplot.ylabel('# of orders')"
   ]
  },
  {
   "cell_type": "code",
   "execution_count": 91,
   "metadata": {
    "collapsed": false
   },
   "outputs": [
    {
     "data": {
      "text/plain": [
       "<matplotlib.text.Text at 0x1a54e24e0>"
      ]
     },
     "execution_count": 91,
     "metadata": {},
     "output_type": "execute_result"
    },
    {
     "data": {
      "image/png": "[encoded data removed]",
      "text/plain": [
       "<matplotlib.figure.Figure at 0x1a55ccb00>"
      ]
     },
     "metadata": {},
     "output_type": "display_data"
    }
   ],
   "source": [
    "df_modified[df_modified.CALL_TYPE=='C'].groupby('hour').count()['index'].plot(title='distribution of random street orders hourly (type C)')\n",
    "pyplot.xlabel('hour')\n",
    "pyplot.ylabel('# of orders')"
   ]
  },
  {
   "cell_type": "markdown",
   "metadata": {},
   "source": [
    "the peak of \"random street orders\" is in 4 AM which is different from type A and type B ,\n",
    "guess because of there are no subway/bus service at that time, so people can only take taxi but have no other choices"
   ]
  },
  {
   "cell_type": "code",
   "execution_count": 84,
   "metadata": {
    "collapsed": false
   },
   "outputs": [
    {
     "data": {
      "text/plain": [
       "<matplotlib.text.Text at 0x5f0595550>"
      ]
     },
     "execution_count": 84,
     "metadata": {},
     "output_type": "execute_result"
    },
    {
     "data": {
      "image/png": "[encoded data removed]",
      "text/plain": [
       "<matplotlib.figure.Figure at 0x4abec7048>"
      ]
     },
     "metadata": {},
     "output_type": "display_data"
    }
   ],
   "source": [
    "df_modified.groupby('month').count()['index'].plot(kind='bar',title='distribution of orders monthly')\n",
    "pyplot.xlabel('month')\n",
    "pyplot.ylabel('# of orders')"
   ]
  },
  {
   "cell_type": "markdown",
   "metadata": {},
   "source": [
    "amount of orders seem similar in  months"
   ]
  },
  {
   "cell_type": "code",
   "execution_count": null,
   "metadata": {
    "collapsed": true
   },
   "outputs": [],
   "source": []
  }
 ],
 "metadata": {
  "kernelspec": {
   "display_name": "Python 3",
   "language": "python",
   "name": "python3"
  },
  "language_info": {
   "codemirror_mode": {
    "name": "ipython",
    "version": 3
   },
   "file_extension": ".py",
   "mimetype": "text/x-python",
   "name": "python",
   "nbconvert_exporter": "python",
   "pygments_lexer": "ipython3",
   "version": "3.4.4"
  }
 },
 "nbformat": 4,
 "nbformat_minor": 0
}
