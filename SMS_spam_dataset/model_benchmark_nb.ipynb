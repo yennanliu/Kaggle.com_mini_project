{
 "cells": [
  {
   "cell_type": "code",
   "execution_count": 1,
   "metadata": {},
   "outputs": [],
   "source": [
    "# python 3 \n",
    "\n",
    "\"\"\"\n",
    "\n",
    "Credit \n",
    "\n",
    "https://wayinone.github.io/SMS\n",
    "https://www.kaggle.com/onlyshadow/spam-or-ham-7-machine-learning-tools-walk-through\n",
    "\n",
    "\"\"\" \n",
    "\n",
    "# OP \n",
    "import pandas as pd\n",
    "import numpy as np\n",
    "import re\n",
    "from nltk.tokenize import word_tokenize\n",
    "from nltk.stem import PorterStemmer\n",
    "from sklearn.feature_extraction.text import TfidfVectorizer\n",
    "import nltk\n",
    "#nltk.download()\n",
    "%matplotlib inline\n",
    "import string\n",
    "import matplotlib.pyplot as plt\n",
    "\n",
    "\n",
    "# ML \n",
    "\n",
    "from sklearn.feature_extraction.text import TfidfVectorizer\n",
    "from sklearn.model_selection import train_test_split\n",
    "from sklearn.metrics import accuracy_score,f1_score\n",
    "from sklearn.metrics import confusion_matrix\n",
    "from sklearn.model_selection import cross_val_score\n",
    "\n",
    "from sklearn.svm import SVC\n",
    "from sklearn.naive_bayes import GaussianNB\n",
    "from sklearn.tree import DecisionTreeClassifier\n",
    "from sklearn.linear_model import LogisticRegression\n",
    "from sklearn.ensemble import RandomForestClassifier\n",
    "from sklearn.ensemble import AdaBoostClassifier\n",
    "#import xgboost as xgb\n"
   ]
  },
  {
   "cell_type": "markdown",
   "metadata": {},
   "source": [
    "# 0) Data Process"
   ]
  },
  {
   "cell_type": "code",
   "execution_count": 2,
   "metadata": {},
   "outputs": [
    {
     "name": "stdout",
     "output_type": "stream",
     "text": [
      "        v1                                                 v2\n",
      "5567  spam  This is the 2nd time we have tried 2 contact u...\n",
      "5568   ham              Will Ì_ b going to esplanade fr home?\n",
      "5569   ham  Pity, * was in mood for that. So...any other s...\n",
      "5570   ham  The guy did some bitching but I acted like i'd...\n",
      "5571   ham                         Rofl. Its true to its name\n"
     ]
    }
   ],
   "source": [
    "df = pd.read_csv('spam.csv', encoding='latin-1')\n",
    "df = df.loc[:,['v1','v2']]\n",
    "print (df.tail(5))\n",
    "d={'spam':1,'ham':0}\n",
    "df.v1 = list(map(lambda x:d[x],df.v1))\n"
   ]
  },
  {
   "cell_type": "code",
   "execution_count": 3,
   "metadata": {},
   "outputs": [],
   "source": [
    "# HELP FUNC \n",
    "\n",
    "\n",
    "class stemmed_tfidf():\n",
    "    def __init__(self,max_features=5000):\n",
    "        self.ps = PorterStemmer()\n",
    "        self.vc = TfidfVectorizer(analyzer='word',#{‘word’, ‘char’}  Whether the feature should be made of word or character n-grams\n",
    "                             stop_words = 'english',\n",
    "                             max_features = max_features)\n",
    "    def tfidf(self,ListStr):\n",
    "        '''\n",
    "        return: sklearn.feature_extraction.text.TfidfVectorizer\n",
    "        '''\n",
    "        table = self.vc.fit_transform([self.stem_string(s) for s in ListStr])\n",
    "        return table\n",
    "    def stem_string(self,s):\n",
    "        '''\n",
    "        s:str, e.g. s = \"Get strings with string. With. Punctuation?\"\n",
    "        ps: stemmer from nltk module\n",
    "        return: bag of words.e.g. 'get string with string with punctuat'\n",
    "        '''    \n",
    "        s = re.sub(r'[^\\w\\s]',' ',s)# remove punctuation.\n",
    "        tokens = word_tokenize(s) # list of words.\n",
    "        #a = [w for w in tokens if not w in stopwords.words('english')]# remove common no meaning words\n",
    "        return ' '.join([self.ps.stem(w) for w in tokens])# e.g. 'desks'->'desk'"
   ]
  },
  {
   "cell_type": "code",
   "execution_count": 4,
   "metadata": {},
   "outputs": [],
   "source": [
    "stf = stemmed_tfidf()\n",
    "feature = stf.tfidf(df.v2) # this will be a sparse matrix of size (n,5000)"
   ]
  },
  {
   "cell_type": "code",
   "execution_count": 5,
   "metadata": {},
   "outputs": [
    {
     "name": "stdout",
     "output_type": "stream",
     "text": [
      "13.41 percent of data is spam: We have an inbalanced data set.\n"
     ]
    }
   ],
   "source": [
    "print('%2.2f percent of data is spam: We have an inbalanced data set.'%round(100*sum(df.v1)/len(df),2))"
   ]
  },
  {
   "cell_type": "code",
   "execution_count": 6,
   "metadata": {},
   "outputs": [],
   "source": [
    "Xtrain, Xtest, ytrain, ytest = train_test_split(feature, df.v1, test_size=0.2, random_state=1)"
   ]
  },
  {
   "cell_type": "code",
   "execution_count": 7,
   "metadata": {},
   "outputs": [],
   "source": [
    "Acc = {}\n",
    "F1score = {}\n",
    "confusion_mat={}\n",
    "predictions = {}"
   ]
  },
  {
   "cell_type": "markdown",
   "metadata": {},
   "source": [
    "# 1) ML model"
   ]
  },
  {
   "cell_type": "markdown",
   "metadata": {},
   "source": [
    "## 1-1) SVM"
   ]
  },
  {
   "cell_type": "code",
   "execution_count": 8,
   "metadata": {},
   "outputs": [],
   "source": [
    "val_scores = []\n",
    "listc = np.linspace(0.5,3,num=4)\n",
    "listgamma = np.linspace(0.5,3,num=4)\n",
    "kernel = ['rbf','sigmoid']# 'poly' is doing bad here, let's save some time.\n",
    "for v in kernel:\n",
    "    for c in listc:\n",
    "        for gamma in listgamma:\n",
    "            svc = SVC(kernel=v, C=c, gamma=gamma,class_weight='balanced')\n",
    "            #3. The “balanced” mode uses the values of y to automatically adjust weights inversely \n",
    "            #   proportional to class frequencies in the input data as n_samples / (n_classes * np.bincount(y))\n",
    "            scores = cross_val_score(svc, Xtrain, ytrain,scoring='f1')\n",
    "            val_scores.append([np.mean(scores),v, c,gamma])"
   ]
  },
  {
   "cell_type": "code",
   "execution_count": 9,
   "metadata": {},
   "outputs": [
    {
     "name": "stdout",
     "output_type": "stream",
     "text": [
      "The best scores happens on: [['sigmoid' '1.33333333333' '0.5']] , where F1 = ['0.921963729333']\n"
     ]
    }
   ],
   "source": [
    "val_scores = np.array(val_scores)\n",
    "print('The best scores happens on:',val_scores[val_scores[:,0]==max(val_scores[:,0]),1:],\n",
    "      ', where F1 =',val_scores[val_scores[:,0]==max(val_scores[:,0]),0])"
   ]
  },
  {
   "cell_type": "code",
   "execution_count": 10,
   "metadata": {},
   "outputs": [
    {
     "name": "stdout",
     "output_type": "stream",
     "text": [
      "The best scores happens on: [['sigmoid' '1.25' '0.825']] , where F1 = ['0.924973193278']\n"
     ]
    }
   ],
   "source": [
    "val_scores = []\n",
    "listc = np.linspace(0.5,2,num=5)\n",
    "listgamma = np.linspace(0.3,1,num=5)\n",
    "for c in listc:\n",
    "    for gamma in listgamma:\n",
    "        svc = SVC(kernel='sigmoid', C=c, gamma=gamma,class_weight='balanced')\n",
    "        scores = cross_val_score(svc, Xtrain, ytrain,scoring='f1')\n",
    "        val_scores.append([np.mean(scores),v, c,gamma])\n",
    "val_scores = np.array(val_scores)\n",
    "print('The best scores happens on:',val_scores[val_scores[:,0]==max(val_scores[:,0]),1:],\n",
    "      ', where F1 =',val_scores[val_scores[:,0]==max(val_scores[:,0]),0])"
   ]
  },
  {
   "cell_type": "code",
   "execution_count": 11,
   "metadata": {},
   "outputs": [
    {
     "name": "stdout",
     "output_type": "stream",
     "text": [
      "SVM: Accuracy=0.989, F1=0.957\n"
     ]
    }
   ],
   "source": [
    "name = 'SVM'\n",
    "svc = SVC(kernel='sigmoid', C=1.25, gamma=0.825,class_weight='balanced')\n",
    "svc.fit(Xtrain,ytrain)\n",
    "pred = svc.predict(Xtest.toarray())\n",
    "F1score[name]= f1_score(ytest,pred)\n",
    "Acc[name] = accuracy_score(ytest,pred)\n",
    "confusion_mat[name] = confusion_matrix(ytest,pred)\n",
    "predictions[name]=pred\n",
    "print(name+': Accuracy=%1.3f, F1=%1.3f'%(Acc[name],F1score[name]))"
   ]
  },
  {
   "cell_type": "markdown",
   "metadata": {},
   "source": [
    "## 1-2)  Naive Bayes"
   ]
  },
  {
   "cell_type": "code",
   "execution_count": 12,
   "metadata": {},
   "outputs": [
    {
     "data": {
      "text/plain": [
       "0.86008968609865466"
      ]
     },
     "execution_count": 12,
     "metadata": {},
     "output_type": "execute_result"
    }
   ],
   "source": [
    "GNB = GaussianNB()\n",
    "GNB.fit(Xtrain.toarray(), ytrain)# Since our Xtrain is a sparse matrix, need to use .toarray() to convert it to dense one.\n",
    "accuracy_score(ytest,GNB.predict(Xtest.toarray()))"
   ]
  },
  {
   "cell_type": "code",
   "execution_count": 13,
   "metadata": {},
   "outputs": [
    {
     "data": {
      "text/plain": [
       "array([[0, 1, 2, 2],\n",
       "       [0, 1, 0, 2]])"
      ]
     },
     "execution_count": 13,
     "metadata": {},
     "output_type": "execute_result"
    }
   ],
   "source": [
    "# example of multinominal Naive Bayes (MNB)\n",
    "np.digitize([[0.1,0.22,0.33,0.8],[0.1,0.22,0.05,0.8]],bins = [.15,.25])"
   ]
  },
  {
   "cell_type": "code",
   "execution_count": 14,
   "metadata": {},
   "outputs": [],
   "source": [
    "bins = [.2,.4,.6,.8] # so every feature will end up 0,1,2,3,4\n",
    "Xqtrain = np.digitize(Xtrain.toarray(),bins = bins)\n",
    "Xqtest = np.digitize(Xtest.toarray(),bins = bins)\n"
   ]
  },
  {
   "cell_type": "code",
   "execution_count": 15,
   "metadata": {},
   "outputs": [
    {
     "name": "stdout",
     "output_type": "stream",
     "text": [
      "The best scores happens on: [[ 0.27052632]] , where F1 = [ 0.93487703]\n"
     ]
    }
   ],
   "source": [
    "from sklearn.naive_bayes import MultinomialNB\n",
    "val_scores = []\n",
    "listalpha = np.linspace(0.01,1,num=20)\n",
    "for i in listalpha:\n",
    "    MNB = MultinomialNB(alpha=i)# alpha is Laplace smoothing parameter\n",
    "    scores = cross_val_score(MNB, Xtrain, ytrain,scoring='f1')\n",
    "    val_scores.append([np.mean(scores),i])\n",
    "val_scores = np.array(val_scores)\n",
    "print('The best scores happens on:',val_scores[val_scores[:,0]==max(val_scores[:,0]),1:],\n",
    "      ', where F1 =',val_scores[val_scores[:,0]==max(val_scores[:,0]),0])"
   ]
  },
  {
   "cell_type": "code",
   "execution_count": 16,
   "metadata": {},
   "outputs": [
    {
     "name": "stdout",
     "output_type": "stream",
     "text": [
      "MNB: Accuracy=0.987, F1=0.949\n"
     ]
    }
   ],
   "source": [
    "name = 'MNB'\n",
    "MNB = MultinomialNB(alpha=0.27052632)\n",
    "MNB.fit(Xtrain,ytrain)\n",
    "pred = MNB.predict(Xtest.toarray())\n",
    "F1score[name]= f1_score(ytest,pred)\n",
    "Acc[name] = accuracy_score(ytest,pred)\n",
    "confusion_mat[name] = confusion_matrix(ytest,pred)\n",
    "predictions[name]=pred\n",
    "print(name+': Accuracy=%1.3f, F1=%1.3f'%(Acc[name],F1score[name]))"
   ]
  },
  {
   "cell_type": "markdown",
   "metadata": {},
   "source": [
    "## 1-3) Decision Tree (DT)"
   ]
  },
  {
   "cell_type": "code",
   "execution_count": 17,
   "metadata": {},
   "outputs": [
    {
     "name": "stdout",
     "output_type": "stream",
     "text": [
      "The best scores happens on: [[ 4.]] , where F1 = [ 0.83111103]\n"
     ]
    }
   ],
   "source": [
    "val_scores = []\n",
    "for i in range(2,21):\n",
    "    DT = DecisionTreeClassifier(min_samples_split=i, random_state=1,class_weight='balanced')\n",
    "    scores = cross_val_score(DT, Xtrain, ytrain,scoring='f1')\n",
    "    val_scores.append([np.mean(scores),i])\n",
    "val_scores = np.array(val_scores)\n",
    "print('The best scores happens on:',val_scores[val_scores[:,0]==max(val_scores[:,0]),1:],\n",
    "      ', where F1 =',val_scores[val_scores[:,0]==max(val_scores[:,0]),0])"
   ]
  },
  {
   "cell_type": "code",
   "execution_count": 18,
   "metadata": {},
   "outputs": [
    {
     "name": "stdout",
     "output_type": "stream",
     "text": [
      "DT: Accuracy=0.968, F1=0.878\n"
     ]
    }
   ],
   "source": [
    "name = 'DT'\n",
    "bset_samples_split = int(val_scores[val_scores[:,0]==max(val_scores[:,0]),1:])\n",
    "DT = DecisionTreeClassifier(min_samples_split=bset_samples_split, random_state=1,class_weight='balanced')\n",
    "DT.fit(Xtrain,ytrain)\n",
    "pred = DT.predict(Xtest.toarray())\n",
    "F1score[name]= f1_score(ytest,pred)\n",
    "Acc[name] = accuracy_score(ytest,pred)\n",
    "confusion_mat[name] = confusion_matrix(ytest,pred)\n",
    "predictions[name]=pred\n",
    "print(name+': Accuracy=%1.3f, F1=%1.3f'%(Acc[name],F1score[name]))"
   ]
  },
  {
   "cell_type": "markdown",
   "metadata": {},
   "source": [
    "## 1-4) Logistic Regression"
   ]
  },
  {
   "cell_type": "code",
   "execution_count": 19,
   "metadata": {},
   "outputs": [
    {
     "name": "stdout",
     "output_type": "stream",
     "text": [
      "The best scores happens on: [['l2' '0.863157894737']] , where F1 = ['0.912843500453']\n"
     ]
    }
   ],
   "source": [
    "list_C = np.linspace(0.1,3,num=20)\n",
    "val_scores = []\n",
    "for p in ('l1','l2'):\n",
    "    for c in list_C:\n",
    "        LR = LogisticRegression(penalty=p,C=c,class_weight='balanced')\n",
    "        scores = cross_val_score(LR, Xtrain, ytrain,scoring='f1')\n",
    "        val_scores.append([np.mean(scores),p,c])\n",
    "val_scores = np.array(val_scores)\n",
    "print('The best scores happens on:',val_scores[val_scores[:,0]==max(val_scores[:,0]),1:],\n",
    "      ', where F1 =',val_scores[val_scores[:,0]==max(val_scores[:,0]),0])            \n"
   ]
  },
  {
   "cell_type": "code",
   "execution_count": 20,
   "metadata": {},
   "outputs": [
    {
     "data": {
      "text/plain": [
       "0.863157894737"
      ]
     },
     "execution_count": 20,
     "metadata": {},
     "output_type": "execute_result"
    }
   ],
   "source": [
    "float(val_scores[val_scores[:,0]==max(val_scores[:,0]),1:][0][1])"
   ]
  },
  {
   "cell_type": "code",
   "execution_count": 21,
   "metadata": {},
   "outputs": [
    {
     "name": "stdout",
     "output_type": "stream",
     "text": [
      "LR: Accuracy=0.987, F1=0.950\n"
     ]
    }
   ],
   "source": [
    "name = 'LR'\n",
    "best_l2_c = float(val_scores[val_scores[:,0]==max(val_scores[:,0]),1:][0][1])\n",
    "LR = LogisticRegression(penalty='l2',C=best_l2_c,class_weight='balanced')\n",
    "LR.fit(Xtrain,ytrain)\n",
    "pred = LR.predict(Xtest)\n",
    "F1score[name]= f1_score(ytest,pred)\n",
    "Acc[name] = accuracy_score(ytest,pred)\n",
    "confusion_mat[name] = confusion_matrix(ytest,pred)\n",
    "predictions[name]=pred\n",
    "print(name+': Accuracy=%1.3f, F1=%1.3f'%(Acc[name],F1score[name]))"
   ]
  },
  {
   "cell_type": "markdown",
   "metadata": {},
   "source": [
    "## 2-5) Random Forest"
   ]
  },
  {
   "cell_type": "code",
   "execution_count": 22,
   "metadata": {},
   "outputs": [
    {
     "name": "stdout",
     "output_type": "stream",
     "text": [
      "RF: Accuracy=0.988, F1=0.952\n"
     ]
    }
   ],
   "source": [
    "name = 'RF'\n",
    "RF = RandomForestClassifier(n_estimators =80,class_weight ='balanced')\n",
    "RF.fit(Xtrain,ytrain)\n",
    "pred = RF.predict(Xtest)\n",
    "F1score[name]= f1_score(ytest,pred)\n",
    "Acc[name] = accuracy_score(ytest,pred)\n",
    "confusion_mat[name] = confusion_matrix(ytest,pred)\n",
    "predictions[name]=pred\n",
    "print(name+': Accuracy=%1.3f, F1=%1.3f'%(Acc[name],F1score[name]))"
   ]
  },
  {
   "cell_type": "markdown",
   "metadata": {},
   "source": [
    "## 2-6)  Adaboost"
   ]
  },
  {
   "cell_type": "code",
   "execution_count": 23,
   "metadata": {},
   "outputs": [
    {
     "name": "stdout",
     "output_type": "stream",
     "text": [
      "AdaBoost: Accuracy=0.984, F1=0.932\n"
     ]
    }
   ],
   "source": [
    "name = 'AdaBoost'\n",
    "Ada = AdaBoostClassifier(n_estimators=80, random_state=1)\n",
    "Ada.fit(Xtrain,ytrain)\n",
    "pred = Ada.predict(Xtest)\n",
    "F1score[name]= f1_score(ytest,pred)\n",
    "Acc[name] = accuracy_score(ytest,pred)\n",
    "confusion_mat[name] = confusion_matrix(ytest,pred)\n",
    "predictions[name]=pred\n",
    "print(name+': Accuracy=%1.3f, F1=%1.3f'%(Acc[name],F1score[name]))"
   ]
  },
  {
   "cell_type": "markdown",
   "metadata": {},
   "source": [
    "## 2-7) Gradient Boost Machine"
   ]
  },
  {
   "cell_type": "code",
   "execution_count": 24,
   "metadata": {},
   "outputs": [
    {
     "name": "stdout",
     "output_type": "stream",
     "text": [
      "The best scores happens on: [[   6.    1.  201.]] , where accuracy = [ 0.02671167]\n"
     ]
    }
   ],
   "source": [
    "#  XGBoost, a faster and more efficient version of GBM.\n",
    "import xgboost as xgb\n",
    "\n",
    "\n",
    "data_tr  = xgb.DMatrix(Xtrain, label=ytrain)\n",
    "val_scores = []\n",
    "list_max_depth =[6,9,14]\n",
    "list_subsample = [0.8,1]\n",
    "for max_depth in list_max_depth:\n",
    "    for subsample in list_subsample:\n",
    "        parms = {'max_depth':max_depth, #maximum depth of a tree\n",
    "                 'objective':'binary:logistic',\n",
    "                 'eta'      :0.1,\n",
    "                 'subsample':subsample,#SGD will use this percentage of data\n",
    "                 'lambda '  :1.5, #L2 regularization term,>1 more conservative\n",
    "                 'colsample_bytree ':0.8,\n",
    "                 'nthread'  :3,\n",
    "                 'verbose' : 0}  #number of cpu core to use\n",
    "        result = xgb.cv(parms, data_tr, \n",
    "                            num_boost_round=1000,\n",
    "                            early_stopping_rounds=20,# early stop if cv result is not improving\n",
    "                            nfold=3,metrics=\"error\")\n",
    "        val_scores.append([result['test-error-mean'].iloc[-1],max_depth,subsample,len(result)-20])\n",
    "        #len(result) will be our num_boot_round in the test set\n",
    "val_scores = np.array(val_scores)\n",
    "print('The best scores happens on:',val_scores[val_scores[:,0]==min(val_scores[:,0]),1:],\n",
    "      ', where accuracy =',val_scores[val_scores[:,0]==min(val_scores[:,0]),0])"
   ]
  },
  {
   "cell_type": "code",
   "execution_count": 25,
   "metadata": {},
   "outputs": [],
   "source": [
    "data_tr  = xgb.DMatrix(Xtrain, label=ytrain)\n",
    "data_val  = xgb.DMatrix(Xtest, label=ytest)\n",
    "evallist = [(data_tr, 'train'), (data_val, 'test')]\n",
    "\n",
    "parms = {'max_depth':9, #maximum depth of a tree\n",
    "         'objective':'binary:logistic',\n",
    "         'eta'      :0.1,\n",
    "         'subsample':0.8,#SGD will use this percentage of data\n",
    "         'lambda '  :1.5, #L2 regularization term,>1 more conservative\n",
    "         'colsample_bytree ':0.8,\n",
    "         'nthread'  :3}  #number of cpu core to use\n",
    "\n",
    "GBM = xgb.train(parms, data_tr, num_boost_round=118, evals = evallist,\n",
    "                maximize=False, verbose_eval=False)"
   ]
  },
  {
   "cell_type": "code",
   "execution_count": 26,
   "metadata": {},
   "outputs": [
    {
     "name": "stdout",
     "output_type": "stream",
     "text": [
      "GBM: Accuracy=0.986, F1=0.942\n"
     ]
    }
   ],
   "source": [
    "name = 'GBM'\n",
    "pred = GBM.predict(xgb.DMatrix(Xtest)) # note that this is float value between 0 and 1. This is the probability of y=1.\n",
    "pred = [int(round(p)) for p in pred]\n",
    "F1score[name]= f1_score(ytest,pred)\n",
    "Acc[name] = accuracy_score(ytest,pred)\n",
    "confusion_mat[name] = confusion_matrix(ytest,pred)\n",
    "predictions[name]=pred\n",
    "print(name+': Accuracy=%1.3f, F1=%1.3f'%(Acc[name],F1score[name]))"
   ]
  },
  {
   "cell_type": "markdown",
   "metadata": {},
   "source": [
    "# 2) Comparison Between Models"
   ]
  },
  {
   "cell_type": "code",
   "execution_count": 27,
   "metadata": {},
   "outputs": [
    {
     "data": {
      "image/png": "[encoded data removed]",
      "text/plain": [
       "<Figure size 1152x360 with 2 Axes>"
      ]
     },
     "metadata": {},
     "output_type": "display_data"
    }
   ],
   "source": [
    "# F1 score \n",
    "\n",
    "\n",
    "Results = pd.DataFrame([v for v in Acc.values()], columns = ['Acc'],\n",
    "                    index = [k for k in Acc.keys()])\n",
    "Results = Results.assign(F1_score=[v for v in F1score.values()])\n",
    "\n",
    "fig = plt.figure(figsize=(16,5))\n",
    "ylim = [[0.96,1],[0.8,1]]\n",
    "x_offset = -0.35; y_offset = 0.001\n",
    "for i,(a,yl) in enumerate(zip(list(Results.keys()),ylim)):\n",
    "    plt.subplot(1,2,i+1)\n",
    "    Results[a].plot(kind='bar')\n",
    "    plt.ylabel(a); plt.ylim(yl)\n",
    "    for p in plt.gca().patches:\n",
    "        b = p.get_bbox()\n",
    "        val = \"{:1.4f}\".format(b.y1 + b.y0)        \n",
    "        plt.gca().annotate(val, ((b.x0 + b.x1)/2 + x_offset, b.y1 + y_offset))\n"
   ]
  },
  {
   "cell_type": "code",
   "execution_count": 28,
   "metadata": {},
   "outputs": [
    {
     "data": {
      "text/plain": [
       "{'AdaBoost': 0.98385650224215249,\n",
       " 'DT': 0.96771300448430497,\n",
       " 'GBM': 0.98565022421524662,\n",
       " 'LR': 0.98744394618834086,\n",
       " 'MNB': 0.98744394618834086,\n",
       " 'RF': 0.98834080717488793,\n",
       " 'SVM': 0.98923766816143499}"
      ]
     },
     "execution_count": 28,
     "metadata": {},
     "output_type": "execute_result"
    }
   ],
   "source": [
    "Acc"
   ]
  },
  {
   "cell_type": "code",
   "execution_count": 29,
   "metadata": {},
   "outputs": [
    {
     "data": {
      "text/html": [
       "<div>\n",
       "<style scoped>\n",
       "    .dataframe tbody tr th:only-of-type {\n",
       "        vertical-align: middle;\n",
       "    }\n",
       "\n",
       "    .dataframe tbody tr th {\n",
       "        vertical-align: top;\n",
       "    }\n",
       "\n",
       "    .dataframe thead th {\n",
       "        text-align: right;\n",
       "    }\n",
       "</style>\n",
       "<table border=\"1\" class=\"dataframe\">\n",
       "  <thead>\n",
       "    <tr style=\"text-align: right;\">\n",
       "      <th></th>\n",
       "      <th>Acc</th>\n",
       "      <th>F1_score</th>\n",
       "    </tr>\n",
       "  </thead>\n",
       "  <tbody>\n",
       "    <tr>\n",
       "      <th>SVM</th>\n",
       "      <td>0.989238</td>\n",
       "      <td>0.956835</td>\n",
       "    </tr>\n",
       "    <tr>\n",
       "      <th>RF</th>\n",
       "      <td>0.988341</td>\n",
       "      <td>0.952030</td>\n",
       "    </tr>\n",
       "    <tr>\n",
       "      <th>GBM</th>\n",
       "      <td>0.985650</td>\n",
       "      <td>0.942029</td>\n",
       "    </tr>\n",
       "    <tr>\n",
       "      <th>DT</th>\n",
       "      <td>0.967713</td>\n",
       "      <td>0.877551</td>\n",
       "    </tr>\n",
       "    <tr>\n",
       "      <th>AdaBoost</th>\n",
       "      <td>0.983857</td>\n",
       "      <td>0.932331</td>\n",
       "    </tr>\n",
       "    <tr>\n",
       "      <th>LR</th>\n",
       "      <td>0.987444</td>\n",
       "      <td>0.950000</td>\n",
       "    </tr>\n",
       "    <tr>\n",
       "      <th>MNB</th>\n",
       "      <td>0.987444</td>\n",
       "      <td>0.948905</td>\n",
       "    </tr>\n",
       "  </tbody>\n",
       "</table>\n",
       "</div>"
      ],
      "text/plain": [
       "               Acc  F1_score\n",
       "SVM       0.989238  0.956835\n",
       "RF        0.988341  0.952030\n",
       "GBM       0.985650  0.942029\n",
       "DT        0.967713  0.877551\n",
       "AdaBoost  0.983857  0.932331\n",
       "LR        0.987444  0.950000\n",
       "MNB       0.987444  0.948905"
      ]
     },
     "execution_count": 29,
     "metadata": {},
     "output_type": "execute_result"
    }
   ],
   "source": [
    "Results"
   ]
  },
  {
   "cell_type": "code",
   "execution_count": 30,
   "metadata": {},
   "outputs": [],
   "source": [
    "import itertools\n",
    "def plot_confusion_matrix(cm, classes,\n",
    "                          normalize=False,\n",
    "                          title='Confusion matrix',\n",
    "                          cmap=plt.cm.Blues):\n",
    "    \"\"\"\n",
    "    This function prints and plots the confusion matrix.\n",
    "    Normalization can be applied by setting `normalize=True`.\n",
    "    \"\"\"\n",
    "    plt.imshow(cm, interpolation='nearest', cmap=cmap)\n",
    "    plt.title(title)\n",
    "    #plt.colorbar()\n",
    "    tick_marks = np.arange(len(classes))\n",
    "    plt.xticks(tick_marks, classes, rotation=45)\n",
    "    plt.yticks(tick_marks, classes)\n",
    "\n",
    "    if normalize:\n",
    "        cm = cm.astype('float') / cm.sum(axis=1)[:, np.newaxis]\n",
    "    thresh = cm.max() / 2.\n",
    "    for i, j in itertools.product(range(cm.shape[0]), range(cm.shape[1])):\n",
    "        plt.text(j, i, round(cm[i, j],4),\n",
    "                 horizontalalignment=\"center\",\n",
    "                 color=\"white\" if cm[i, j] > thresh else \"black\")\n",
    "\n",
    "    plt.tight_layout();plt.ylabel('True label');plt.xlabel('Predicted label')"
   ]
  },
  {
   "cell_type": "code",
   "execution_count": 31,
   "metadata": {},
   "outputs": [
    {
     "data": {
      "image/png": "[encoded data removed]",
      "text/plain": [
       "<Figure size 1296x1152 with 7 Axes>"
      ]
     },
     "metadata": {},
     "output_type": "display_data"
    }
   ],
   "source": [
    "# confusion matrix \n",
    "\n",
    "fig = plt.figure(figsize=(18,16))\n",
    "i=1\n",
    "for key,val in confusion_mat.items():\n",
    "    plt.subplot(3,3,i);i+=1\n",
    "    plot_confusion_matrix(val, classes=['ham','spams'], normalize=False,\n",
    "                      title=key)\n"
   ]
  }
 ],
 "metadata": {
  "kernelspec": {
   "display_name": "Environment (conda_ds_dash)",
   "language": "python",
   "name": "conda_ds_dash"
  },
  "language_info": {
   "codemirror_mode": {
    "name": "ipython",
    "version": 3
   },
   "file_extension": ".py",
   "mimetype": "text/x-python",
   "name": "python",
   "nbconvert_exporter": "python",
   "pygments_lexer": "ipython3",
   "version": "3.5.4"
  }
 },
 "nbformat": 4,
 "nbformat_minor": 2
}
