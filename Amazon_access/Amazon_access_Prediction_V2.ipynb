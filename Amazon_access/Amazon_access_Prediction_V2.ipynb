{
 "cells": [
  {
   "cell_type": "markdown",
   "metadata": {},
   "source": [
    "## Column Descriptions\n",
    "\n",
    "\n",
    "> - ACTION:\tACTION is 1 if the resource was approved, 0 if the resource was not\n",
    "- RESOURCE:\tAn ID for each resource\n",
    "- MGR_ID :\tThe EMPLOYEE ID of the manager of the current EMPLOYEE ID record; an employee may have only one manager at a time\n",
    "- ROLE_ROLLUP_1\t:Company role grouping category id 1 (e.g. US Engineering)\n",
    "- ROLE_ROLLUP_2\t:Company role grouping category id 2 (e.g. US Retail)\n",
    "- ROLE_DEPTNAME\t:Company role department description (e.g. Retail)\n",
    "- ROLE_TITLE:\tCompany role business title description (e.g. Senior Engineering Retail Manager)\n",
    "- ROLE_FAMILY_DESC:\tCompany role family extended description (e.g. Retail Manager, Software Engineering)\n",
    "- ROLE_FAMILY:\tCompany role family description (e.g. Retail Manager)\n",
    "- ROLE_CODE : \tCompany role code; this code is unique to each role (e.g. Manager)\n",
    "\n",
    "\n",
    "##  ref :\n",
    "\n",
    "- http://www.chioka.in/kaggle-competition-solutions/\n",
    "- https://github.com/codelibra/Amazon-Employee-Access-Challenge/blob/master/Amazon-Employee-Access-Challenge.ipynb"
   ]
  },
  {
   "cell_type": "code",
   "execution_count": 1,
   "metadata": {},
   "outputs": [
    {
     "name": "stdout",
     "output_type": "stream",
     "text": [
      "Populating the interactive namespace from numpy and matplotlib\n"
     ]
    }
   ],
   "source": [
    "# Load basics library \n",
    "\n",
    "import pandas as pd, numpy as np\n",
    "%matplotlib inline\n",
    "%pylab inline\n",
    "import seaborn  as sns \n",
    "import pylab as pl\n",
    "import matplotlib.pyplot as plt"
   ]
  },
  {
   "cell_type": "code",
   "execution_count": 2,
   "metadata": {
    "collapsed": true
   },
   "outputs": [],
   "source": [
    "# load CSVs\n",
    "\n",
    "df_train = pd.read_csv('~/Kaggle.com_mini_project/Amazon_access/train.csv')\n",
    "df_test = pd.read_csv('~/Kaggle.com_mini_project/Amazon_access/test.csv')\n",
    "sampleSubmission = pd.read_csv('~/Kaggle.com_mini_project/Amazon_access/sampleSubmission.csv')"
   ]
  },
  {
   "cell_type": "code",
   "execution_count": 12,
   "metadata": {
    "collapsed": true
   },
   "outputs": [],
   "source": [
    "from sklearn.model_selection import cross_val_score, train_test_split\n",
    "from sklearn.metrics import mean_squared_error, r2_score, explained_variance_score, mean_absolute_error\n",
    "\n",
    "\n",
    "def sample_split(data):\n",
    "    #data =  data[selected_feature]\n",
    "    relevent_cols = list(data)\n",
    "    data_=data.values.astype(float)             \n",
    "    Y = data_[:,0]\n",
    "    X = data_[:,1:]\n",
    "    test_size = .3\n",
    "    X_train, X_test, y_train, y_test = train_test_split(X, Y, test_size=test_size, random_state = 3)\n",
    "    return X_train, X_test, y_train, y_test\n",
    "\n",
    "\n",
    "def reg_analysis(model, X_train, X_test, y_train, y_test):\n",
    "    model.fit(X_train, y_train)\n",
    "    prediction = model.predict(X_test)\n",
    "    #Calculate Variance score\n",
    "    Variance_score = explained_variance_score(y_test, prediction)\n",
    "    print ('Variance score : %.2f' %Variance_score)\n",
    "    #Mean Absolute Error\n",
    "    MAE = mean_absolute_error(y_test, prediction)\n",
    "    print ('Mean Absolute Error : %.2f' %MAE)\n",
    "    #Root Mean Squared Error\n",
    "    RMSE = mean_squared_error(y_test, prediction)**0.5\n",
    "    print ('Mean Squared Error : %.2f' %RMSE)\n",
    "    #R² score, the coefficient of determination\n",
    "    r2s = r2_score(y_test, prediction)\n",
    "    print ('R2  score : %.2f' %r2s)\n",
    "    return model"
   ]
  },
  {
   "cell_type": "code",
   "execution_count": 13,
   "metadata": {
    "collapsed": true
   },
   "outputs": [],
   "source": [
    "X_train, X_test, y_train, y_test = sample_split(df_train)"
   ]
  },
  {
   "cell_type": "code",
   "execution_count": null,
   "metadata": {
    "collapsed": true
   },
   "outputs": [],
   "source": []
  },
  {
   "cell_type": "markdown",
   "metadata": {
    "collapsed": true
   },
   "source": [
    "# In-balance data "
   ]
  },
  {
   "cell_type": "code",
   "execution_count": 8,
   "metadata": {},
   "outputs": [
    {
     "data": {
      "text/plain": [
       "1    30872\n",
       "0     1897\n",
       "Name: ACTION, dtype: int64"
      ]
     },
     "execution_count": 8,
     "metadata": {},
     "output_type": "execute_result"
    }
   ],
   "source": [
    "df_train.ACTION.value_counts()"
   ]
  },
  {
   "cell_type": "markdown",
   "metadata": {},
   "source": [
    "## 95% of train data are access approved (ACTION = 1)\n",
    "\n",
    "(only 5% not approved)\n",
    "```\n",
    "It's needed to resample train data for avoding \n",
    "1. type 1, type 2 error , \n",
    "2. predict all ACTION = 1  CAN get accuarcy ~= 95% anyway )\n",
    "\n",
    "## https://en.wikipedia.org/wiki/Type_I_and_type_II_errors\n",
    "\n",
    "```\n",
    "\n",
    "## Approaches : \n",
    "\n"
   ]
  },
  {
   "cell_type": "code",
   "execution_count": 23,
   "metadata": {},
   "outputs": [],
   "source": [
    "y = df_train['ACTION']\n",
    "X = df_train[df_train.columns.difference(['ACTION'])]"
   ]
  },
  {
   "cell_type": "markdown",
   "metadata": {},
   "source": [
    "### 1) Oversampleing "
   ]
  },
  {
   "cell_type": "code",
   "execution_count": 24,
   "metadata": {},
   "outputs": [],
   "source": [
    "from imblearn.over_sampling import RandomOverSampler\n",
    "\n",
    "\n",
    "# Generate the dataset\n",
    "X = X.as_matrix()\n",
    "y = y\n",
    "# Apply the random over-sampling\n",
    "ros = RandomOverSampler()\n",
    "X_oversampled, y_oversampled = ros.fit_sample(X, y)"
   ]
  },
  {
   "cell_type": "code",
   "execution_count": 39,
   "metadata": {},
   "outputs": [
    {
     "data": {
      "text/plain": [
       "1    30872\n",
       "0    30872\n",
       "Name: 0, dtype: int64"
      ]
     },
     "execution_count": 39,
     "metadata": {},
     "output_type": "execute_result"
    }
   ],
   "source": [
    "pd.DataFrame(y_oversampled)[0].value_counts()"
   ]
  },
  {
   "cell_type": "code",
   "execution_count": 53,
   "metadata": {
    "collapsed": true
   },
   "outputs": [],
   "source": [
    "X_train_overs, X_test_overs, y_train_overs, y_test_overs = \\\n",
    " train_test_split(X_oversampled, y_oversampled)"
   ]
  },
  {
   "cell_type": "code",
   "execution_count": 58,
   "metadata": {},
   "outputs": [
    {
     "name": "stdout",
     "output_type": "stream",
     "text": [
      "len of X_train_overs : 22938\n",
      "len of X_test_overs : 9831\n"
     ]
    }
   ],
   "source": [
    "print ('len of X_train_overs :', len(X_train_overs))\n",
    "\n",
    "print ('len of X_test_overs :', len(X_test_overs))"
   ]
  },
  {
   "cell_type": "markdown",
   "metadata": {},
   "source": [
    "### 2) Undersampling"
   ]
  },
  {
   "cell_type": "code",
   "execution_count": 26,
   "metadata": {},
   "outputs": [],
   "source": [
    "from imblearn.under_sampling import RandomUnderSampler \n",
    "# Generate the dataset\n",
    "#X = X.as_matrix()\n",
    "#y = y\n",
    "# Apply the random over-sampling\n",
    "ros = RandomUnderSampler()\n",
    "X_undersampled, y_undersampled = ros.fit_sample(X, y)"
   ]
  },
  {
   "cell_type": "code",
   "execution_count": 40,
   "metadata": {},
   "outputs": [
    {
     "data": {
      "text/plain": [
       "1    1897\n",
       "0    1897\n",
       "Name: 0, dtype: int64"
      ]
     },
     "execution_count": 40,
     "metadata": {},
     "output_type": "execute_result"
    }
   ],
   "source": [
    "pd.DataFrame(y_undersampled)[0].value_counts()"
   ]
  },
  {
   "cell_type": "code",
   "execution_count": 60,
   "metadata": {},
   "outputs": [],
   "source": [
    "X_train_unders, X_test_unders, y_train_unders, y_test_unders = \\\n",
    "train_test_split(X_undersampled, y_undersampled)"
   ]
  },
  {
   "cell_type": "code",
   "execution_count": 61,
   "metadata": {},
   "outputs": [
    {
     "name": "stdout",
     "output_type": "stream",
     "text": [
      "len of X_train_unders : 2845\n",
      "len of X_test_unders : 949\n"
     ]
    }
   ],
   "source": [
    "print ('len of X_train_unders :', len(X_train_unders))\n",
    "\n",
    "print ('len of X_test_unders :', len(X_test_unders))"
   ]
  },
  {
   "cell_type": "markdown",
   "metadata": {},
   "source": [
    "# ML"
   ]
  },
  {
   "cell_type": "code",
   "execution_count": 55,
   "metadata": {},
   "outputs": [
    {
     "data": {
      "text/plain": [
       "0.99954651464109878"
      ]
     },
     "execution_count": 55,
     "metadata": {},
     "output_type": "execute_result"
    }
   ],
   "source": [
    "# SVR \n",
    "\n",
    "from sklearn import svm\n",
    "clf_svr = svm.SVC()\n",
    "\n",
    "\n",
    "clf_svr.fit(X_train_overs,y_train_overs)\n",
    "clf_svr.predict(X_test_overs)\n",
    "clf_svr.score(X_test_overs,y_test_overs)"
   ]
  },
  {
   "cell_type": "code",
   "execution_count": 62,
   "metadata": {},
   "outputs": [
    {
     "data": {
      "text/plain": [
       "0.52054794520547942"
      ]
     },
     "execution_count": 62,
     "metadata": {},
     "output_type": "execute_result"
    }
   ],
   "source": [
    "# SVR \n",
    "\n",
    "from sklearn import svm\n",
    "clf_svr = svm.SVC()\n",
    "\n",
    "\n",
    "clf_svr.fit(X_train_unders,y_train_unders)\n",
    "clf_svr.predict(X_test_unders)\n",
    "clf_svr.score(X_test_unders,y_test_unders)"
   ]
  },
  {
   "cell_type": "code",
   "execution_count": null,
   "metadata": {
    "collapsed": true
   },
   "outputs": [],
   "source": []
  }
 ],
 "metadata": {
  "kernelspec": {
   "display_name": "Python 3",
   "language": "python",
   "name": "python3"
  },
  "language_info": {
   "codemirror_mode": {
    "name": "ipython",
    "version": 3
   },
   "file_extension": ".py",
   "mimetype": "text/x-python",
   "name": "python",
   "nbconvert_exporter": "python",
   "pygments_lexer": "ipython3",
   "version": "3.4.5"
  }
 },
 "nbformat": 4,
 "nbformat_minor": 2
}
